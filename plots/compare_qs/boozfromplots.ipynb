{
 "cells": [
  {
   "cell_type": "code",
   "execution_count": 1,
   "metadata": {},
   "outputs": [],
   "source": [
    "import pandas as pd\n",
    "import numpy as np\n",
    "import sys\n",
    "sys.path.append(\"/home/missinguser/CSE/single-stage-opt/hybrid_tokamak/laptop/\")\n",
    "import latexplot\n",
    "latexplot.set_cmap() \n",
    "from spec_rename import SpecRename\n",
    "\n",
    "from simsopt import mhd\n",
    "from simsopt import geo\n",
    "from simsopt import objectives\n",
    "import matplotlib.pyplot as plt\n",
    "\n",
    "import glob\n",
    "\n",
    "directories = {\n",
    "  \"QA_30\": \"../../freeb_high_aspect_combined\",\n",
    "  # \"QA_20\": \"../../freeb_12-11-16-48-29\",\n",
    "  \"QA_20\": \"../../freeb_01-02-01-27-47\",\n",
    "  \"QH_failed\": \"../../freeb_12-23-01-03-52\",\n",
    "  \"QA_20_fixb\": \"../../fixb_12-31-16-42-24\",\n",
    "               }"
   ]
  },
  {
   "cell_type": "code",
   "execution_count": 2,
   "metadata": {},
   "outputs": [],
   "source": [
    "def plot_booz_nofig(vmec, **kwargs):\n",
    "    import booz_xform\n",
    "    from matplotlib import cm\n",
    "    vmec.run()\n",
    "    sarr = [1.0]\n",
    "    print(\"aspect\", vmec.boundary.aspect_ratio())\n",
    "    mpol = kwargs.pop(\"mpol\", 32)\n",
    "    ntor = kwargs.pop(\"ntor\", 32)\n",
    "    boozer = mhd.Boozer(vmec, mpol, ntor)\n",
    "    boozer.register(sarr)\n",
    "    boozer.run()\n",
    "\n",
    "    if \"cmap\" not in kwargs:\n",
    "        kwargs[\"cmap\"] = cm.plasma\n",
    "    if \"fill\" not in kwargs:\n",
    "        kwargs[\"fill\"] = False\n",
    "\n",
    "    booz_xform.surfplot(boozer.bx, 0, **kwargs)\n",
    "\n",
    "\n",
    "def plot_booz_spec(filename, label=None):\n",
    "    if \"input.\" in filename: \n",
    "        vmec = mhd.Vmec(filename, verbose=False)\n",
    "        specf = filename.replace(\"input.\", \"\")\n",
    "    else:\n",
    "        vmec = mhd.Vmec(verbose=False)\n",
    "        vmec.indata.phiedge = 8e-3\n",
    "        with SpecRename(filename) as specf:\n",
    "            print(f\"renamed {filename} to {specf}\")\n",
    "            spec = mhd.Spec(specf, tolerance=1e-10, verbose=False)\n",
    "            vmec.boundary = spec.boundary.copy()\n",
    "            # vmec.boundary = geo.SurfaceRZFourier.from_vmec_input(specf)\n",
    "    plot_booz_nofig(vmec, ncontours=16)\n",
    "    label = label or filename\n",
    "    plt.title(label)"
   ]
  },
  {
   "cell_type": "code",
   "execution_count": 3,
   "metadata": {},
   "outputs": [],
   "source": [
    "\n",
    "import re\n",
    "import os\n",
    "def find_matching_end(directory):\n",
    "    # Regular expression to match the desired file pattern\n",
    "    pattern = re.compile(r'.*_000_\\d{6}\\.sp\\.end$')\n",
    "\n",
    "    # Get all files in the directory matching the pattern\n",
    "    matching_files = [os.path.join(directory, f) for f in os.listdir(directory) if pattern.match(f)]\n",
    "    return sorted(matching_files)\n",
    "\n",
    "\n",
    "def find_matching_input(directory):\n",
    "    # Regular expression to match the desired file pattern\n",
    "    pattern = re.compile(r'input\\..*_000_\\d{6}$')\n",
    "\n",
    "    # Get all files in the directory matching the pattern\n",
    "    matching_files = [os.path.join(directory, f) for f in os.listdir(directory) if pattern.match(f)]\n",
    "    return sorted(matching_files)\n",
    "\n",
    "def dof_from_mpol(mpol):\n",
    "    return mpol*(mpol*2+1)+mpol \n"
   ]
  },
  {
   "cell_type": "code",
   "execution_count": 4,
   "metadata": {},
   "outputs": [
    {
     "name": "stdout",
     "output_type": "stream",
     "text": [
      "../../freeb_high_aspect_combined/mpol1/rotating_ellipse_fb_low_000_000000.sp.end\n",
      "renamed ../../freeb_high_aspect_combined/mpol1/rotating_ellipse_fb_low_000_000000.sp.end to ../../freeb_high_aspect_combined/mpol1/rotating_ellipse_fb_low_000_000000.sp\n",
      "aspect 29.50917787893153\n",
      "renamed ../../freeb_high_aspect_combined/mpol1/rotating_ellipse_fb_low_000_000090.sp.end to ../../freeb_high_aspect_combined/mpol1/rotating_ellipse_fb_low_000_000090.sp\n",
      "aspect 29.24780539526665\n",
      "renamed ../../freeb_high_aspect_combined/mpol2/rotating_ellipse_fb_low_000_000103.sp.end to ../../freeb_high_aspect_combined/mpol2/rotating_ellipse_fb_low_000_000103.sp\n",
      "aspect 28.960727398244124\n",
      "renamed ../../freeb_high_aspect_combined/mpol3/rotating_ellipse_fb_low_000_000027.sp.end to ../../freeb_high_aspect_combined/mpol3/rotating_ellipse_fb_low_000_000027.sp\n",
      "aspect 29.159203685688016\n",
      "renamed ../../freeb_high_aspect_combined/mpol4/rotating_ellipse_fb_low_000_000164.sp.end to ../../freeb_high_aspect_combined/mpol4/rotating_ellipse_fb_low_000_000164.sp\n",
      "aspect 29.24576264829942\n",
      "renamed ../../freeb_high_aspect_combined/mpol5/rotating_ellipse_fb_low_000_000200_000_000004.sp.end to ../../freeb_high_aspect_combined/mpol5/rotating_ellipse_fb_low_000_000200_000_000004.sp\n",
      "aspect 19.609062427480758\n"
     ]
    },
    {
     "name": "stderr",
     "output_type": "stream",
     "text": [
      "/home/missinguser/CSE/single-stage-opt/hybrid_tokamak/laptop/latexplot.py:91: UserWarning: FigureCanvasPgf is non-interactive, and thus cannot be shown\n",
      "  plt.show()\n"
     ]
    },
    {
     "name": "stdout",
     "output_type": "stream",
     "text": [
      "../../freeb_01-02-01-27-47/mpol1/rotating_ellipse_fb_low_000_000000.sp.end\n",
      "renamed ../../freeb_01-02-01-27-47/mpol1/rotating_ellipse_fb_low_000_000000.sp.end to ../../freeb_01-02-01-27-47/mpol1/rotating_ellipse_fb_low_000_000000.sp\n",
      "aspect 19.77271270240201\n",
      "renamed ../../freeb_01-02-01-27-47/mpol1/rotating_ellipse_fb_low_000_000067.sp.end to ../../freeb_01-02-01-27-47/mpol1/rotating_ellipse_fb_low_000_000067.sp\n",
      "aspect 19.278196901570688\n",
      "renamed ../../freeb_01-02-01-27-47/mpol2/rotating_ellipse_fb_low_000_000222.sp.end to ../../freeb_01-02-01-27-47/mpol2/rotating_ellipse_fb_low_000_000222.sp\n",
      "aspect 19.79654515976074\n",
      "renamed ../../freeb_01-02-01-27-47/mpol3/rotating_ellipse_fb_low_000_000275.sp.end to ../../freeb_01-02-01-27-47/mpol3/rotating_ellipse_fb_low_000_000275.sp\n",
      "aspect 19.840249014883135\n",
      "renamed ../../freeb_01-02-01-27-47/mpol4/rotating_ellipse_fb_low_000_000398.sp.end to ../../freeb_01-02-01-27-47/mpol4/rotating_ellipse_fb_low_000_000398.sp\n",
      "aspect 19.817238089568875\n",
      "renamed ../../freeb_01-02-01-27-47/mpol5/rotating_ellipse_fb_low_000_000591.sp.end to ../../freeb_01-02-01-27-47/mpol5/rotating_ellipse_fb_low_000_000591.sp\n",
      "aspect 19.812124564208702\n"
     ]
    },
    {
     "name": "stderr",
     "output_type": "stream",
     "text": [
      "/home/missinguser/CSE/single-stage-opt/hybrid_tokamak/laptop/latexplot.py:91: UserWarning: FigureCanvasPgf is non-interactive, and thus cannot be shown\n",
      "  plt.show()\n"
     ]
    },
    {
     "name": "stdout",
     "output_type": "stream",
     "text": [
      "../../freeb_12-23-01-03-52/mpol1/rotating_ellipse_fb_low_000_000000.sp.end\n",
      "renamed ../../freeb_12-23-01-03-52/mpol1/rotating_ellipse_fb_low_000_000000.sp.end to ../../freeb_12-23-01-03-52/mpol1/rotating_ellipse_fb_low_000_000000.sp\n",
      "aspect 10.12419232880214\n",
      "renamed ../../freeb_12-23-01-03-52/mpol1/rotating_ellipse_fb_low_000_000082.sp.end to ../../freeb_12-23-01-03-52/mpol1/rotating_ellipse_fb_low_000_000082.sp\n",
      "aspect 10.095336003355145\n",
      "renamed ../../freeb_12-23-01-03-52/mpol2/rotating_ellipse_fb_low_000_000274.sp.end to ../../freeb_12-23-01-03-52/mpol2/rotating_ellipse_fb_low_000_000274.sp\n",
      "aspect 10.023484655366145\n",
      "renamed ../../freeb_12-23-01-03-52/mpol3/rotating_ellipse_fb_low_000_000696_000_000000.sp.end to ../../freeb_12-23-01-03-52/mpol3/rotating_ellipse_fb_low_000_000696_000_000000.sp\n",
      "aspect 10.034397045177046\n",
      "renamed ../../freeb_12-23-01-03-52/mpol4/rotating_ellipse_fb_low_000_000859.sp.end to ../../freeb_12-23-01-03-52/mpol4/rotating_ellipse_fb_low_000_000859.sp\n",
      "aspect 10.034578203372705\n",
      "renamed ../../freeb_12-23-01-03-52/mpol5/rotating_ellipse_fb_low_000_000917.sp.end to ../../freeb_12-23-01-03-52/mpol5/rotating_ellipse_fb_low_000_000917.sp\n",
      "aspect 10.041923794780823\n"
     ]
    },
    {
     "name": "stderr",
     "output_type": "stream",
     "text": [
      "/home/missinguser/CSE/single-stage-opt/hybrid_tokamak/laptop/latexplot.py:91: UserWarning: FigureCanvasPgf is non-interactive, and thus cannot be shown\n",
      "  plt.show()\n"
     ]
    },
    {
     "name": "stdout",
     "output_type": "stream",
     "text": [
      "../../fixb_12-31-16-42-24/mpol1/input.rot_ellipse_000_000000\n",
      "aspect 19.77258262965083\n",
      "aspect 19.43156746298171\n",
      "aspect 19.59578885672908\n",
      "aspect 19.59579683666826\n",
      "aspect 19.595783728213213\n",
      "aspect 19.595784875226006\n"
     ]
    },
    {
     "name": "stderr",
     "output_type": "stream",
     "text": [
      "/home/missinguser/CSE/single-stage-opt/hybrid_tokamak/laptop/latexplot.py:91: UserWarning: FigureCanvasPgf is non-interactive, and thus cannot be shown\n",
      "  plt.show()\n"
     ]
    }
   ],
   "source": [
    "\n",
    "for key, directory in directories.items():\n",
    "    subdirs = glob.glob(f\"{directory}/mpol*\")\n",
    "    subdirs = sorted(subdirs)\n",
    "\n",
    "    cols = 2\n",
    "    nrows = int(np.ceil((len(subdirs)+1)/cols))\n",
    "    fig, axs = plt.subplots(nrows, cols, figsize=latexplot.get_size(1, (nrows, cols)), sharex=True, sharey=True)    \n",
    "    axs = axs.flatten()\n",
    "    subplot = 0\n",
    "    plt.sca(axs[subplot])\n",
    "\n",
    "    if \"freeb\" in directory:\n",
    "        # Freeboundary\n",
    "        first_file = find_matching_end(subdirs[0])[0]\n",
    "        print(first_file)\n",
    "        plot_booz_spec(first_file, f\"$M=N=0$, DOFs=0\")\n",
    "    else:\n",
    "        first_file = find_matching_input(subdirs[0])[0]\n",
    "        print(first_file)\n",
    "        plot_booz_spec(first_file, f\"$M=N=0$, DOFs=0\")\n",
    "    plt.xlabel(\"\")\n",
    "    subplot += 1\n",
    "    for i, subdir in enumerate(subdirs):\n",
    "        plt.sca(axs[subplot])\n",
    "        res = int(subdir.split(\"mpol\")[-1])\n",
    "        if \"freeb\" in directory:\n",
    "            latest_file = find_matching_end(subdir)[-1]\n",
    "            plot_booz_spec(latest_file, f\"$M=N={res}$, DOFs={dof_from_mpol(res)}\")\n",
    "        else:\n",
    "            # Fixboundary\n",
    "            latest_file = find_matching_input(subdir)[-1]\n",
    "            plot_booz_spec(latest_file, f\"$M=N={res}$, DOFs={2*dof_from_mpol(res)}\")\n",
    "\n",
    "        if (i+1) <= nrows*(cols-1):\n",
    "            plt.xlabel(\"\")\n",
    "        if (i+1) % cols > 0:\n",
    "            plt.ylabel(\"\")\n",
    "        plt.gca().label_outer()\n",
    "        subplot += 1\n",
    "    pbasename = directory+\"/\"+key+\"_booz_forms\"\n",
    "    latexplot.savenshow(pbasename)\n",
    "    for filename in glob.glob(f\"{pbasename}*\"):\n",
    "        import subprocess\n",
    "        subprocess.check_call([\"mv\", filename, \"./\"])\n",
    "        "
   ]
  }
 ],
 "metadata": {
  "kernelspec": {
   "display_name": "spec_wrapper",
   "language": "python",
   "name": "python3"
  },
  "language_info": {
   "codemirror_mode": {
    "name": "ipython",
    "version": 3
   },
   "file_extension": ".py",
   "mimetype": "text/x-python",
   "name": "python",
   "nbconvert_exporter": "python",
   "pygments_lexer": "ipython3",
   "version": "3.10.15"
  }
 },
 "nbformat": 4,
 "nbformat_minor": 2
}
