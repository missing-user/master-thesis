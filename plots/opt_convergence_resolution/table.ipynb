{
 "cells": [
  {
   "cell_type": "code",
   "execution_count": 1,
   "metadata": {},
   "outputs": [],
   "source": [
    "import pandas as pd\n",
    "import numpy as np\n",
    "import sys\n",
    "sys.path.append(\"/home/missinguser/CSE/single-stage-opt/hybrid_tokamak/laptop/\")\n",
    "import latexplot\n",
    "latexplot.set_cmap() \n",
    "\n",
    "from simsopt import mhd\n",
    "from simsopt import geo\n",
    "from simsopt import objectives\n",
    "import matplotlib.pyplot as plt\n",
    "import glob\n",
    "import py_spec"
   ]
  },
  {
   "cell_type": "code",
   "execution_count": null,
   "metadata": {},
   "outputs": [],
   "source": [
    "# Directories with data\n",
    "directories = {\n",
    "    # \"rot_ell\": \"../../freeb_high_aspect_combined\",\n",
    "    # \"QA_20\": \"../../freeb_12-11-16-48-29\",\n",
    "    \n",
    "    \"rot_ell\": \"../../fixb_12-06-11-52-22\",\n",
    "    \"QA_20\": \"../../fixb_12-20-00-39-00\",\n",
    "}\n",
    "\n",
    "\n",
    "def get_results(surf, res):\n",
    "    # Vmec setup\n",
    "    vmec = mhd.Vmec(verbose=False)\n",
    "    vmec.boundary = surf\n",
    "    qs = mhd.QuasisymmetryRatioResidual(vmec, surfaces=np.linspace(0.1, 1, 16), helicity_m=1, helicity_n=0, ntheta=32, nphi=32)\n",
    "\n",
    "    # Compute quantities\n",
    "    mean_iota_diff = (vmec.mean_iota() - 0.4384346834911653) ** 2\n",
    "    f_qs = qs.total()\n",
    "    r0_diff = (surf.get_rc(0, 0) - 1.0) ** 2\n",
    "    return {\"Directory\": key, \"Resolution\": res, \"f_QS\": f_qs, \"Mean Iota Diff\": mean_iota_diff, \"R0 Diff\": r0_diff}\n",
    "\n",
    "# Collect results\n",
    "results = []\n",
    "for key, directory in directories.items():\n",
    "    subdirs = glob.glob(f\"{directory}/mpol*\")\n",
    "    subdirs[0]\n",
    "\n",
    "    if directory.startswith(\"freeb\"):\n",
    "        # Freeboundary\n",
    "        first_file = glob.glob(f\"{subdir}/*_000_000000.sp.h5\")[0]\n",
    "        \n",
    "        spec_output = py_spec.output.SPECout(first_file)\n",
    "        surf = mhd.Spec.pyspec_to_simsopt_surf(spec_output, 0)\n",
    "        results.append(get_results(surf, 0))\n",
    "    else:\n",
    "        first_file = glob.glob(f\"{subdirs[0]}/input*_000_000000\")[0]\n",
    "        results.append(get_results( geo.SurfaceRZFourier.from_vmec_input(first_file), 0))\n",
    "    print(first_file)\n",
    "    for subdir in subdirs:\n",
    "        res = int(subdir.split(\"mpol\")[-1])\n",
    "        if directory.startswith(\"freeb\"):\n",
    "            latest_file = max(glob.glob(f\"{subdir}/*_000_*.h5\"), key=lambda x: int(x.split(\"_\")[-1].split(\".\")[0]))\n",
    "            print(latest_file)\n",
    "            if latest_file.endswith(\".h5\"):\n",
    "                spec_output = py_spec.output.SPECout(latest_file)\n",
    "                surf = mhd.Spec.pyspec_to_simsopt_surf(spec_output, 0)\n",
    "\n",
    "                results.append(get_results(surf, res))\n",
    "        else:\n",
    "            # Fixboundary\n",
    "            latest_file = max(glob.glob(f\"{subdir}/input*_000_*\"), key=lambda x: int(x.split(\"_\")[-1]))\n",
    "            print(latest_file)\n",
    "            results.append(get_results( geo.SurfaceRZFourier.from_vmec_input(latest_file), res))\n",
    "\n",
    "# Convert to DataFrame\n",
    "df = pd.DataFrame(results)\n",
    "\n",
    "# Save as LaTeX table\n",
    "with open(\"results_table.tex\", \"w\") as f:\n",
    "    f.write(df.to_latex(index=False, float_format=\"%.6f\"))\n",
    "\n"
   ]
  },
  {
   "cell_type": "code",
   "execution_count": null,
   "metadata": {},
   "outputs": [],
   "source": [
    "\n",
    "# Plotting f_{QS} vs Resolution\n",
    "for directory in df[\"Directory\"].unique():\n",
    "    subdf = df[df[\"Directory\"] == directory].sort_values(by=\"Resolution\")\n",
    "    plt.semilogy(subdf[\"Resolution\"], subdf[\"f_QS\"], label=directory, marker=\"o\")  # Add marker for distinction\n",
    "\n",
    "plt.xlabel(\"Resolution\")\n",
    "plt.ylabel(\"$f_{QS}$\")\n",
    "plt.legend()\n",
    "latexplot.savenshow(\"f_qs_vs_resolution\")"
   ]
  },
  {
   "cell_type": "code",
   "execution_count": 4,
   "metadata": {},
   "outputs": [],
   "source": [
    "\n",
    "# Save as LaTeX table\n",
    "with open(\"results_table.tex\", \"w\") as f:\n",
    "    f.write(df.rename({\n",
    "        \"Directory\": \"Optimization run\",\n",
    "        \"Resolution\": \"Resolution\",\n",
    "        \"Mean Iota Diff\": \"$(\\iota - \\iota^*)^2$\",\n",
    "        \"f_QS\": \"$f_QS$\",\n",
    "        \"R0 Diff\": \"$(R_0 -R_0^*)^2$\"\n",
    "    }, axis=1).to_latex(index=False, float_format=\"%.6f\"))"
   ]
  },
  {
   "cell_type": "code",
   "execution_count": null,
   "metadata": {},
   "outputs": [],
   "source": [
    "df.rename({\n",
    "        \"Directory\": \"Optimization run\",\n",
    "        \"Resolution\": \"Resolution\",\n",
    "        \"Mean Iota Diff\": \"$(\\iota - \\iota^*)^2$\",\n",
    "        \"f_QS\": \"$f_QS$\",\n",
    "        \"R0 Diff\": \"$(R_0 -R_0^*)^2$\"\n",
    "    }, axis=1)"
   ]
  }
 ],
 "metadata": {
  "kernelspec": {
   "display_name": "spec_wrapper",
   "language": "python",
   "name": "python3"
  },
  "language_info": {
   "codemirror_mode": {
    "name": "ipython",
    "version": 3
   },
   "file_extension": ".py",
   "mimetype": "text/x-python",
   "name": "python",
   "nbconvert_exporter": "python",
   "pygments_lexer": "ipython3",
   "version": "3.10.15"
  }
 },
 "nbformat": 4,
 "nbformat_minor": 2
}
