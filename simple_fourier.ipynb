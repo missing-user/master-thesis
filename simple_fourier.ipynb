{
 "cells": [
  {
   "cell_type": "code",
   "execution_count": null,
   "metadata": {},
   "outputs": [],
   "source": [
    "from simsopt.geo import SurfaceRZFourier\n",
    "import numpy as np\n",
    "\n",
    "# File for the desired boundary magnetic surface:\n",
    "filename = \"tests/test_files/input.LandremanPaul2021_QA\" # \"tests/test_files/input.LandremanPaul2021_QH_reactorScale_lowres\"\n",
    "\n",
    "# Initialize the boundary magnetic surface:\n",
    "s = SurfaceRZFourier.from_vmec_input(filename, range=\"half period\")"
   ]
  },
  {
   "cell_type": "code",
   "execution_count": null,
   "metadata": {},
   "outputs": [],
   "source": [
    "%matplotlib inline\n",
    "import matplotlib.pyplot as plt\n",
    "\n",
    "def plot_modes(s:SurfaceRZFourier):\n",
    "  extent = (-s.rc.shape[1]/2,s.rc.shape[1]/2,s.rc.shape[0]+0.5,-0.5)\n",
    "\n",
    "  plt.subplot(211)\n",
    "  plt.imshow(s.rc*1e3, norm=\"symlog\", extent=extent)\n",
    "  plt.colorbar()\n",
    "  plt.title(\"Rcos\")\n",
    "  plt.ylabel(\"m\")\n",
    "  plt.subplot(212, sharex=plt.gca())\n",
    "  plt.imshow(s.zs*1e3, norm=\"symlog\", extent=extent)\n",
    "  plt.colorbar()\n",
    "  plt.title(\"Zsin\")\n",
    "  plt.ylabel(\"m\")\n",
    "  plt.xlabel(\"n\")\n"
   ]
  },
  {
   "cell_type": "markdown",
   "metadata": {},
   "source": [
    "## Vary B.n"
   ]
  },
  {
   "cell_type": "code",
   "execution_count": null,
   "metadata": {},
   "outputs": [],
   "source": [
    "import stage_two_optimization\n",
    "\n",
    "from simsopt.field import BiotSavart, Current, coils_via_symmetries\n",
    "from simsopt.geo import create_equally_spaced_curves\n",
    "\n",
    "ncoils = 4\n",
    "R0 = 1.0 # Major radius for the initial circular coils\n",
    "R1 = 0.5 # Minor radius for the initial circular coils\n",
    "order = 5 # Number of Fourier modes describing each Cartesian component of each coil\n",
    "\n",
    "# Create the initial coils:\n",
    "base_curves = create_equally_spaced_curves(ncoils, s.nfp, stellsym=True, R0=R0, R1=R1, order=order)\n",
    "base_currents = [Current(1e5) for i in range(ncoils)]\n",
    "# Since the target field is zero, one possible solution is just to set all\n",
    "# currents to 0. To avoid the minimizer finding that solution, we fix one\n",
    "# of the currents:\n",
    "base_currents[0].fix_all()\n",
    "\n",
    "coils = coils_via_symmetries(base_curves, base_currents, s.nfp, True)\n",
    "bs = BiotSavart(coils)\n",
    "bs.set_points(s.gamma().reshape((-1, 3)))\n"
   ]
  },
  {
   "cell_type": "code",
   "execution_count": null,
   "metadata": {},
   "outputs": [],
   "source": [
    "B2d = bs.B().reshape(s.unitnormal().shape)\n",
    "Bn = np.sum(B2d * s.unitnormal(), axis=2)\n",
    "plt.imshow(Bn)"
   ]
  },
  {
   "cell_type": "markdown",
   "metadata": {},
   "source": [
    "## Vary the geometry "
   ]
  },
  {
   "cell_type": "code",
   "execution_count": null,
   "metadata": {},
   "outputs": [],
   "source": [
    "fourier_limits = []\n",
    "mmax = max(s.m)\n",
    "mmax = 3\n",
    "nmax = max(s.n)\n",
    "for m in reversed(range(0, mmax+1)):\n",
    "  for n in reversed(range(0, nmax+1)):\n",
    "    if m <= 1 and n<=0:\n",
    "      continue\n",
    "    for nsign in [-1, 1]:\n",
    "      s.set_rc(m,n*nsign,0.0)\n",
    "      s.set_zs(m,n*nsign,0.0)\n",
    "\n",
    "      fourier_limits.append((m,n*nsign))\n",
    "      \n",
    "      plot_modes(s)\n",
    "      s.plot()\n",
    "      plt.show()"
   ]
  },
  {
   "cell_type": "code",
   "execution_count": null,
   "metadata": {},
   "outputs": [],
   "source": [
    "from examples.Simple import stage_two_optimization_minimal\n",
    "coilss = []\n",
    "\n",
    "s = SurfaceRZFourier.from_vmec_input(filename, range=\"half period\")\n",
    "\n",
    "for m,n in fourier_limits:\n",
    "  s.set_rc(m,n,0.0)\n",
    "  s.set_zs(m,n,0.0)\n",
    "\n",
    "  #plt.matshow(s.rc*1e3, norm=\"symlog\")\n",
    "  #plt.colorbar()\n",
    "  #plt.title(f\"Rcos {limit}\")\n",
    "  #plt.show()\n",
    "\n",
    "  coils = stage_two_optimization_minimal.optimize(s)\n",
    "  coilss.append(coils)"
   ]
  },
  {
   "cell_type": "code",
   "execution_count": null,
   "metadata": {},
   "outputs": [],
   "source": [
    "from simsopt.geo import plot, LpCurveTorsion, LpCurveCurvature, fix_matplotlib_3d\n",
    "\n",
    "%matplotlib widget\n",
    "# Power of the norm, e.g. L2\n",
    "p = 2\n",
    "\n",
    "plt.close()\n",
    "plt.gca().set_prop_cycle(color=plt.cm.plasma(np.linspace(0, 1, len(fourier_limits))))\n",
    "\n",
    "for coils, limit in zip(coilss, np.linspace(0, 1, len(fourier_limits))): #[ff[0]*12+ff[1] for ff in fourier_limits]):\n",
    "  curvatures = np.array([(LpCurveTorsion(coil.curve, p) + LpCurveCurvature(coil.curve, p)).J() for coil in coils])\n",
    "  plt.scatter(np.array([limit]*len(curvatures)), curvatures)\n",
    "plt.ylabel(\"L2 norm of Curvature\")\n",
    "plt.xlabel(\"Cutoff for |m|,|n| modes of B.n\")\n",
    "plt.subplots_adjust(right=0.7)\n",
    "plt.legend([f\"$m={m}, n={n}$\" for m,n in fourier_limits],loc=(1.04, 0))\n",
    "plt.show()"
   ]
  },
  {
   "cell_type": "code",
   "execution_count": null,
   "metadata": {},
   "outputs": [],
   "source": [
    "%matplotlib inline\n",
    "for coil_i in range(len(coilss[0])):\n",
    "  ax = plt.figure(figsize=(16,10)).add_subplot(projection='3d')\n",
    "  plt.gca().set_prop_cycle(color=plt.cm.plasma(np.linspace(0, 1, len(fourier_limits))))\n",
    "  for coils in coilss:\n",
    "    coils[coil_i].plot(ax=ax, show=False)\n",
    "  plt.legend([f\"$m={m},n={n}$\" for m,n in fourier_limits])\n",
    "  ax.set_prop_cycle(None) \n",
    "  fix_matplotlib_3d(ax)\n",
    "  pass"
   ]
  }
 ],
 "metadata": {
  "kernelspec": {
   "display_name": ".venv",
   "language": "python",
   "name": "python3"
  },
  "language_info": {
   "codemirror_mode": {
    "name": "ipython",
    "version": 3
   },
   "file_extension": ".py",
   "mimetype": "text/x-python",
   "name": "python",
   "nbconvert_exporter": "python",
   "pygments_lexer": "ipython3",
   "version": "3.11.2"
  }
 },
 "nbformat": 4,
 "nbformat_minor": 2
}
