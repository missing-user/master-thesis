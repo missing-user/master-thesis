{
 "cells": [
  {
   "cell_type": "code",
   "execution_count": null,
   "metadata": {},
   "outputs": [],
   "source": [
    "from simsopt.geo import SurfaceRZFourier\n",
    "import numpy as np\n",
    "\n",
    "# File for the desired boundary magnetic surface:\n",
    "filename = \"tests/test_files/input.LandremanPaul2021_QA\" # \"tests/test_files/input.LandremanPaul2021_QH_reactorScale_lowres\"\n",
    "\n",
    "# Initialize the boundary magnetic surface:\n",
    "s = SurfaceRZFourier.from_vmec_input(filename, range=\"half period\")"
   ]
  },
  {
   "cell_type": "code",
   "execution_count": null,
   "metadata": {},
   "outputs": [],
   "source": [
    "%matplotlib inline\n",
    "import matplotlib.pyplot as plt\n",
    "\n",
    "def plot_modes(s:SurfaceRZFourier):\n",
    "  extent = (-s.rc.shape[1]/2,s.rc.shape[1]/2,s.rc.shape[0]+0.5,-0.5)\n",
    "\n",
    "  plt.subplot(211)\n",
    "  plt.imshow(s.rc*1e3, norm=\"symlog\", extent=extent)\n",
    "  plt.colorbar()\n",
    "  plt.title(\"Rcos\")\n",
    "  plt.ylabel(\"n\")\n",
    "  plt.subplot(212, sharex=plt.gca())\n",
    "  plt.imshow(s.zs*1e3, norm=\"symlog\", extent=extent)\n",
    "  plt.colorbar()\n",
    "  plt.title(\"Zsin\")\n",
    "  plt.ylabel(\"n\")\n",
    "  plt.xlabel(\"m\")\n"
   ]
  },
  {
   "cell_type": "markdown",
   "metadata": {},
   "source": [
    "## Vary B.n"
   ]
  },
  {
   "cell_type": "code",
   "execution_count": null,
   "metadata": {},
   "outputs": [],
   "source": [
    "\n",
    "# Create the initial coils:\n",
    "base_curves = create_equally_spaced_curves(ncoils, s.nfp, stellsym=True, R0=R0, R1=R1, order=order)\n",
    "base_currents = [Current(1e5) for i in range(ncoils)]\n",
    "# Since the target field is zero, one possible solution is just to set all\n",
    "# currents to 0. To avoid the minimizer finding that solution, we fix one\n",
    "# of the currents:\n",
    "base_currents[0].fix_all()\n",
    "\n",
    "coils = coils_via_symmetries(base_curves, base_currents, s.nfp, True)\n",
    "bs = BiotSavart(coils)\n",
    "bs.set_points(s.gamma().reshape((-1, 3)))"
   ]
  },
  {
   "cell_type": "markdown",
   "metadata": {},
   "source": [
    "## Vary the geometry "
   ]
  },
  {
   "cell_type": "code",
   "execution_count": null,
   "metadata": {},
   "outputs": [],
   "source": [
    "fourier_limits = list(range(6,0, -1))\n",
    "\n",
    "for m,n in zip(reversed(s.m), reversed(s.n)):\n",
    "  #s.set_rc(m,n,0.0)\n",
    "  s.set_zs(m,n,0.0)\n",
    "  if (n<3):\n",
    "    plot_modes(s)\n",
    "    s.plot()\n",
    "    plt.show()"
   ]
  },
  {
   "cell_type": "code",
   "execution_count": null,
   "metadata": {},
   "outputs": [],
   "source": [
    "from examples.Simple import stage_two_optimization_minimal\n",
    "coilss = []\n",
    "\n",
    "fourier_limits = list(range(6,1, -1))\n",
    "\n",
    "for limit in fourier_limits:\n",
    "  mask = np.zeros_like(s.rc)\n",
    "  for m,n in zip(s.m, s.n):\n",
    "    if(abs(m)>=limit or abs(n)>=limit):\n",
    "      s.set_rc(m,n,0.0)\n",
    "      s.set_zs(m,n,0.0)\n",
    "\n",
    "  #plt.matshow(s.rc*1e3, norm=\"symlog\")\n",
    "  #plt.colorbar()\n",
    "  #plt.title(f\"Rcos {limit}\")\n",
    "  #plt.show()\n",
    "\n",
    "  coils = stage_two_optimization_minimal.optimize(s)\n",
    "  coilss.append(coils)\n"
   ]
  },
  {
   "cell_type": "code",
   "execution_count": null,
   "metadata": {},
   "outputs": [],
   "source": [
    "from simsopt.geo import plot, LpCurveCurvature, fix_matplotlib_3d\n",
    "\n",
    "# Power of the norm, e.g. L2\n",
    "p = 2\n",
    "\n",
    "for coils, limit in zip(coilss, fourier_limits):\n",
    "  curvatures = [LpCurveCurvature(coil.curve, p).J() for coil in coils]\n",
    "  plt.scatter([limit]*len(curvatures), curvatures)\n",
    "plt.ylabel(\"L2 norm of Curvature\")\n",
    "plt.xlabel(\"Cutoff for |m|,|n| modes of B.n\")\n",
    "plt.legend([f\"$|m|,|n|<{limit}$\" for limit in fourier_limits])\n",
    "plt.show()\n",
    "\n",
    "for coil_i in range(len(coilss[0])):\n",
    "  ax = plt.figure(figsize=(16,10)).add_subplot(projection='3d')\n",
    "  for coils in coilss:\n",
    "    coils[coil_i].plot(ax=ax, show=False)\n",
    "  plt.legend([f\"$|m|,|n|<{limit}$\" for limit in fourier_limits])\n",
    "  ax.set_prop_cycle(None) \n",
    "  fix_matplotlib_3d(ax)\n",
    "  pass"
   ]
  }
 ],
 "metadata": {
  "kernelspec": {
   "display_name": ".venv",
   "language": "python",
   "name": "python3"
  },
  "language_info": {
   "codemirror_mode": {
    "name": "ipython",
    "version": 3
   },
   "file_extension": ".py",
   "mimetype": "text/x-python",
   "name": "python",
   "nbconvert_exporter": "python",
   "pygments_lexer": "ipython3",
   "version": "3.11.2"
  }
 },
 "nbformat": 4,
 "nbformat_minor": 2
}
