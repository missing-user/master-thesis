{
 "cells": [
  {
   "cell_type": "markdown",
   "metadata": {},
   "source": [
    "- double lambda(nlambda) ;\n",
    "\t\tlambda:long_name = \"Values of the regularization parameter that were used, in SI units ($Tesla^2 meter^2 / Ampere^2$)\" ;\n",
    "- double chi2_B(nlambda) ;\n",
    "  chi2_B:long_name = \"Values of $\\chi^2_B$ (the area integral over the plasma surface of $|B_{normal}|^2$) that resulted for each value of lambda, in SI units ($Tesla^2 meter^2$)\" ;\n",
    "- double chi2_K(nlambda) ;\n",
    "  chi2_K:long_name = \"Values of chi^2_K (the area integral over the coil winding surface of current density squared) that resulted for each value of lambda, in SI units ($Ampere^2$)\" ;\n",
    "- double chi2_Laplace_Beltrami(nlambda) ;\n",
    "  chi2_Laplace_Beltrami:long_name = \"\" ;\n",
    "- double max_Bnormal(nlambda) ;\n",
    "  max_Bnormal:long_name = \"Maximum (over the plasma surface) magnetic field normal to the target plasma shape that resulted for each value of lambda, in $Tesla$.\" ;\n",
    "- double max_K(nlambda) ;\n",
    "  max_K:long_name = \"Maximum (over the coil surface) current density that resulted for each value of lambda, in $Amperes/meter$.\" ;\n",
    "\t"
   ]
  },
  {
   "cell_type": "code",
   "execution_count": 1,
   "metadata": {},
   "outputs": [
    {
     "name": "stdout",
     "output_type": "stream",
     "text": [
      "dict_keys(['nfp', 'geometry_option_plasma', 'geometry_option_coil', 'ntheta_plasma', 'nzeta_plasma', 'nzetal_plasma', 'ntheta_coil', 'nzeta_coil', 'nzetal_coil', 'a_plasma', 'a_coil', 'R0_plasma', 'R0_coil', 'mpol_potential', 'ntor_potential', 'mnmax_potential', 'mnmax_plasma', 'mnmax_coil', 'num_basis_functions', 'symmetry_option', 'area_plasma', 'area_coil', 'volume_plasma', 'volume_coil', 'net_poloidal_current_Amperes', 'net_toroidal_current_Amperes', 'curpol', 'nlambda', 'total_time', 'exit_code', 'chi2_B_target', 'sensitivity_option', 'theta_plasma', 'zeta_plasma', 'zetal_plasma', 'theta_coil', 'zeta_coil', 'zetal_coil', 'xm_potential', 'xn_potential', 'xm_plasma', 'xn_plasma', 'xm_coil', 'xn_coil', 'rmnc_plasma', 'zmns_plasma', 'rmnc_coil', 'zmns_coil', 'h', 'RHS_B', 'RHS_regularization', 'lambda', 'chi2_B', 'chi2_K', 'chi2_Laplace_Beltrami', 'max_Bnormal', 'max_K', 'norm_normal_plasma', 'norm_normal_coil', 'Bnormal_from_plasma_current', 'Bnormal_from_net_coil_currents', 'single_valued_current_potential_mn', 'r_plasma', 'r_coil', 'single_valued_current_potential_thetazeta', 'current_potential', 'Bnormal_total', 'K2', 'Laplace_Beltrami2'])\n"
     ]
    },
    {
     "name": "stderr",
     "output_type": "stream",
     "text": [
      "Authorization required, but no authorization protocol specified\n",
      "\n",
      "Authorization required, but no authorization protocol specified\n",
      "\n",
      "Authorization required, but no authorization protocol specified\n",
      "\n"
     ]
    }
   ],
   "source": [
    "from scipy.io import netcdf_file\n",
    "import numpy as np\n",
    "import bdistrib_io\n",
    "with netcdf_file(bdistrib_io.get_file_path(952, \"regcoil\"), \"r\", mmap=False) as f:\n",
    "  chi2_B = f.variables[\"chi2_B\"][()]\n",
    "  chi2_K = f.variables[\"chi2_K\"][()]\n",
    "  chi2_Laplace_Beltrami = f.variables[\"chi2_Laplace_Beltrami\"][()]\n",
    "  max_Bnormal = f.variables[\"max_Bnormal\"][()]\n",
    "  Bnormal_total = f.variables[\"Bnormal_total\"][()]\n",
    "  max_K = f.variables[\"max_K\"][()]\n",
    "  print(f.variables.keys())\n"
   ]
  },
  {
   "cell_type": "code",
   "execution_count": 2,
   "metadata": {},
   "outputs": [
    {
     "data": {
      "text/plain": [
       "<matplotlib.colorbar.Colorbar at 0x7f2a23f9f110>"
      ]
     },
     "execution_count": 2,
     "metadata": {},
     "output_type": "execute_result"
    },
    {
     "data": {
      "image/png": "[encoded data removed]",
      "text/plain": [
       "<Figure size 640x480 with 2 Axes>"
      ]
     },
     "metadata": {},
     "output_type": "display_data"
    }
   ],
   "source": [
    "import matplotlib.pyplot as plt\n",
    "plt.plot(max_Bnormal)\n",
    "plt.imshow(Bnormal_total[7])\n",
    "plt.colorbar()\n"
   ]
  },
  {
   "cell_type": "code",
   "execution_count": 3,
   "metadata": {},
   "outputs": [
    {
     "data": {
      "text/html": [
       "<div>\n",
       "<style scoped>\n",
       "    .dataframe tbody tr th:only-of-type {\n",
       "        vertical-align: middle;\n",
       "    }\n",
       "\n",
       "    .dataframe tbody tr th {\n",
       "        vertical-align: top;\n",
       "    }\n",
       "\n",
       "    .dataframe thead th {\n",
       "        text-align: right;\n",
       "    }\n",
       "</style>\n",
       "<table border=\"1\" class=\"dataframe\">\n",
       "  <thead>\n",
       "    <tr style=\"text-align: right;\">\n",
       "      <th></th>\n",
       "      <th>qs_error</th>\n",
       "      <th>total_coil_length</th>\n",
       "      <th>total_coil_length_threshold</th>\n",
       "      <th>mean_iota</th>\n",
       "      <th>max_kappa</th>\n",
       "      <th>max_msc</th>\n",
       "      <th>nc_per_hp</th>\n",
       "      <th>nfp</th>\n",
       "      <th>aspect_ratio</th>\n",
       "      <th>ID</th>\n",
       "      <th>minor_radius</th>\n",
       "      <th>Nsurfaces</th>\n",
       "      <th>volume</th>\n",
       "    </tr>\n",
       "  </thead>\n",
       "  <tbody>\n",
       "    <tr>\n",
       "      <th>64498</th>\n",
       "      <td>5.074176e-06</td>\n",
       "      <td>35.000036</td>\n",
       "      <td>35.0</td>\n",
       "      <td>0.1</td>\n",
       "      <td>3.768148</td>\n",
       "      <td>3.094313</td>\n",
       "      <td>1</td>\n",
       "      <td>2</td>\n",
       "      <td>19.999985</td>\n",
       "      <td>952</td>\n",
       "      <td>0.050000</td>\n",
       "      <td>1</td>\n",
       "      <td>0.049348</td>\n",
       "    </tr>\n",
       "    <tr>\n",
       "      <th>53546</th>\n",
       "      <td>3.109899e-05</td>\n",
       "      <td>35.000174</td>\n",
       "      <td>35.0</td>\n",
       "      <td>0.1</td>\n",
       "      <td>3.398734</td>\n",
       "      <td>2.004414</td>\n",
       "      <td>1</td>\n",
       "      <td>2</td>\n",
       "      <td>9.999963</td>\n",
       "      <td>953</td>\n",
       "      <td>0.100000</td>\n",
       "      <td>2</td>\n",
       "      <td>0.197392</td>\n",
       "    </tr>\n",
       "    <tr>\n",
       "      <th>13192</th>\n",
       "      <td>8.577522e-05</td>\n",
       "      <td>35.000431</td>\n",
       "      <td>35.0</td>\n",
       "      <td>0.1</td>\n",
       "      <td>3.294534</td>\n",
       "      <td>1.772975</td>\n",
       "      <td>1</td>\n",
       "      <td>2</td>\n",
       "      <td>6.666613</td>\n",
       "      <td>954</td>\n",
       "      <td>0.150000</td>\n",
       "      <td>3</td>\n",
       "      <td>0.444132</td>\n",
       "    </tr>\n",
       "    <tr>\n",
       "      <th>151454</th>\n",
       "      <td>5.977597e-04</td>\n",
       "      <td>35.002510</td>\n",
       "      <td>35.0</td>\n",
       "      <td>0.1</td>\n",
       "      <td>4.023036</td>\n",
       "      <td>2.019909</td>\n",
       "      <td>1</td>\n",
       "      <td>2</td>\n",
       "      <td>3.333200</td>\n",
       "      <td>957</td>\n",
       "      <td>0.300004</td>\n",
       "      <td>6</td>\n",
       "      <td>1.776529</td>\n",
       "    </tr>\n",
       "    <tr>\n",
       "      <th>131774</th>\n",
       "      <td>9.073261e-04</td>\n",
       "      <td>35.003572</td>\n",
       "      <td>35.0</td>\n",
       "      <td>0.1</td>\n",
       "      <td>3.989880</td>\n",
       "      <td>2.217159</td>\n",
       "      <td>1</td>\n",
       "      <td>2</td>\n",
       "      <td>2.856976</td>\n",
       "      <td>958</td>\n",
       "      <td>0.350007</td>\n",
       "      <td>7</td>\n",
       "      <td>2.418053</td>\n",
       "    </tr>\n",
       "    <tr>\n",
       "      <th>...</th>\n",
       "      <td>...</td>\n",
       "      <td>...</td>\n",
       "      <td>...</td>\n",
       "      <td>...</td>\n",
       "      <td>...</td>\n",
       "      <td>...</td>\n",
       "      <td>...</td>\n",
       "      <td>...</td>\n",
       "      <td>...</td>\n",
       "      <td>...</td>\n",
       "      <td>...</td>\n",
       "      <td>...</td>\n",
       "      <td>...</td>\n",
       "    </tr>\n",
       "    <tr>\n",
       "      <th>79307</th>\n",
       "      <td>2.765089e-06</td>\n",
       "      <td>120.000032</td>\n",
       "      <td>120.0</td>\n",
       "      <td>0.9</td>\n",
       "      <td>4.859487</td>\n",
       "      <td>5.000016</td>\n",
       "      <td>3</td>\n",
       "      <td>4</td>\n",
       "      <td>20.000509</td>\n",
       "      <td>1114302</td>\n",
       "      <td>0.049999</td>\n",
       "      <td>1</td>\n",
       "      <td>0.049346</td>\n",
       "    </tr>\n",
       "    <tr>\n",
       "      <th>44064</th>\n",
       "      <td>3.147952e-04</td>\n",
       "      <td>120.000135</td>\n",
       "      <td>120.0</td>\n",
       "      <td>0.9</td>\n",
       "      <td>4.999878</td>\n",
       "      <td>5.000036</td>\n",
       "      <td>3</td>\n",
       "      <td>4</td>\n",
       "      <td>6.666963</td>\n",
       "      <td>1114304</td>\n",
       "      <td>0.149997</td>\n",
       "      <td>3</td>\n",
       "      <td>0.444122</td>\n",
       "    </tr>\n",
       "    <tr>\n",
       "      <th>74418</th>\n",
       "      <td>2.980095e-07</td>\n",
       "      <td>119.999652</td>\n",
       "      <td>120.0</td>\n",
       "      <td>0.9</td>\n",
       "      <td>4.942028</td>\n",
       "      <td>5.000001</td>\n",
       "      <td>3</td>\n",
       "      <td>4</td>\n",
       "      <td>20.000050</td>\n",
       "      <td>1114316</td>\n",
       "      <td>0.050000</td>\n",
       "      <td>1</td>\n",
       "      <td>0.049348</td>\n",
       "    </tr>\n",
       "    <tr>\n",
       "      <th>106865</th>\n",
       "      <td>1.328660e-05</td>\n",
       "      <td>120.000040</td>\n",
       "      <td>120.0</td>\n",
       "      <td>0.9</td>\n",
       "      <td>4.992078</td>\n",
       "      <td>5.000004</td>\n",
       "      <td>3</td>\n",
       "      <td>4</td>\n",
       "      <td>10.000117</td>\n",
       "      <td>1114317</td>\n",
       "      <td>0.099999</td>\n",
       "      <td>2</td>\n",
       "      <td>0.197388</td>\n",
       "    </tr>\n",
       "    <tr>\n",
       "      <th>111160</th>\n",
       "      <td>4.412266e-05</td>\n",
       "      <td>120.000164</td>\n",
       "      <td>120.0</td>\n",
       "      <td>0.9</td>\n",
       "      <td>4.955798</td>\n",
       "      <td>4.999995</td>\n",
       "      <td>3</td>\n",
       "      <td>4</td>\n",
       "      <td>6.666742</td>\n",
       "      <td>1114318</td>\n",
       "      <td>0.149999</td>\n",
       "      <td>3</td>\n",
       "      <td>0.444132</td>\n",
       "    </tr>\n",
       "  </tbody>\n",
       "</table>\n",
       "<p>203896 rows × 13 columns</p>\n",
       "</div>"
      ],
      "text/plain": [
       "            qs_error  total_coil_length  total_coil_length_threshold  \\\n",
       "64498   5.074176e-06          35.000036                         35.0   \n",
       "53546   3.109899e-05          35.000174                         35.0   \n",
       "13192   8.577522e-05          35.000431                         35.0   \n",
       "151454  5.977597e-04          35.002510                         35.0   \n",
       "131774  9.073261e-04          35.003572                         35.0   \n",
       "...              ...                ...                          ...   \n",
       "79307   2.765089e-06         120.000032                        120.0   \n",
       "44064   3.147952e-04         120.000135                        120.0   \n",
       "74418   2.980095e-07         119.999652                        120.0   \n",
       "106865  1.328660e-05         120.000040                        120.0   \n",
       "111160  4.412266e-05         120.000164                        120.0   \n",
       "\n",
       "        mean_iota  max_kappa   max_msc  nc_per_hp  nfp  aspect_ratio       ID  \\\n",
       "64498         0.1   3.768148  3.094313          1    2     19.999985      952   \n",
       "53546         0.1   3.398734  2.004414          1    2      9.999963      953   \n",
       "13192         0.1   3.294534  1.772975          1    2      6.666613      954   \n",
       "151454        0.1   4.023036  2.019909          1    2      3.333200      957   \n",
       "131774        0.1   3.989880  2.217159          1    2      2.856976      958   \n",
       "...           ...        ...       ...        ...  ...           ...      ...   \n",
       "79307         0.9   4.859487  5.000016          3    4     20.000509  1114302   \n",
       "44064         0.9   4.999878  5.000036          3    4      6.666963  1114304   \n",
       "74418         0.9   4.942028  5.000001          3    4     20.000050  1114316   \n",
       "106865        0.9   4.992078  5.000004          3    4     10.000117  1114317   \n",
       "111160        0.9   4.955798  4.999995          3    4      6.666742  1114318   \n",
       "\n",
       "        minor_radius  Nsurfaces    volume  \n",
       "64498       0.050000          1  0.049348  \n",
       "53546       0.100000          2  0.197392  \n",
       "13192       0.150000          3  0.444132  \n",
       "151454      0.300004          6  1.776529  \n",
       "131774      0.350007          7  2.418053  \n",
       "...              ...        ...       ...  \n",
       "79307       0.049999          1  0.049346  \n",
       "44064       0.149997          3  0.444122  \n",
       "74418       0.050000          1  0.049348  \n",
       "106865      0.099999          2  0.197388  \n",
       "111160      0.149999          3  0.444132  \n",
       "\n",
       "[203896 rows x 13 columns]"
      ]
     },
     "execution_count": 3,
     "metadata": {},
     "output_type": "execute_result"
    }
   ],
   "source": [
    "import pandas as pd\n",
    "unpickled_df = pd.read_pickle(\"QUASR_db/QA_database_26032024.pkl\")\n",
    "unpickled_df.sort_values(by=\"ID\")\n"
   ]
  },
  {
   "cell_type": "code",
   "execution_count": 4,
   "metadata": {},
   "outputs": [
    {
     "name": "stderr",
     "output_type": "stream",
     "text": [
      "/home/IPP-HGW/juph/efficient-fields/.venv/lib/python3.11/site-packages/numpy/lib/polynomial.py:667: RuntimeWarning: overflow encountered in multiply\n",
      "  scale = NX.sqrt((lhs*lhs).sum(axis=0))\n",
      "/tmp/ipykernel_49695/4045792978.py:49: RankWarning: Polyfit may be poorly conditioned\n",
      "  regcoil_results[key + \" (linear fit)\"] = np.polyfit(\n",
      "/tmp/ipykernel_49695/4045792978.py:49: RankWarning: Polyfit may be poorly conditioned\n",
      "  regcoil_results[key + \" (linear fit)\"] = np.polyfit(\n",
      "/tmp/ipykernel_49695/4045792978.py:49: RankWarning: Polyfit may be poorly conditioned\n",
      "  regcoil_results[key + \" (linear fit)\"] = np.polyfit(\n",
      "/tmp/ipykernel_49695/4045792978.py:49: RankWarning: Polyfit may be poorly conditioned\n",
      "  regcoil_results[key + \" (linear fit)\"] = np.polyfit(\n",
      "/tmp/ipykernel_49695/4045792978.py:49: RankWarning: Polyfit may be poorly conditioned\n",
      "  regcoil_results[key + \" (linear fit)\"] = np.polyfit(\n",
      "/tmp/ipykernel_49695/4045792978.py:49: RankWarning: Polyfit may be poorly conditioned\n",
      "  regcoil_results[key + \" (linear fit)\"] = np.polyfit(\n",
      "/tmp/ipykernel_49695/4045792978.py:49: RankWarning: Polyfit may be poorly conditioned\n",
      "  regcoil_results[key + \" (linear fit)\"] = np.polyfit(\n",
      "/tmp/ipykernel_49695/4045792978.py:49: RankWarning: Polyfit may be poorly conditioned\n",
      "  regcoil_results[key + \" (linear fit)\"] = np.polyfit(\n",
      "/tmp/ipykernel_49695/4045792978.py:49: RankWarning: Polyfit may be poorly conditioned\n",
      "  regcoil_results[key + \" (linear fit)\"] = np.polyfit(\n",
      "/tmp/ipykernel_49695/4045792978.py:49: RankWarning: Polyfit may be poorly conditioned\n",
      "  regcoil_results[key + \" (linear fit)\"] = np.polyfit(\n",
      "/tmp/ipykernel_49695/4045792978.py:49: RankWarning: Polyfit may be poorly conditioned\n",
      "  regcoil_results[key + \" (linear fit)\"] = np.polyfit(\n",
      "/tmp/ipykernel_49695/4045792978.py:49: RankWarning: Polyfit may be poorly conditioned\n",
      "  regcoil_results[key + \" (linear fit)\"] = np.polyfit(\n",
      "/tmp/ipykernel_49695/4045792978.py:49: RankWarning: Polyfit may be poorly conditioned\n",
      "  regcoil_results[key + \" (linear fit)\"] = np.polyfit(\n",
      "/tmp/ipykernel_49695/4045792978.py:49: RankWarning: Polyfit may be poorly conditioned\n",
      "  regcoil_results[key + \" (linear fit)\"] = np.polyfit(\n",
      "/tmp/ipykernel_49695/4045792978.py:49: RankWarning: Polyfit may be poorly conditioned\n",
      "  regcoil_results[key + \" (linear fit)\"] = np.polyfit(\n",
      "/tmp/ipykernel_49695/4045792978.py:49: RankWarning: Polyfit may be poorly conditioned\n",
      "  regcoil_results[key + \" (linear fit)\"] = np.polyfit(\n",
      "/tmp/ipykernel_49695/4045792978.py:49: RankWarning: Polyfit may be poorly conditioned\n",
      "  regcoil_results[key + \" (linear fit)\"] = np.polyfit(\n",
      "/tmp/ipykernel_49695/4045792978.py:49: RankWarning: Polyfit may be poorly conditioned\n",
      "  regcoil_results[key + \" (linear fit)\"] = np.polyfit(\n",
      "/tmp/ipykernel_49695/4045792978.py:49: RankWarning: Polyfit may be poorly conditioned\n",
      "  regcoil_results[key + \" (linear fit)\"] = np.polyfit(\n",
      "/tmp/ipykernel_49695/4045792978.py:49: RankWarning: Polyfit may be poorly conditioned\n",
      "  regcoil_results[key + \" (linear fit)\"] = np.polyfit(\n",
      "/tmp/ipykernel_49695/4045792978.py:49: RankWarning: Polyfit may be poorly conditioned\n",
      "  regcoil_results[key + \" (linear fit)\"] = np.polyfit(\n",
      "/tmp/ipykernel_49695/4045792978.py:49: RankWarning: Polyfit may be poorly conditioned\n",
      "  regcoil_results[key + \" (linear fit)\"] = np.polyfit(\n",
      "/tmp/ipykernel_49695/4045792978.py:49: RankWarning: Polyfit may be poorly conditioned\n",
      "  regcoil_results[key + \" (linear fit)\"] = np.polyfit(\n",
      "/tmp/ipykernel_49695/4045792978.py:49: RankWarning: Polyfit may be poorly conditioned\n",
      "  regcoil_results[key + \" (linear fit)\"] = np.polyfit(\n",
      "/tmp/ipykernel_49695/4045792978.py:49: RankWarning: Polyfit may be poorly conditioned\n",
      "  regcoil_results[key + \" (linear fit)\"] = np.polyfit(\n",
      "/tmp/ipykernel_49695/4045792978.py:49: RankWarning: Polyfit may be poorly conditioned\n",
      "  regcoil_results[key + \" (linear fit)\"] = np.polyfit(\n",
      "/tmp/ipykernel_49695/4045792978.py:49: RankWarning: Polyfit may be poorly conditioned\n",
      "  regcoil_results[key + \" (linear fit)\"] = np.polyfit(\n",
      "/tmp/ipykernel_49695/4045792978.py:49: RankWarning: Polyfit may be poorly conditioned\n",
      "  regcoil_results[key + \" (linear fit)\"] = np.polyfit(\n",
      "/tmp/ipykernel_49695/4045792978.py:49: RankWarning: Polyfit may be poorly conditioned\n",
      "  regcoil_results[key + \" (linear fit)\"] = np.polyfit(\n",
      "/tmp/ipykernel_49695/4045792978.py:49: RankWarning: Polyfit may be poorly conditioned\n",
      "  regcoil_results[key + \" (linear fit)\"] = np.polyfit(\n",
      "/tmp/ipykernel_49695/4045792978.py:49: RankWarning: Polyfit may be poorly conditioned\n",
      "  regcoil_results[key + \" (linear fit)\"] = np.polyfit(\n",
      "/tmp/ipykernel_49695/4045792978.py:49: RankWarning: Polyfit may be poorly conditioned\n",
      "  regcoil_results[key + \" (linear fit)\"] = np.polyfit(\n",
      "/tmp/ipykernel_49695/4045792978.py:49: RankWarning: Polyfit may be poorly conditioned\n",
      "  regcoil_results[key + \" (linear fit)\"] = np.polyfit(\n",
      "/tmp/ipykernel_49695/4045792978.py:49: RankWarning: Polyfit may be poorly conditioned\n",
      "  regcoil_results[key + \" (linear fit)\"] = np.polyfit(\n",
      "/tmp/ipykernel_49695/4045792978.py:49: RankWarning: Polyfit may be poorly conditioned\n",
      "  regcoil_results[key + \" (linear fit)\"] = np.polyfit(\n",
      "/tmp/ipykernel_49695/4045792978.py:49: RankWarning: Polyfit may be poorly conditioned\n",
      "  regcoil_results[key + \" (linear fit)\"] = np.polyfit(\n",
      "/tmp/ipykernel_49695/4045792978.py:49: RankWarning: Polyfit may be poorly conditioned\n",
      "  regcoil_results[key + \" (linear fit)\"] = np.polyfit(\n",
      "/tmp/ipykernel_49695/4045792978.py:49: RankWarning: Polyfit may be poorly conditioned\n",
      "  regcoil_results[key + \" (linear fit)\"] = np.polyfit(\n",
      "/tmp/ipykernel_49695/4045792978.py:49: RankWarning: Polyfit may be poorly conditioned\n",
      "  regcoil_results[key + \" (linear fit)\"] = np.polyfit(\n",
      "/tmp/ipykernel_49695/4045792978.py:49: RankWarning: Polyfit may be poorly conditioned\n",
      "  regcoil_results[key + \" (linear fit)\"] = np.polyfit(\n",
      "/tmp/ipykernel_49695/4045792978.py:49: RankWarning: Polyfit may be poorly conditioned\n",
      "  regcoil_results[key + \" (linear fit)\"] = np.polyfit(\n",
      "/tmp/ipykernel_49695/4045792978.py:49: RankWarning: Polyfit may be poorly conditioned\n",
      "  regcoil_results[key + \" (linear fit)\"] = np.polyfit(\n",
      "/tmp/ipykernel_49695/4045792978.py:49: RankWarning: Polyfit may be poorly conditioned\n",
      "  regcoil_results[key + \" (linear fit)\"] = np.polyfit(\n",
      "/tmp/ipykernel_49695/4045792978.py:49: RankWarning: Polyfit may be poorly conditioned\n",
      "  regcoil_results[key + \" (linear fit)\"] = np.polyfit(\n",
      "/tmp/ipykernel_49695/4045792978.py:49: RankWarning: Polyfit may be poorly conditioned\n",
      "  regcoil_results[key + \" (linear fit)\"] = np.polyfit(\n",
      "/tmp/ipykernel_49695/4045792978.py:49: RankWarning: Polyfit may be poorly conditioned\n",
      "  regcoil_results[key + \" (linear fit)\"] = np.polyfit(\n",
      "/tmp/ipykernel_49695/4045792978.py:49: RankWarning: Polyfit may be poorly conditioned\n",
      "  regcoil_results[key + \" (linear fit)\"] = np.polyfit(\n",
      "/tmp/ipykernel_49695/4045792978.py:49: RankWarning: Polyfit may be poorly conditioned\n",
      "  regcoil_results[key + \" (linear fit)\"] = np.polyfit(\n",
      "/tmp/ipykernel_49695/4045792978.py:49: RankWarning: Polyfit may be poorly conditioned\n",
      "  regcoil_results[key + \" (linear fit)\"] = np.polyfit(\n",
      "/tmp/ipykernel_49695/4045792978.py:49: RankWarning: Polyfit may be poorly conditioned\n",
      "  regcoil_results[key + \" (linear fit)\"] = np.polyfit(\n",
      "/tmp/ipykernel_49695/4045792978.py:49: RankWarning: Polyfit may be poorly conditioned\n",
      "  regcoil_results[key + \" (linear fit)\"] = np.polyfit(\n",
      "/tmp/ipykernel_49695/4045792978.py:49: RankWarning: Polyfit may be poorly conditioned\n",
      "  regcoil_results[key + \" (linear fit)\"] = np.polyfit(\n",
      "/tmp/ipykernel_49695/4045792978.py:49: RankWarning: Polyfit may be poorly conditioned\n",
      "  regcoil_results[key + \" (linear fit)\"] = np.polyfit(\n",
      "/tmp/ipykernel_49695/4045792978.py:49: RankWarning: Polyfit may be poorly conditioned\n",
      "  regcoil_results[key + \" (linear fit)\"] = np.polyfit(\n",
      "/tmp/ipykernel_49695/4045792978.py:49: RankWarning: Polyfit may be poorly conditioned\n",
      "  regcoil_results[key + \" (linear fit)\"] = np.polyfit(\n",
      "/tmp/ipykernel_49695/4045792978.py:49: RankWarning: Polyfit may be poorly conditioned\n",
      "  regcoil_results[key + \" (linear fit)\"] = np.polyfit(\n",
      "/tmp/ipykernel_49695/4045792978.py:49: RankWarning: Polyfit may be poorly conditioned\n",
      "  regcoil_results[key + \" (linear fit)\"] = np.polyfit(\n",
      "/tmp/ipykernel_49695/4045792978.py:49: RankWarning: Polyfit may be poorly conditioned\n",
      "  regcoil_results[key + \" (linear fit)\"] = np.polyfit(\n",
      "/tmp/ipykernel_49695/4045792978.py:49: RankWarning: Polyfit may be poorly conditioned\n",
      "  regcoil_results[key + \" (linear fit)\"] = np.polyfit(\n",
      "/tmp/ipykernel_49695/4045792978.py:49: RankWarning: Polyfit may be poorly conditioned\n",
      "  regcoil_results[key + \" (linear fit)\"] = np.polyfit(\n",
      "/tmp/ipykernel_49695/4045792978.py:49: RankWarning: Polyfit may be poorly conditioned\n",
      "  regcoil_results[key + \" (linear fit)\"] = np.polyfit(\n",
      "/tmp/ipykernel_49695/4045792978.py:49: RankWarning: Polyfit may be poorly conditioned\n",
      "  regcoil_results[key + \" (linear fit)\"] = np.polyfit(\n",
      "/tmp/ipykernel_49695/4045792978.py:49: RankWarning: Polyfit may be poorly conditioned\n",
      "  regcoil_results[key + \" (linear fit)\"] = np.polyfit(\n",
      "/tmp/ipykernel_49695/4045792978.py:49: RankWarning: Polyfit may be poorly conditioned\n",
      "  regcoil_results[key + \" (linear fit)\"] = np.polyfit(\n",
      "/tmp/ipykernel_49695/4045792978.py:49: RankWarning: Polyfit may be poorly conditioned\n",
      "  regcoil_results[key + \" (linear fit)\"] = np.polyfit(\n",
      "/tmp/ipykernel_49695/4045792978.py:49: RankWarning: Polyfit may be poorly conditioned\n",
      "  regcoil_results[key + \" (linear fit)\"] = np.polyfit(\n",
      "/tmp/ipykernel_49695/4045792978.py:49: RankWarning: Polyfit may be poorly conditioned\n",
      "  regcoil_results[key + \" (linear fit)\"] = np.polyfit(\n",
      "/tmp/ipykernel_49695/4045792978.py:49: RankWarning: Polyfit may be poorly conditioned\n",
      "  regcoil_results[key + \" (linear fit)\"] = np.polyfit(\n",
      "/tmp/ipykernel_49695/4045792978.py:49: RankWarning: Polyfit may be poorly conditioned\n",
      "  regcoil_results[key + \" (linear fit)\"] = np.polyfit(\n",
      "/tmp/ipykernel_49695/4045792978.py:49: RankWarning: Polyfit may be poorly conditioned\n",
      "  regcoil_results[key + \" (linear fit)\"] = np.polyfit(\n",
      "/tmp/ipykernel_49695/4045792978.py:49: RankWarning: Polyfit may be poorly conditioned\n",
      "  regcoil_results[key + \" (linear fit)\"] = np.polyfit(\n",
      "/tmp/ipykernel_49695/4045792978.py:49: RankWarning: Polyfit may be poorly conditioned\n",
      "  regcoil_results[key + \" (linear fit)\"] = np.polyfit(\n",
      "/tmp/ipykernel_49695/4045792978.py:49: RankWarning: Polyfit may be poorly conditioned\n",
      "  regcoil_results[key + \" (linear fit)\"] = np.polyfit(\n",
      "/tmp/ipykernel_49695/4045792978.py:49: RankWarning: Polyfit may be poorly conditioned\n",
      "  regcoil_results[key + \" (linear fit)\"] = np.polyfit(\n",
      "/tmp/ipykernel_49695/4045792978.py:49: RankWarning: Polyfit may be poorly conditioned\n",
      "  regcoil_results[key + \" (linear fit)\"] = np.polyfit(\n",
      "/tmp/ipykernel_49695/4045792978.py:49: RankWarning: Polyfit may be poorly conditioned\n",
      "  regcoil_results[key + \" (linear fit)\"] = np.polyfit(\n",
      "/tmp/ipykernel_49695/4045792978.py:49: RankWarning: Polyfit may be poorly conditioned\n",
      "  regcoil_results[key + \" (linear fit)\"] = np.polyfit(\n",
      "/tmp/ipykernel_49695/4045792978.py:49: RankWarning: Polyfit may be poorly conditioned\n",
      "  regcoil_results[key + \" (linear fit)\"] = np.polyfit(\n",
      "/tmp/ipykernel_49695/4045792978.py:49: RankWarning: Polyfit may be poorly conditioned\n",
      "  regcoil_results[key + \" (linear fit)\"] = np.polyfit(\n",
      "/tmp/ipykernel_49695/4045792978.py:49: RankWarning: Polyfit may be poorly conditioned\n",
      "  regcoil_results[key + \" (linear fit)\"] = np.polyfit(\n",
      "/tmp/ipykernel_49695/4045792978.py:49: RankWarning: Polyfit may be poorly conditioned\n",
      "  regcoil_results[key + \" (linear fit)\"] = np.polyfit(\n",
      "/tmp/ipykernel_49695/4045792978.py:49: RankWarning: Polyfit may be poorly conditioned\n",
      "  regcoil_results[key + \" (linear fit)\"] = np.polyfit(\n",
      "/tmp/ipykernel_49695/4045792978.py:49: RankWarning: Polyfit may be poorly conditioned\n",
      "  regcoil_results[key + \" (linear fit)\"] = np.polyfit(\n",
      "/tmp/ipykernel_49695/4045792978.py:49: RankWarning: Polyfit may be poorly conditioned\n",
      "  regcoil_results[key + \" (linear fit)\"] = np.polyfit(\n",
      "/tmp/ipykernel_49695/4045792978.py:49: RankWarning: Polyfit may be poorly conditioned\n",
      "  regcoil_results[key + \" (linear fit)\"] = np.polyfit(\n",
      "/tmp/ipykernel_49695/4045792978.py:49: RankWarning: Polyfit may be poorly conditioned\n",
      "  regcoil_results[key + \" (linear fit)\"] = np.polyfit(\n",
      "/tmp/ipykernel_49695/4045792978.py:49: RankWarning: Polyfit may be poorly conditioned\n",
      "  regcoil_results[key + \" (linear fit)\"] = np.polyfit(\n",
      "/tmp/ipykernel_49695/4045792978.py:49: RankWarning: Polyfit may be poorly conditioned\n",
      "  regcoil_results[key + \" (linear fit)\"] = np.polyfit(\n",
      "/tmp/ipykernel_49695/4045792978.py:49: RankWarning: Polyfit may be poorly conditioned\n",
      "  regcoil_results[key + \" (linear fit)\"] = np.polyfit(\n",
      "/tmp/ipykernel_49695/4045792978.py:49: RankWarning: Polyfit may be poorly conditioned\n",
      "  regcoil_results[key + \" (linear fit)\"] = np.polyfit(\n",
      "/tmp/ipykernel_49695/4045792978.py:49: RankWarning: Polyfit may be poorly conditioned\n",
      "  regcoil_results[key + \" (linear fit)\"] = np.polyfit(\n",
      "/tmp/ipykernel_49695/4045792978.py:49: RankWarning: Polyfit may be poorly conditioned\n",
      "  regcoil_results[key + \" (linear fit)\"] = np.polyfit(\n",
      "/tmp/ipykernel_49695/4045792978.py:49: RankWarning: Polyfit may be poorly conditioned\n",
      "  regcoil_results[key + \" (linear fit)\"] = np.polyfit(\n",
      "/tmp/ipykernel_49695/4045792978.py:49: RankWarning: Polyfit may be poorly conditioned\n",
      "  regcoil_results[key + \" (linear fit)\"] = np.polyfit(\n",
      "/tmp/ipykernel_49695/4045792978.py:49: RankWarning: Polyfit may be poorly conditioned\n",
      "  regcoil_results[key + \" (linear fit)\"] = np.polyfit(\n",
      "/tmp/ipykernel_49695/4045792978.py:49: RankWarning: Polyfit may be poorly conditioned\n",
      "  regcoil_results[key + \" (linear fit)\"] = np.polyfit(\n",
      "/tmp/ipykernel_49695/4045792978.py:49: RankWarning: Polyfit may be poorly conditioned\n",
      "  regcoil_results[key + \" (linear fit)\"] = np.polyfit(\n",
      "/tmp/ipykernel_49695/4045792978.py:49: RankWarning: Polyfit may be poorly conditioned\n",
      "  regcoil_results[key + \" (linear fit)\"] = np.polyfit(\n",
      "/tmp/ipykernel_49695/4045792978.py:49: RankWarning: Polyfit may be poorly conditioned\n",
      "  regcoil_results[key + \" (linear fit)\"] = np.polyfit(\n",
      "/tmp/ipykernel_49695/4045792978.py:49: RankWarning: Polyfit may be poorly conditioned\n",
      "  regcoil_results[key + \" (linear fit)\"] = np.polyfit(\n",
      "/tmp/ipykernel_49695/4045792978.py:49: RankWarning: Polyfit may be poorly conditioned\n",
      "  regcoil_results[key + \" (linear fit)\"] = np.polyfit(\n",
      "/tmp/ipykernel_49695/4045792978.py:49: RankWarning: Polyfit may be poorly conditioned\n",
      "  regcoil_results[key + \" (linear fit)\"] = np.polyfit(\n",
      "/tmp/ipykernel_49695/4045792978.py:49: RankWarning: Polyfit may be poorly conditioned\n",
      "  regcoil_results[key + \" (linear fit)\"] = np.polyfit(\n",
      "/tmp/ipykernel_49695/4045792978.py:49: RankWarning: Polyfit may be poorly conditioned\n",
      "  regcoil_results[key + \" (linear fit)\"] = np.polyfit(\n",
      "/tmp/ipykernel_49695/4045792978.py:49: RankWarning: Polyfit may be poorly conditioned\n",
      "  regcoil_results[key + \" (linear fit)\"] = np.polyfit(\n",
      "/tmp/ipykernel_49695/4045792978.py:49: RankWarning: Polyfit may be poorly conditioned\n",
      "  regcoil_results[key + \" (linear fit)\"] = np.polyfit(\n",
      "/tmp/ipykernel_49695/4045792978.py:49: RankWarning: Polyfit may be poorly conditioned\n",
      "  regcoil_results[key + \" (linear fit)\"] = np.polyfit(\n",
      "/tmp/ipykernel_49695/4045792978.py:49: RankWarning: Polyfit may be poorly conditioned\n",
      "  regcoil_results[key + \" (linear fit)\"] = np.polyfit(\n",
      "/tmp/ipykernel_49695/4045792978.py:49: RankWarning: Polyfit may be poorly conditioned\n",
      "  regcoil_results[key + \" (linear fit)\"] = np.polyfit(\n",
      "/tmp/ipykernel_49695/4045792978.py:49: RankWarning: Polyfit may be poorly conditioned\n",
      "  regcoil_results[key + \" (linear fit)\"] = np.polyfit(\n",
      "/tmp/ipykernel_49695/4045792978.py:49: RankWarning: Polyfit may be poorly conditioned\n",
      "  regcoil_results[key + \" (linear fit)\"] = np.polyfit(\n",
      "/tmp/ipykernel_49695/4045792978.py:49: RankWarning: Polyfit may be poorly conditioned\n",
      "  regcoil_results[key + \" (linear fit)\"] = np.polyfit(\n"
     ]
    },
    {
     "data": {
      "text/html": [
       "<div>\n",
       "<style scoped>\n",
       "    .dataframe tbody tr th:only-of-type {\n",
       "        vertical-align: middle;\n",
       "    }\n",
       "\n",
       "    .dataframe tbody tr th {\n",
       "        vertical-align: top;\n",
       "    }\n",
       "\n",
       "    .dataframe thead th {\n",
       "        text-align: right;\n",
       "    }\n",
       "</style>\n",
       "<table border=\"1\" class=\"dataframe\">\n",
       "  <thead>\n",
       "    <tr style=\"text-align: right;\">\n",
       "      <th></th>\n",
       "      <th>efficiency middle</th>\n",
       "      <th>feasibility middle</th>\n",
       "      <th>efficiency outer</th>\n",
       "      <th>feasibility outer</th>\n",
       "      <th>efficiency transferMatrix</th>\n",
       "      <th>feasibility transferMatrix</th>\n",
       "      <th>ID</th>\n",
       "      <th>qs_error</th>\n",
       "      <th>total_coil_length</th>\n",
       "      <th>total_coil_length_threshold</th>\n",
       "      <th>...</th>\n",
       "      <th>chi2_K (linear fit)</th>\n",
       "      <th>chi2_Laplace_Beltrami</th>\n",
       "      <th>chi2_Laplace_Beltrami[-1]</th>\n",
       "      <th>chi2_Laplace_Beltrami (linear fit)</th>\n",
       "      <th>max_Bnormal</th>\n",
       "      <th>max_Bnormal[-1]</th>\n",
       "      <th>max_Bnormal (linear fit)</th>\n",
       "      <th>max_K</th>\n",
       "      <th>max_K[-1]</th>\n",
       "      <th>max_K (linear fit)</th>\n",
       "    </tr>\n",
       "  </thead>\n",
       "  <tbody>\n",
       "    <tr>\n",
       "      <th>0</th>\n",
       "      <td>-4.164281</td>\n",
       "      <td>-2.221390</td>\n",
       "      <td>-4.164281</td>\n",
       "      <td>-0.536906</td>\n",
       "      <td>-7.081029</td>\n",
       "      <td>-4.123681</td>\n",
       "      <td>952</td>\n",
       "      <td>0.000005</td>\n",
       "      <td>35.000036</td>\n",
       "      <td>35.0</td>\n",
       "      <td>...</td>\n",
       "      <td>-2.604321e-19</td>\n",
       "      <td>[434412.75003995374, 3.1226700449020835e+21, 1...</td>\n",
       "      <td>8.504110e+15</td>\n",
       "      <td>-1.307095e-22</td>\n",
       "      <td>[1.8775128348966206, 6.059891385135074e-06, 0....</td>\n",
       "      <td>0.137748</td>\n",
       "      <td>-0.285891</td>\n",
       "      <td>[18592680.05239206, 2665318910.6103907, 265142...</td>\n",
       "      <td>2.463858e+07</td>\n",
       "      <td>-1.540552e-10</td>\n",
       "    </tr>\n",
       "    <tr>\n",
       "      <th>1</th>\n",
       "      <td>-4.547044</td>\n",
       "      <td>-2.553384</td>\n",
       "      <td>-4.547044</td>\n",
       "      <td>-0.593094</td>\n",
       "      <td>-7.275184</td>\n",
       "      <td>-4.184001</td>\n",
       "      <td>953</td>\n",
       "      <td>0.000031</td>\n",
       "      <td>35.000174</td>\n",
       "      <td>35.0</td>\n",
       "      <td>...</td>\n",
       "      <td>1.018328e-15</td>\n",
       "      <td>[1203621.9706384614, 3.0474655224579628e+16, 9...</td>\n",
       "      <td>7.866923e+15</td>\n",
       "      <td>-8.007733e-18</td>\n",
       "      <td>[2.3770267062062276, 4.639914166659764e-06, 0....</td>\n",
       "      <td>0.160139</td>\n",
       "      <td>-0.163214</td>\n",
       "      <td>[18823695.56391238, 28002688.273855228, 281157...</td>\n",
       "      <td>2.691264e+07</td>\n",
       "      <td>3.383446e-08</td>\n",
       "    </tr>\n",
       "    <tr>\n",
       "      <th>2</th>\n",
       "      <td>-5.012239</td>\n",
       "      <td>-2.755811</td>\n",
       "      <td>-5.012239</td>\n",
       "      <td>-0.120335</td>\n",
       "      <td>-7.451195</td>\n",
       "      <td>-4.093423</td>\n",
       "      <td>954</td>\n",
       "      <td>0.000086</td>\n",
       "      <td>35.000431</td>\n",
       "      <td>35.0</td>\n",
       "      <td>...</td>\n",
       "      <td>1.495231e-15</td>\n",
       "      <td>[128140027.5368672, 1.3760704821864062e+16, 1....</td>\n",
       "      <td>1.036930e+16</td>\n",
       "      <td>2.894539e-17</td>\n",
       "      <td>[2.9442444688796217, 3.895807680009966e-05, 0....</td>\n",
       "      <td>0.183507</td>\n",
       "      <td>-0.183928</td>\n",
       "      <td>[18677932.972327244, 30724109.124682378, 30737...</td>\n",
       "      <td>2.952595e+07</td>\n",
       "      <td>4.270250e-08</td>\n",
       "    </tr>\n",
       "    <tr>\n",
       "      <th>3</th>\n",
       "      <td>-5.075349</td>\n",
       "      <td>-1.559197</td>\n",
       "      <td>-5.075349</td>\n",
       "      <td>2.971369</td>\n",
       "      <td>-0.057991</td>\n",
       "      <td>8.059807</td>\n",
       "      <td>957</td>\n",
       "      <td>0.000598</td>\n",
       "      <td>35.002510</td>\n",
       "      <td>35.0</td>\n",
       "      <td>...</td>\n",
       "      <td>4.365669e-16</td>\n",
       "      <td>[294665438374.4273, 1.4176223309349408e+17, 4....</td>\n",
       "      <td>3.101662e+16</td>\n",
       "      <td>-2.404213e-18</td>\n",
       "      <td>[5.579490927486766, 0.06233691299509658, 0.060...</td>\n",
       "      <td>0.240994</td>\n",
       "      <td>-0.100328</td>\n",
       "      <td>[20674208.414332036, 49597880.87917542, 477298...</td>\n",
       "      <td>4.218482e+07</td>\n",
       "      <td>1.255056e-08</td>\n",
       "    </tr>\n",
       "    <tr>\n",
       "      <th>4</th>\n",
       "      <td>-5.034838</td>\n",
       "      <td>-1.008344</td>\n",
       "      <td>-5.034838</td>\n",
       "      <td>3.367596</td>\n",
       "      <td>0.302185</td>\n",
       "      <td>9.321995</td>\n",
       "      <td>958</td>\n",
       "      <td>0.000907</td>\n",
       "      <td>35.003572</td>\n",
       "      <td>35.0</td>\n",
       "      <td>...</td>\n",
       "      <td>1.719355e-19</td>\n",
       "      <td>[1213895771957.3372, 7.998176922110234e+21]</td>\n",
       "      <td>7.998177e+21</td>\n",
       "      <td>1.250285e-22</td>\n",
       "      <td>[13.16205412860676, 10.018816141425411]</td>\n",
       "      <td>10.018816</td>\n",
       "      <td>-0.318143</td>\n",
       "      <td>[22525632.651519172, 7695195378.492751]</td>\n",
       "      <td>7.695195e+09</td>\n",
       "      <td>1.303327e-10</td>\n",
       "    </tr>\n",
       "    <tr>\n",
       "      <th>...</th>\n",
       "      <td>...</td>\n",
       "      <td>...</td>\n",
       "      <td>...</td>\n",
       "      <td>...</td>\n",
       "      <td>...</td>\n",
       "      <td>...</td>\n",
       "      <td>...</td>\n",
       "      <td>...</td>\n",
       "      <td>...</td>\n",
       "      <td>...</td>\n",
       "      <td>...</td>\n",
       "      <td>...</td>\n",
       "      <td>...</td>\n",
       "      <td>...</td>\n",
       "      <td>...</td>\n",
       "      <td>...</td>\n",
       "      <td>...</td>\n",
       "      <td>...</td>\n",
       "      <td>...</td>\n",
       "      <td>...</td>\n",
       "      <td>...</td>\n",
       "    </tr>\n",
       "    <tr>\n",
       "      <th>107</th>\n",
       "      <td>-5.702343</td>\n",
       "      <td>-1.763309</td>\n",
       "      <td>-5.702343</td>\n",
       "      <td>2.805862</td>\n",
       "      <td>-2.505088</td>\n",
       "      <td>5.848733</td>\n",
       "      <td>1910</td>\n",
       "      <td>0.002385</td>\n",
       "      <td>33.017236</td>\n",
       "      <td>33.0</td>\n",
       "      <td>...</td>\n",
       "      <td>1.718205e-20</td>\n",
       "      <td>[286635595775.3863, 6.497020861245967e+22]</td>\n",
       "      <td>6.497021e+22</td>\n",
       "      <td>1.539167e-23</td>\n",
       "      <td>[1724.3676303505101, 9.046581994707143]</td>\n",
       "      <td>9.046582</td>\n",
       "      <td>-0.000583</td>\n",
       "      <td>[22187711.786056604, 23965596661.038902]</td>\n",
       "      <td>2.396560e+10</td>\n",
       "      <td>4.176515e-11</td>\n",
       "    </tr>\n",
       "    <tr>\n",
       "      <th>108</th>\n",
       "      <td>-3.147176</td>\n",
       "      <td>-1.124621</td>\n",
       "      <td>-3.147176</td>\n",
       "      <td>0.268050</td>\n",
       "      <td>-6.340542</td>\n",
       "      <td>-3.564824</td>\n",
       "      <td>1911</td>\n",
       "      <td>0.000055</td>\n",
       "      <td>33.000814</td>\n",
       "      <td>33.0</td>\n",
       "      <td>...</td>\n",
       "      <td>-5.221373e-18</td>\n",
       "      <td>[24925450811027.4, 5.4164166942475085e+20, 1.8...</td>\n",
       "      <td>1.479212e+16</td>\n",
       "      <td>-7.535571e-22</td>\n",
       "      <td>[3.18754709934224, 5.746173941667543e-07, 0.01...</td>\n",
       "      <td>0.181760</td>\n",
       "      <td>-0.172893</td>\n",
       "      <td>[18332896.21846626, 1202133085.126844, 2667133...</td>\n",
       "      <td>2.441365e+07</td>\n",
       "      <td>-3.440142e-10</td>\n",
       "    </tr>\n",
       "    <tr>\n",
       "      <th>109</th>\n",
       "      <td>-4.054969</td>\n",
       "      <td>-2.033424</td>\n",
       "      <td>-4.054969</td>\n",
       "      <td>-0.138176</td>\n",
       "      <td>-6.912925</td>\n",
       "      <td>-3.895968</td>\n",
       "      <td>1912</td>\n",
       "      <td>0.000075</td>\n",
       "      <td>33.000505</td>\n",
       "      <td>33.0</td>\n",
       "      <td>...</td>\n",
       "      <td>-5.005242e-17</td>\n",
       "      <td>[8474251.731653735, 7.878603727944863e+18, 1.3...</td>\n",
       "      <td>1.125637e+16</td>\n",
       "      <td>-5.176576e-20</td>\n",
       "      <td>[4.21845642544327, 0.00026978364972207736, 0.0...</td>\n",
       "      <td>0.170085</td>\n",
       "      <td>-0.132406</td>\n",
       "      <td>[18171341.05322411, 214242345.5173619, 2732026...</td>\n",
       "      <td>2.700606e+07</td>\n",
       "      <td>-2.004021e-09</td>\n",
       "    </tr>\n",
       "    <tr>\n",
       "      <th>110</th>\n",
       "      <td>-3.795141</td>\n",
       "      <td>-1.578604</td>\n",
       "      <td>-3.795141</td>\n",
       "      <td>0.937015</td>\n",
       "      <td>-7.500837</td>\n",
       "      <td>-4.207893</td>\n",
       "      <td>1913</td>\n",
       "      <td>0.000191</td>\n",
       "      <td>33.001115</td>\n",
       "      <td>33.0</td>\n",
       "      <td>...</td>\n",
       "      <td>-1.847653e-19</td>\n",
       "      <td>[533615600.08019507, 3.720256795326795e+21, 1....</td>\n",
       "      <td>1.350622e+16</td>\n",
       "      <td>-1.097135e-22</td>\n",
       "      <td>[4.601635919608206, 0.08459447214906457, 0.081...</td>\n",
       "      <td>0.190688</td>\n",
       "      <td>-0.125487</td>\n",
       "      <td>[18563765.445272468, 3671744773.6895556, 29253...</td>\n",
       "      <td>2.896799e+07</td>\n",
       "      <td>-1.115040e-10</td>\n",
       "    </tr>\n",
       "    <tr>\n",
       "      <th>111</th>\n",
       "      <td>-3.808622</td>\n",
       "      <td>-1.080894</td>\n",
       "      <td>-3.808622</td>\n",
       "      <td>1.936501</td>\n",
       "      <td>-5.957737</td>\n",
       "      <td>-1.848492</td>\n",
       "      <td>1914</td>\n",
       "      <td>0.000406</td>\n",
       "      <td>33.002187</td>\n",
       "      <td>33.0</td>\n",
       "      <td>...</td>\n",
       "      <td>-3.861799e-21</td>\n",
       "      <td>[78356712071365.28, 2.9627907276769967e+25, 4....</td>\n",
       "      <td>1.640338e+22</td>\n",
       "      <td>-1.422421e-26</td>\n",
       "      <td>[5.2131918383757245, 0.23824940427881947, 1.57...</td>\n",
       "      <td>0.804945</td>\n",
       "      <td>-0.127828</td>\n",
       "      <td>[19083728.65900452, 652275499967.9695, 3350614...</td>\n",
       "      <td>2.965163e+10</td>\n",
       "      <td>-5.814056e-13</td>\n",
       "    </tr>\n",
       "  </tbody>\n",
       "</table>\n",
       "<p>112 rows × 39 columns</p>\n",
       "</div>"
      ],
      "text/plain": [
       "     efficiency middle  feasibility middle  efficiency outer  \\\n",
       "0            -4.164281           -2.221390         -4.164281   \n",
       "1            -4.547044           -2.553384         -4.547044   \n",
       "2            -5.012239           -2.755811         -5.012239   \n",
       "3            -5.075349           -1.559197         -5.075349   \n",
       "4            -5.034838           -1.008344         -5.034838   \n",
       "..                 ...                 ...               ...   \n",
       "107          -5.702343           -1.763309         -5.702343   \n",
       "108          -3.147176           -1.124621         -3.147176   \n",
       "109          -4.054969           -2.033424         -4.054969   \n",
       "110          -3.795141           -1.578604         -3.795141   \n",
       "111          -3.808622           -1.080894         -3.808622   \n",
       "\n",
       "     feasibility outer  efficiency transferMatrix  feasibility transferMatrix  \\\n",
       "0            -0.536906                  -7.081029                   -4.123681   \n",
       "1            -0.593094                  -7.275184                   -4.184001   \n",
       "2            -0.120335                  -7.451195                   -4.093423   \n",
       "3             2.971369                  -0.057991                    8.059807   \n",
       "4             3.367596                   0.302185                    9.321995   \n",
       "..                 ...                        ...                         ...   \n",
       "107           2.805862                  -2.505088                    5.848733   \n",
       "108           0.268050                  -6.340542                   -3.564824   \n",
       "109          -0.138176                  -6.912925                   -3.895968   \n",
       "110           0.937015                  -7.500837                   -4.207893   \n",
       "111           1.936501                  -5.957737                   -1.848492   \n",
       "\n",
       "       ID  qs_error  total_coil_length  total_coil_length_threshold  ...  \\\n",
       "0     952  0.000005          35.000036                         35.0  ...   \n",
       "1     953  0.000031          35.000174                         35.0  ...   \n",
       "2     954  0.000086          35.000431                         35.0  ...   \n",
       "3     957  0.000598          35.002510                         35.0  ...   \n",
       "4     958  0.000907          35.003572                         35.0  ...   \n",
       "..    ...       ...                ...                          ...  ...   \n",
       "107  1910  0.002385          33.017236                         33.0  ...   \n",
       "108  1911  0.000055          33.000814                         33.0  ...   \n",
       "109  1912  0.000075          33.000505                         33.0  ...   \n",
       "110  1913  0.000191          33.001115                         33.0  ...   \n",
       "111  1914  0.000406          33.002187                         33.0  ...   \n",
       "\n",
       "     chi2_K (linear fit)                              chi2_Laplace_Beltrami  \\\n",
       "0          -2.604321e-19  [434412.75003995374, 3.1226700449020835e+21, 1...   \n",
       "1           1.018328e-15  [1203621.9706384614, 3.0474655224579628e+16, 9...   \n",
       "2           1.495231e-15  [128140027.5368672, 1.3760704821864062e+16, 1....   \n",
       "3           4.365669e-16  [294665438374.4273, 1.4176223309349408e+17, 4....   \n",
       "4           1.719355e-19        [1213895771957.3372, 7.998176922110234e+21]   \n",
       "..                   ...                                                ...   \n",
       "107         1.718205e-20         [286635595775.3863, 6.497020861245967e+22]   \n",
       "108        -5.221373e-18  [24925450811027.4, 5.4164166942475085e+20, 1.8...   \n",
       "109        -5.005242e-17  [8474251.731653735, 7.878603727944863e+18, 1.3...   \n",
       "110        -1.847653e-19  [533615600.08019507, 3.720256795326795e+21, 1....   \n",
       "111        -3.861799e-21  [78356712071365.28, 2.9627907276769967e+25, 4....   \n",
       "\n",
       "     chi2_Laplace_Beltrami[-1]  chi2_Laplace_Beltrami (linear fit)  \\\n",
       "0                 8.504110e+15                       -1.307095e-22   \n",
       "1                 7.866923e+15                       -8.007733e-18   \n",
       "2                 1.036930e+16                        2.894539e-17   \n",
       "3                 3.101662e+16                       -2.404213e-18   \n",
       "4                 7.998177e+21                        1.250285e-22   \n",
       "..                         ...                                 ...   \n",
       "107               6.497021e+22                        1.539167e-23   \n",
       "108               1.479212e+16                       -7.535571e-22   \n",
       "109               1.125637e+16                       -5.176576e-20   \n",
       "110               1.350622e+16                       -1.097135e-22   \n",
       "111               1.640338e+22                       -1.422421e-26   \n",
       "\n",
       "                                           max_Bnormal  max_Bnormal[-1]  \\\n",
       "0    [1.8775128348966206, 6.059891385135074e-06, 0....         0.137748   \n",
       "1    [2.3770267062062276, 4.639914166659764e-06, 0....         0.160139   \n",
       "2    [2.9442444688796217, 3.895807680009966e-05, 0....         0.183507   \n",
       "3    [5.579490927486766, 0.06233691299509658, 0.060...         0.240994   \n",
       "4              [13.16205412860676, 10.018816141425411]        10.018816   \n",
       "..                                                 ...              ...   \n",
       "107            [1724.3676303505101, 9.046581994707143]         9.046582   \n",
       "108  [3.18754709934224, 5.746173941667543e-07, 0.01...         0.181760   \n",
       "109  [4.21845642544327, 0.00026978364972207736, 0.0...         0.170085   \n",
       "110  [4.601635919608206, 0.08459447214906457, 0.081...         0.190688   \n",
       "111  [5.2131918383757245, 0.23824940427881947, 1.57...         0.804945   \n",
       "\n",
       "     max_Bnormal (linear fit)  \\\n",
       "0                   -0.285891   \n",
       "1                   -0.163214   \n",
       "2                   -0.183928   \n",
       "3                   -0.100328   \n",
       "4                   -0.318143   \n",
       "..                        ...   \n",
       "107                 -0.000583   \n",
       "108                 -0.172893   \n",
       "109                 -0.132406   \n",
       "110                 -0.125487   \n",
       "111                 -0.127828   \n",
       "\n",
       "                                                 max_K     max_K[-1]  \\\n",
       "0    [18592680.05239206, 2665318910.6103907, 265142...  2.463858e+07   \n",
       "1    [18823695.56391238, 28002688.273855228, 281157...  2.691264e+07   \n",
       "2    [18677932.972327244, 30724109.124682378, 30737...  2.952595e+07   \n",
       "3    [20674208.414332036, 49597880.87917542, 477298...  4.218482e+07   \n",
       "4              [22525632.651519172, 7695195378.492751]  7.695195e+09   \n",
       "..                                                 ...           ...   \n",
       "107           [22187711.786056604, 23965596661.038902]  2.396560e+10   \n",
       "108  [18332896.21846626, 1202133085.126844, 2667133...  2.441365e+07   \n",
       "109  [18171341.05322411, 214242345.5173619, 2732026...  2.700606e+07   \n",
       "110  [18563765.445272468, 3671744773.6895556, 29253...  2.896799e+07   \n",
       "111  [19083728.65900452, 652275499967.9695, 3350614...  2.965163e+10   \n",
       "\n",
       "     max_K (linear fit)  \n",
       "0         -1.540552e-10  \n",
       "1          3.383446e-08  \n",
       "2          4.270250e-08  \n",
       "3          1.255056e-08  \n",
       "4          1.303327e-10  \n",
       "..                  ...  \n",
       "107        4.176515e-11  \n",
       "108       -3.440142e-10  \n",
       "109       -2.004021e-09  \n",
       "110       -1.115040e-10  \n",
       "111       -5.814056e-13  \n",
       "\n",
       "[112 rows x 39 columns]"
      ]
     },
     "execution_count": 4,
     "metadata": {},
     "output_type": "execute_result"
    }
   ],
   "source": [
    "import bdistrib_util\n",
    "import os\n",
    "import bdistrib_io\n",
    "import precompute_complexities\n",
    "\n",
    "max_ID = 1915\n",
    "max_ID = int(max_ID)\n",
    "\n",
    "unpickled_df = pd.read_pickle(\"QUASR_db/QA_database_26032024.pkl\")\n",
    "\n",
    "efficiencies = []\n",
    "for ID in range(max_ID):\n",
    "    bdistrib_path = bdistrib_io.get_file_path(ID, \"bdistrib\")\n",
    "    if os.path.exists(bdistrib_path):\n",
    "        results_dict = bdistrib_util.rate_of_efficiency_sequence(bdistrib_path)\n",
    "        results_dict[\"ID\"] = ID\n",
    "        efficiencies.append(results_dict)\n",
    "df = pd.DataFrame(efficiencies)\n",
    "\n",
    "# Compute coil complexity from coils\n",
    "def get_complexity(ID):\n",
    "    return precompute_complexities.cached_get_complexity(ID)\n",
    "\n",
    "# complexity = [get_complexity(ID) for ID in df[\"ID\"]]\n",
    "# df = df.join(pd.DataFrame(complexity)).select_dtypes(exclude=[\"object\"])\n",
    "unpickled_df[\"complexity\"] = unpickled_df[\"max_kappa\"] + unpickled_df[\"max_msc\"]\n",
    "unpickled_df[\"log(qs error)\"] = np.log(unpickled_df[\"qs_error\"])\n",
    "\n",
    "df = df.merge(unpickled_df, left_on=\"ID\", right_on=\"ID\")\n",
    "\n",
    "def get_regcoil(ID):\n",
    "    from scipy.io import netcdf_file\n",
    "\n",
    "    with netcdf_file(\n",
    "        bdistrib_io.get_file_path(ID, \"regcoil\"), \"r\", mmap=False\n",
    "    ) as f:\n",
    "        regcoil_results = {}\n",
    "        for key in [\n",
    "            \"lambda\",\n",
    "            \"chi2_B\",\n",
    "            \"chi2_K\",\n",
    "            \"chi2_Laplace_Beltrami\",\n",
    "            \"max_Bnormal\",\n",
    "            \"max_K\",\n",
    "        ]:\n",
    "            metric_for_different_lambda = f.variables[key][()]\n",
    "            regcoil_results[key] = metric_for_different_lambda\n",
    "            regcoil_results[key + \"[-1]\"] = metric_for_different_lambda[-1]\n",
    "            regcoil_results[key + \" (linear fit)\"] = np.polyfit(\n",
    "                metric_for_different_lambda,\n",
    "                np.linspace(0, 1, len(metric_for_different_lambda)),\n",
    "                1,\n",
    "            )[0]\n",
    "        regcoil_results[\"ID\"] = ID\n",
    "    return regcoil_results\n",
    "regcoil_df = pd.DataFrame([get_regcoil(ID) for ID in df[\"ID\"]])\n",
    "\n",
    "df = df.merge(regcoil_df, left_on=\"ID\", right_on=\"ID\").infer_objects()\n",
    "\n",
    "df\n"
   ]
  },
  {
   "cell_type": "code",
   "execution_count": 5,
   "metadata": {},
   "outputs": [
    {
     "data": {
      "application/vnd.plotly.v1+json": {
       "config": {
        "plotlyServerURL": "https://plot.ly"
       },
       "data": [
        {
         "type": "contour",
         "z": [
          [
           -1.6922089438331594e-9,
           -46178.81106029755,
           -90770.95203446377,
           -132317.23028679914,
           -169599.63310023968,
           -201727.44399207423,
           -228183.67103913194,
           -248824.98015673933,
           -263837.0855306828,
           -273657.08006739843,
           -278880.6193678838,
           -280172.5517648268,
           -278194.6998552243,
           -273556.7757744116,
           -266789.30769325787,
           -258333.2516711735,
           -248540.04152109247,
           -237677.2005732014,
           -225936.90611504958,
           -213446.8593003958,
           -200283.6516161265,
           -186488.25821296772,
           -172081.84618107512,
           -157078.99770567325,
           -141495.91861395008,
           -125353.37300506746,
           -108676.67358287207,
           -91496.22509852661,
           -73850.94959578018,
           -55794.22190037625,
           -37399.595237592606,
           -18763.068601659408,
           -9.581470491097054e-10,
           18763.068601657476,
           37399.595237590554,
           55794.22190037397,
           73850.94959577784,
           91496.2250985242,
           108676.67358286987,
           125353.37300506559,
           141495.9186139482,
           157078.99770567115,
           172081.8461810724,
           186488.25821296516,
           200283.65161612348,
           213446.85930039306,
           225936.90611504632,
           237677.20057319806,
           248540.0415210892,
           258333.25167117035,
           266789.30769325513,
           273556.77577440895,
           278194.69985522144,
           280172.55176482385,
           278880.6193678807,
           273657.08006739535,
           263837.0855306797,
           248824.98015673645,
           228183.67103912894,
           201727.44399207126,
           169599.63310023726,
           132317.2302867966,
           90770.95203446117,
           46178.81106029422
          ],
          [
           -831238.650665909,
           -876230.0655617313,
           -916886.5877886509,
           -951825.583109707,
           -980010.8443762994,
           -1000845.8097571705,
           -1014211.5776420264,
           -1020439.9154804118,
           -1020226.9754558436,
           -1014508.4380689992,
           -1004325.0163781387,
           -990705.4808365372,
           -974584.2417483181,
           -956757.305919426,
           -937869.7976022749,
           -918423.3875149514,
           -898792.6590934227,
           -879243.1832335873,
           -859948.1735353485,
           -841003.4341172336,
           -822441.4730984693,
           -804245.4390947361,
           -786362.6047153284,
           -768716.335547788,
           -751215.6138073063,
           -733762.3589748413,
           -716258.199424912,
           -698612.7562215229,
           -680754.270913985,
           -662641.1967767607,
           -644271.692311702,
           -625687.9764237078,
           -606974.1665719688,
           -588248.4449866036,
           -569652.0510130767,
           -551338.2019745734,
           -533463.6732400928,
           -516184.56716082053,
           -499655.92053620506,
           -484032.81271214125,
           -469469.6919596086,
           -456115.76033586386,
           -444107.23168847256,
           -433560.33912055264,
           -424569.9283840866,
           -417216.47391841514,
           -411580.6540178167,
           -407761.61969297554,
           -405894.4288670147,
           -406163.5423882957,
           -408811.1657410728,
           -414140.06846957887,
           -422510.0019409021,
           -434325.7095630319,
           -450013.7802008664,
           -469985.90980831964,
           -494587.83086599177,
           -524036.2924395197,
           -558350.5656858264,
           -597288.7653498212,
           -640301.1112513336,
           -686510.9740607475,
           -734730.543958833,
           -783512.9758607291
          ],
          [
           -1663980.2186218759,
           -1708067.358792292,
           -1744897.6946265784,
           -1773104.3849631697,
           -1791814.3303630643,
           -1800750.1810155944,
           -1800252.4896285916,
           -1791211.5856460156,
           -1774922.633333449,
           -1752898.2623925102,
           -1726682.1489365895,
           -1697700.60355008,
           -1667171.6181053848,
           -1636070.7224820259,
           -1605138.7739886588,
           -1574912.1754715093,
           -1545759.33384004,
           -1517913.8874966577,
           -1491501.2952779871,
           -1466559.0474011733,
           -1443052.2544206034,
           -1420886.5564575768,
           -1399919.824737201,
           -1379973.4539133175,
           -1360843.6277837388,
           -1342313.0523343496,
           -1324163.9923069114,
           -1306193.27556844,
           -1288228.783398382,
           -1270145.2872102214,
           -1251876.4820558205,
           -1233420.581894211,
           -1214838.6985879112,
           -1196247.3673279192,
           -1177807.9630620196,
           -1159716.0053400036,
           -1142192.6516976587,
           -1125479.2767744793,
           -1109834.1562453152,
           -1095528.5401163604,
           -1082838.9472202433,
           -1072034.2567367868,
           -1063359.6799542988,
           -1057022.9376599595,
           -1053188.5934232222,
           -1051983.7214702,
           -1053513.5053878964,
           -1057881.7571561479,
           -1065210.5481904522,
           -1075654.7887165912,
           -1089409.7806193691,
           -1106710.861182139,
           -1127824.07974648,
           -1153026.4214114859,
           -1182574.4316868526,
           -1216661.424291337,
           -1255365.353730687,
           -1298591.4603893505,
           -1346015.7251068067,
           -1397036.7503405453,
           -1450744.451818612,
           -1505913.5232737635,
           -1561028.180660908,
           -1614342.739787397
          ],
          [
           -2499411.418165814,
           -2542743.1242618947,
           -2575680.0288648894,
           -2596839.5099570043,
           -2605521.711876535,
           -2601816.8531940663,
           -2586600.7197691463,
           -2561410.087554443,
           -2528223.1169673325,
           -2489196.6658219304,
           -2446420.9983189413,
           -2401739.3052034997,
           -2356652.2325303885,
           -2312299.6168983644,
           -2269494.1932168542,
           -2228778.841099956,
           -2190485.956816055,
           -2154787.655411009,
           -2121733.4677712223,
           -2091276.5706897257,
           -2063291.4455030249,
           -2037586.4801884133,
           -2013914.8588423678,
           -1991986.207452903,
           -1971480.2879236382,
           -1952063.1392379568,
           -1933405.595955916,
           -1915203.6163207446,
           -1897198.9107802254,
           -1879197.273024274,
           -1861081.6492102412,
           -1842817.9256555063,
           -1824453.336520574,
           -1806109.2835168636,
           -1787971.36095238,
           -1770279.287857755,
           -1753318.5081860428,
           -1737413.6896298444,
           -1722922.5192143067,
           -1710226.7647885445,
           -1699717.6744326937,
           -1691775.1441867591,
           -1686743.976108763,
           -1684913.7561910737,
           -1686509.09111007,
           -1691693.5854956098,
           -1700585.8252482538,
           -1713281.6655021082,
           -1729876.1566900597,
           -1750480.0821759421,
           -1775228.3876845296,
           -1804279.0916001375,
           -1837801.4216973323,
           -1875951.9787786491,
           -1918838.6480783888,
           -1966473.7379789809,
           -2018719.6429921628,
           -2075231.6018561888,
           -2135402.985208266,
           -2198319.5474359784,
           -2262730.4480606094,
           -2327045.186574791,
           -2389366.1458080905,
           -2447565.444964196
          ],
          [
           -3338123.474220255,
           -3380677.199384746,
           -3409475.840140787,
           -3423120.266738984,
           -3421118.8494546516,
           -3403992.535074714,
           -3373231.3729300243,
           -3331099.1350092627,
           -3280325.9127514334,
           -3223761.2110397536,
           -3164066.7692784453,
           -3103506.439175468,
           -3043851.843797507,
           -2986386.144496424,
           -2931968.4568681605,
           -2881121.064332202,
           -2834113.2545439852,
           -2791029.30150585,
           -2751817.733250745,
           -2716323.9420383926,
           -2684310.4449632824,
           -2655470.1335645444,
           -2629437.712567071,
           -2605803.0779549563,
           -2584128.280149155,
           -2563968.00029273,
           -2544892.5504250033,
           -2526511.86492599,
           -2508498.302755937,
           -2490605.532487401,
           -2472680.998464867,
           -2454670.7630952345,
           -2436617.3623293345,
           -2418652.782315424,
           -2400989.1960449372,
           -2383909.702134379,
           -2367760.22694536,
           -2352942.1660192413,
           -2339903.582535479,
           -2329125.6895914623,
           -2321102.034541489,
           -2316310.7198788086,
           -2315184.074138541,
           -2318083.140240143,
           -2325284.124547542,
           -2336980.285683061,
           -2353297.496289714,
           -2374317.61103763,
           -2400102.5501687336,
           -2430713.378729344,
           -2466220.9034258197,
           -2506705.8108737804,
           -2552246.820356522,
           -2602895.590938581,
           -2658638.1264161766,
           -2719344.165600715,
           -2784707.7564432444,
           -2854183.3607796505,
           -2926922.8786398675,
           -3001720.9328174065,
           -3076978.9465611344,
           -3150701.842339292,
           -3220542.4931139303,
           -3283906.578963562
          ],
          [
           -4179900.4576668874,
           -4221470.431072507,
           -4245737.060650144,
           -4251312.32524021,
           -4237965.22657321,
           -4206714.609876558,
           -4159734.855716063,
           -4100078.2970023304,
           -4031271.436561597,
           -3956879.8786499863,
           -3880140.4062472447,
           -3803726.149159524,
           -3729659.6445032246,
           -3659343.923560157,
           -3593660.8041668735,
           -3533089.3031782354,
           -3477814.0703598354,
           -3427810.9267167463,
           -3382907.510752531,
           -3342822.332747761,
           -3307188.198530144,
           -3275567.311760579,
           -3247464.9223529464,
           -3222346.003759301,
           -3199656.338970837,
           -3178847.1369112274,
           -3159401.34506924,
           -3140859.501525371,
           -3122842.666117759,
           -3105069.904413326,
           -3087368.5430760933,
           -3069676.9682804956,
           -3052041.3547682646,
           -3034608.6154201347,
           -3017617.866586542,
           -3001392.068703575,
           -2986330.3912272234,
           -2972900.280169877,
           -2961626.544953361,
           -2953074.043471475,
           -2947821.8139240555,
           -2946429.8632568717,
           -2949403.862799253,
           -2957165.510247313,
           -2970035.703215378,
           -2988234.0187176103,
           -3011893.0109937363,
           -3041081.7983891214,
           -3075831.826234076,
           -3116158.562148362,
           -3162074.9063266423,
           -3213593.7541600848,
           -3270717.793918155,
           -3333414.798830176,
           -3401577.3292532307,
           -3474967.222723199,
           -3553147.0624892935,
           -3635402.649729481,
           -3720662.985113744,
           -3807428.4328004024,
           -3893723.387777196,
           -3977094.461603536,
           -4054675.418779492,
           -4123333.661448741
          ],
          [
           -5023595.572154873,
           -5063806.630495758,
           -5083051.578347096,
           -5080003.620409028,
           -5054752.792146954,
           -5008875.645102545,
           -4945280.444085361,
           -4867840.589743667,
           -4780891.7063945485,
           -4688710.046407995,
           -4595088.955785237,
           -4503085.948148431,
           -4414948.965747673,
           -4332178.259740883,
           -4255659.533856575,
           -4185812.874812264,
           -4122724.5115434844,
           -4066248.753387054,
           -4016079.2879398055,
           -3971794.5629056306,
           -3932885.0327282213,
           -3898771.538978822,
           -3868822.988237585,
           -3842377.892801829,
           -3818770.2941388017,
           -3797358.150088398,
           -3777551.673661596,
           -3758839.225560423,
           -3740808.413652823,
           -3723160.384692282,
           -3705716.460484927,
           -3688417.965686951,
           -3671321.3447952243,
           -3654590.890529737,
           -3638490.876587534,
           -3623378.100176744,
           -3609694.807024072,
           -3597960.4794236524,
           -3588759.424720442,
           -3582720.713192395,
           -3580488.802015299,
           -3582686.8238301883,
           -3589878.2908055885,
           -3602534.8861477976,
           -3621017.1039678543,
           -3645571.169493807,
           -3676341.2837423426,
           -3713392.4050703975,
           -3756736.7779119564,
           -3806357.6470046653,
           -3862225.3053702856,
           -3924302.351282447,
           -3992535.696968644,
           -4066832.6517891334,
           -4147018.407381804,
           -4232773.378703078,
           -4323551.169642877,
           -4418481.323612022,
           -4516266.036484793,
           -4615087.227084853,
           -4712548.452239842,
           -4805681.048496211,
           -4891040.895582181,
           -4964909.701347215
          ],
          [
           -5867104.07935417,
           -5905447.630075073,
           -5919154.157075677,
           -5907022.643273892,
           -5869522.6015917305,
           -5808830.383357845,
           -5728607.790363864,
           -5633545.444458552,
           -5528764.540587094,
           -5419216.062879431,
           -5309210.256993433,
           -5202152.985112262,
           -5100489.536549623,
           -5005798.254384043,
           -4918957.001110782,
           -4840320.0129506495,
           -4769870.45038062,
           -4707336.812324744,
           -4652273.76376357,
           -4604113.644111593,
           -4562198.31512882,
           -4525802.380795504,
           -4494156.700468705,
           -4466476.160328306,
           -4441990.875353718,
           -4419977.772445826,
           -4399789.616649009,
           -4380879.233224647,
           -4362817.055101414,
           -4345300.758098044,
           -4328157.2187177325,
           -4311338.733811882,
           -4294916.203733915,
           -4279071.473959607,
           -4264090.011215696,
           -4250354.254297605,
           -4238337.119118964,
           -4228593.778085696,
           -4221748.429738945,
           -4218472.713162937,
           -4219454.619966286,
           -4225360.47634553,
           -4236795.859258654,
           -4254272.563469798,
           -4278187.6511127995,
           -4308817.862883435,
           -4346329.109897563,
           -4390797.261637951,
           -4442234.047103867,
           -4500611.459432854,
           -4565879.399480836,
           -4637972.950389532,
           -4716806.108886373,
           -4802247.907508037,
           -4894076.093644709,
           -4991904.501659755,
           -5095083.594375063,
           -5202579.366757929,
           -5312844.099135067,
           -5423702.998085141,
           -5532290.697100049,
           -5635075.116110913,
           -5727997.987930266,
           -5806741.395470006
          ],
          [
           -6707430.913277446,
           -6743316.361798353,
           -6751015.209279453,
           -6729522.113857887,
           -6679733.344947288,
           -6604441.322504093,
           -6508044.960832098,
           -6396008.127578257,
           -6274176.464873372,
           -6148110.081907909,
           -6022577.400957906,
           -5901288.061915257,
           -5786856.474505006,
           -5680925.260297382,
           -5584360.985542836,
           -5497454.614318532,
           -5420091.2856802475,
           -5351878.704789756,
           -5292236.111183915,
           -5240451.680441439,
           -5195719.829826651,
           -5157170.838996033,
           -5123901.799176306,
           -5095011.612474076,
           -5069637.547541401,
           -5046989.245654316,
           -5026377.127482104,
           -5007233.467061315,
           -4989125.043169965,
           -4971757.111926744,
           -4954970.089504396,
           -4938731.899778132,
           -4923129.119021944,
           -4908358.824616465,
           -4894721.64872213,
           -4882615.766937415,
           -4872530.933846419,
           -4865040.487052089,
           -4860787.993590683,
           -4860465.439918645,
           -4864782.330796679,
           -4874428.63680376,
           -4890037.163709014,
           -4912151.484980638,
           -4941204.455626682,
           -4977510.324044271,
           -5021270.850689858,
           -5072592.759578291,
           -5131511.172832954,
           -5198012.71274574,
           -5272052.926362929,
           -5353564.061806371,
           -5442449.109529106,
           -5538556.263994316,
           -5641626.51954786,
           -5751208.319691204,
           -5866538.083305403,
           -5986393.968791567,
           -6108942.041777966,
           -6231607.597911997,
           -6351015.144539294,
           -6463041.107397063,
           -6563008.424960401,
           -6646024.2450704025
          ],
          [
           -7540842.35580939,
           -7573655.5745252175,
           -7574994.934286062,
           -7544117.030783032,
           -7482373.497085414,
           -7393158.106229299,
           -7281551.871091403,
           -7153707.751855225,
           -7016098.984674394,
           -6874802.4090205915,
           -6734969.908888048,
           -6600564.315569396,
           -6474342.3795140665,
           -6358003.2289993875,
           -6252407.048092741,
           -6157793.397488493,
           -6073963.89658412,
           -6000419.703232772,
           -5936457.0651516365,
           -5881230.354827762,
           -5833795.671023358,
           -5793148.24637516,
           -5758262.03868265,
           -5728132.454965964,
           -5701817.93832087,
           -5678475.481202421,
           -5657387.2409253195,
           -5637977.336306938,
           -5619818.741957604,
           -5602631.138057249,
           -5586272.245503356,
           -5570726.446312122,
           -5556094.020516297,
           -5542582.472156248,
           -5530499.778921219,
           -5520248.804612375,
           -5512321.774185026,
           -5507292.703653973,
           -5505804.598692058,
           -5508548.701320529,
           -5516235.624841007,
           -5529561.42295502,
           -5549173.487873933,
           -5575641.1020179475,
           -5609434.441148595,
           -5650914.660761311,
           -5700336.061781418,
           -5757858.745338134,
           -5823567.418784677,
           -5897490.725692619,
           -5979616.074309716,
           -6069895.765811105,
           -6168239.2366346,
           -6274483.541875376,
           -6388332.407457236,
           -6509256.14182113,
           -6636351.592579148,
           -6768172.796612053,
           -6902557.964132345,
           -7036494.256066808,
           -7166072.156079557,
           -7286577.518389428,
           -7392747.003948988,
           -7479177.124641171
          ],
          [
           -8363084.423717389,
           -8392244.772734705,
           -8387046.84244182,
           -8347063.889206782,
           -8274107.621735097,
           -8172125.465158206,
           -8046787.994922913,
           -7904816.345520785,
           -7753183.423910358,
           -7598368.320784793,
           -7445819.435232122,
           -7299698.482985317,
           -7162880.055013775,
           -7037117.799399559,
           -6923277.945051493,
           -6821568.765848293,
           -6731731.363205135,
           -6653183.117646583,
           -6585118.168446424,
           -6526575.766363649,
           -6476490.858161441,
           -6433740.301105871,
           -6397191.7445934685,
           -6365754.008258703,
           -6338423.016544143,
           -6314317.85963036,
           -6292704.692943354,
           -6273008.572274499,
           -6254814.28316355,
           -6237858.190108764,
           -6222014.676063413,
           -6207281.5647853,
           -6193767.793288342,
           -6181684.26377734,
           -6171337.122786078,
           -6163122.385430754,
           -6157520.758429224,
           -6155090.68334118,
           -6156456.719656039,
           -6162291.02900251,
           -6173288.198402421,
           -6190136.277764226,
           -6213487.910504486,
           -6243934.831152726,
           -6281988.191071742,
           -6328066.838117049,
           -6382494.946834691,
           -6445508.372213758,
           -6517266.541077005,
           -6597865.341548407,
           -6687346.702265289,
           -6785700.557663298,
           -6892852.788308272,
           -7008629.209040972,
           -7132683.991726048,
           -7264384.157273222,
           -7402650.860608973,
           -7545772.2693429,
           -7691220.208564749,
           -7835519.632281458,
           -7974228.667814314,
           -8102078.134950256,
           -8213289.742418786,
           -8302050.484190123
          ],
          [
           -9169645.746997999,
           -9194654.677863717,
           -9182952.634574851,
           -9134466.594094442,
           -9051446.467887882,
           -8938313.637169005,
           -8801202.374632373,
           -8647250.601020452,
           -8483778.819703443,
           -8317537.889481146,
           -8154177.771025401,
           -7998003.090317601,
           -7851984.265723925,
           -7717932.279229948,
           -7596737.805281089,
           -7488604.53496714,
           -7393243.013404379,
           -7310016.848568586,
           -7238046.422341537,
           -7176282.149926772,
           -7123562.445158499,
           -7078669.22489968,
           -7040386.064573782,
           -7007555.601080822,
           -6979128.870482786,
           -6954201.039416846,
           -6932032.014979458,
           -6912053.145407342,
           -6893862.255529201,
           -6877210.179325993,
           -6861983.215381449,
           -6848186.1827321835,
           -6835929.026415273,
           -6825417.313092863,
           -6816945.421469023,
           -6810891.218056754,
           -6807711.179651259,
           -6807934.24650004,
           -6812151.964874482,
           -6821003.218189892,
           -6835154.059724298,
           -6855275.079185231,
           -6882018.913839657,
           -6915999.523703071,
           -6957774.336046686,
           -7007830.774769524,
           -7066578.745641803,
           -7134349.2494907975,
           -7211397.193742605,
           -7297905.29315854,
           -7393985.787278678,
           -7499675.66152332,
           -7614917.731178308,
           -7739515.866751482,
           -7873051.587065497,
           -8014754.176966073,
           -8163327.697927959,
           -8316754.294033226,
           -8472111.803778859,
           -8625460.273382945,
           -8771857.854927994,
           -8905552.32105668,
           -9020358.43776456,
           -9110185.743642893
          ],
          [
           -9956039.97669096,
           -9976516.830718063,
           -9958569.382668061,
           -9902493.780794358,
           -9810929.509245431,
           -9688663.820840582,
           -9542142.190654594,
           -9378745.923336552,
           -9205975.388269898,
           -9030713.667656487,
           -8858713.757435635,
           -8694367.386307368,
           -8540721.09442609,
           -8399649.444265693,
           -8272090.046121868,
           -8158273.287748342,
           -8057914.124368655,
           -7970357.834810035,
           -7894685.277335417,
           -7829790.519506308,
           -7774446.185693268,
           -7727368.089439749,
           -7687281.961837941,
           -7652986.781363216,
           -7623406.454305506,
           -7597624.550743166,
           -7574901.478550261,
           -7554676.410765056,
           -7536557.349070349,
           -7520303.503740115,
           -7505805.012593667,
           -7493064.638319185,
           -7482183.878198789,
           -7473353.274192182,
           -7466845.474626402,
           -7463009.896449189,
           -7462268.177673657,
           -7465109.064499091,
           -7472080.817129211,
           -7483779.962016318,
           -7500837.009783998,
           -7523900.886719961,
           -7553623.288284974,
           -7590642.95951755,
           -7635569.725904732,
           -7688969.104670949,
           -7751349.021315277,
           -7823149.440941353,
           -7904734.305824757,
           -7996384.324500097,
           -8098288.553011947,
           -8210530.514182819,
           -8333060.154100813,
           -8465638.683002647,
           -8607743.385307541,
           -8758426.265381055,
           -8916133.38952876,
           -9078508.896118917,
           -9242226.176215762,
           -9402903.562885417,
           -9555163.993753184,
           -9692878.740921112,
           -9809594.893750284,
           -9899099.387324762
          ],
          [
           -10718082.599305876,
           -10733786.053871782,
           -10710070.000385731,
           -10647591.927678382,
           -10549307.650913466,
           -10420239.596707141,
           -10266973.890297927,
           -10096949.680096388,
           -9917673.161342597,
           -9736018.269217307,
           -9557743.278127206,
           -9387272.984442022,
           -9227712.297711357,
           -9081007.600638952,
           -8948168.103259828,
           -8829484.640684841,
           -8724714.37171156,
           -8633222.94980715,
           -8554089.69809722,
           -8486188.945544936,
           -8428262.321376605,
           -8378991.704512557,
           -8337073.228383301,
           -8301285.134810478,
           -8270540.785825411,
           -8243922.054296349,
           -8220693.373556181,
           -8200299.754377443,
           -8182353.161375341,
           -8166612.24454237,
           -8152960.737961029,
           -8141388.836523506,
           -8131979.369830158,
           -8124898.132087545,
           -8120386.873177823,
           -8118758.005372498,
           -8120390.515793386,
           -8125726.144146887,
           -8135264.461553441,
           -8149556.123227974,
           -8169194.817977178,
           -8194808.799127507,
           -8227051.810181363,
           -8266591.973365026,
           -8314097.333632885,
           -8370218.162587191,
           -8435567.32292788,
           -8510700.013250094,
           -8596093.619029488,
           -8692127.928453764,
           -8799064.871080453,
           -8917023.638653232,
           -9045941.797139255,
           -9185509.04128384,
           -9335061.67316145,
           -9493434.415687509,
           -9658780.385941716,
           -9828387.253289606,
           -9998534.712352455,
           -10164450.089260705,
           -10320416.560099624,
           -10460064.814435963,
           -10576836.71450262,
           -10664564.586030878
          ],
          [
           -11452139.54230782,
           -11462975.501902808,
           -11434159.309218418,
           -11366679.143440763,
           -11263713.452107284,
           -11130374.01049922,
           -10973208.826907918,
           -10799527.806162337,
           -10616672.112771016,
           -10431370.310481828,
           -10249292.907053417,
           -10074846.827188129,
           -9911179.139281372,
           -9760316.956084674,
           -9623366.16921378,
           -9500712.269310588,
           -9392193.015680626,
           -9297234.005920574,
           -9214952.243995944,
           -9144240.416395765,
           -9083845.30874458,
           -9032447.735320855,
           -8988742.13065983,
           -8951507.437100684,
           -8919660.640776692,
           -8892288.841251919,
           -8868660.918500945,
           -8848222.911459127,
           -8830582.307404405,
           -8815486.782425318,
           -8802802.677458227,
           -8792496.981823673,
           -8784624.048810178,
           -8779316.167425757,
           -8776776.643076254,
           -8777274.73496017,
           -8781142.257478643,
           -8788771.323853532,
           -8800612.377101528,
           -8817172.074716562,
           -8839011.248095745,
           -8866742.874478642,
           -8901028.63119754,
           -8942571.450413296,
           -8992101.834156753,
           -9050357.306492735,
           -9118055.968638664,
           -9195865.90595378,
           -9284372.451679723,
           -9384045.152336871,
           -9495204.648471747,
           -9617985.510507101,
           -9752285.515270134,
           -9897688.65926753,
           -10053352.132652208,
           -10217857.387360541,
           -10389040.131335154,
           -10563830.343017317,
           -10738147.798171518,
           -10906905.932296393,
           -11064169.728288583,
           -11203486.763429126,
           -11318369.35187077,
           -11402865.945099797
          ],
          [
           -12155329.571472134,
           -12161347.707275711,
           -12128250.65669975,
           -12057306.137861611,
           -11951806.868991291,
           -11816801.744029453,
           -11658624.18373606,
           -11484276.835152967,
           -11300777.15475728,
           -11114583.4929911,
           -10931193.559023838,
           -10754949.543996587,
           -10589025.55797585,
           -10435537.83989429,
           -10295712.884553215,
           -10170063.626187019,
           -10058545.26062506,
           -9960681.32016638,
           -9875664.21905499,
           -9802441.643281765,
           -9739800.005453479,
           -9686449.730888134,
           -9641108.64272394,
           -9602574.543041691,
           -9569778.788677452,
           -9541817.437810112,
           -9517961.619574234,
           -9497651.806877866,
           -9480481.73836483,
           -9466177.765720377,
           -9454578.605898665,
           -9445618.637531646,
           -9439315.506902257,
           -9435761.164084263,
           -9435115.280847825,
           -9437600.713421183,
           -9443501.096608452,
           -9453160.41215507,
           -9466984.072959376,
           -9485441.189461894,
           -9509067.773446048,
           -9538469.90593937,
           -9574324.466720063,
           -9617374.03568042,
           -9668413.004186817,
           -9728263.584089333,
           -9797742.31515638,
           -9877619.204750873,
           -9968572.639672989,
           -10071143.197282342,
           -10185687.345221326,
           -10312327.36718888,
           -10450888.613222132,
           -10600813.171095103,
           -10761043.38291157,
           -10929879.329713786,
           -11104828.71763323,
           -11282481.887175597,
           -11458455.227268964,
           -11627448.398808144,
           -11783449.039753636,
           -11920090.977146301,
           -12031134.875392724,
           -12111008.3247866
          ],
          [
           -12825668.211075105,
           -12827049.809430491,
           -12790591.81927647,
           -12717773.69440275,
           -12611886.423818495,
           -12477766.81383132,
           -12321370.045155065,
           -12149232.522179725,
           -11967909.42348679,
           -11783480.596969752,
           -11601196.490976594,
           -11425292.42141122,
           -11258955.008841602,
           -11104396.356716244,
           -10962984.78408942,
           -10835390.193864172,
           -10721718.385215566,
           -10621624.859716859,
           -10534411.01780254,
           -10459111.816790534,
           -10394583.101343965,
           -10339590.64168656,
           -10292895.734485606,
           -10253328.500605617,
           -10219841.401310347,
           -10191540.17458933,
           -10167694.20154212,
           -10147731.27959039,
           -10131222.796610583,
           -10117865.015477585,
           -10107460.957586681,
           -10099905.431465503,
           -10095173.731738659,
           -10093313.34780874,
           -10094438.02187426,
           -10098724.098009678,
           -10106409.441922015,
           -10117795.024714539,
           -10133248.937407449,
           -10153212.410255061,
           -10178207.051608099,
           -10208841.5787242,
           -10245815.00076353,
           -10289912.385782685,
           -10341989.723110164,
           -10402945.9670474,
           -10473682.54876649,
           -10555052.841372076,
           -10647805.60411267,
           -10752526.374909073,
           -10869578.258997908,
           -10999038.960984698,
           -11140626.631088728,
           -11293606.588251527,
           -11456676.429471126,
           -11627837.764089078,
           -11804275.750775171,
           -11982278.897949068,
           -12157237.425030893,
           -12323755.090974519,
           -12475893.907184988,
           -12607544.54542026,
           -12712884.920016795,
           -12786867.181465242
          ],
          [
           -13462146.785026262,
           -13459186.366758453,
           -13420333.413283642,
           -13347199.720914643,
           -13242958.721076962,
           -13112098.46587898,
           -12960054.84538418,
           -12792766.645067386,
           -12616214.677339237,
           -12436012.47725495,
           -12257101.201428164,
           -12083572.273323335,
           -11918610.31742215,
           -11764527.150127113,
           -11622849.731601825,
           -11494429.203196222,
           -11379549.319403032,
           -11278025.362696674,
           -11189294.721706683,
           -11112504.982253818,
           -11046604.071455095,
           -10990431.751530955,
           -10942806.341018591,
           -10902598.253299067,
           -10868783.732813867,
           -10840476.504250443,
           -10816939.476258425,
           -10797581.493916476,
           -10781945.074231403,
           -10769690.521895606,
           -10760580.368389461,
           -10754466.250993896,
           -10751278.768957864,
           -10751020.0441251,
           -10753758.73378853,
           -10759627.636123847,
           -10768824.236359918,
           -10781614.369836133,
           -10798338.794100441,
           -10819422.013390757,
           -10845382.07523335,
           -10876839.1035356,
           -10914519.212324318,
           -10959249.708115676,
           -11011941.73396106,
           -11073557.988992896,
           -11145065.616065545,
           -11227377.033492971,
           -11321283.267137555,
           -11427384.089368844,
           -11546016.616509302,
           -11677180.064183151,
           -11820451.617832687,
           -11974889.506235503,
           -12138925.505207555,
           -12310258.99205944,
           -12485775.173182433,
           -12661517.396133048,
           -12832744.043525679,
           -12994091.997144677,
           -13139850.939512419,
           -13264329.412325002,
           -13362271.890352959,
           -13429274.243469931
          ],
          [
           -14064745.53378125,
           -14057828.236475052,
           -14017537.757063748,
           -13945533.22172443,
           -13844762.944055026,
           -13719250.987647302,
           -13573803.741076922,
           -13413665.119370788,
           -13244160.403203951,
           -13070372.12064857,
           -12896883.857250208,
           -12727611.583246987,
           -12565722.889043292,
           -12413628.88085533,
           -12273025.572516985,
           -12144962.072407672,
           -12029919.342820521,
           -11927891.873293422,
           -11838471.43000227,
           -11760934.77890827,
           -11694335.809036063,
           -11637598.675295386,
           -11589605.158673188,
           -11549268.492328689,
           -11515587.901006754,
           -11487681.963095898,
           -11464802.870696623,
           -11446336.327988064,
           -11431792.682476532,
           -11420794.232273187,
           -11413062.19880772,
           -11408405.304450555,
           -11406710.735339005,
           -11407937.691588854,
           -11412113.636573099,
           -11419333.47567036,
           -11429761.929357195,
           -11443639.161899189,
           -11461289.302573705,
           -11483130.932501726,
           -11509687.922453227,
           -11541598.148543924,
           -11579616.644157358,
           -11624609.019659044,
           -11677531.099759767,
           -11739392.179421853,
           -11811201.953820063,
           -11893904.069007965,
           -11988300.94412066,
           -12094974.034957645,
           -12214201.2925248,
           -12345870.843207363,
           -12489389.111544073,
           -12643584.334457481,
           -12806612.717896055,
           -12975882.62716419,
           -13148019.172372106,
           -13318893.981648589,
           -13483740.242838215,
           -13637360.634784076,
           -13774417.912378393,
           -13889779.830646135,
           -13978877.956276862,
           -14038037.830327634
          ],
          [
           -14634384.320535133,
           -14623960.594247023,
           -14583130.636403078,
           -14513516.820171103,
           -14417750.853317102,
           -14299306.505860738,
           -14162287.212418836,
           -14011182.791190252,
           -13850615.032719044,
           -13685095.27227308,
           -13518815.930365462,
           -13355491.81592189,
           -13198257.445979604,
           -13049617.03816402,
           -12911437.406715833,
           -12784972.253817387,
           -12670908.483011847,
           -12569428.795674197,
           -12480287.54276147,
           -12402897.349724967,
           -12336422.651258932,
           -12279874.177642591,
           -12232197.032174245,
           -12192345.261768632,
           -12159337.9476135,
           -12132295.208516162,
           -12110455.959459659,
           -12093181.66860217,
           -12079951.157833608,
           -12070350.924080499,
           -12064064.233678246,
           -12060861.04033337,
           -12060589.919948585,
           -12063172.698105829,
           -12068602.147544034,
           -12076942.946157545,
           -12088335.913286524,
           -12103005.286273973,
           -12121268.413192678,
           -12143546.740826027,
           -12170376.37412836,
           -12202415.709288158,
           -12240446.70617946,
           -12285365.609098721,
           -12338159.03131265,
           -12399862.845238827,
           -12471504.044068577,
           -12554028.499149522,
           -12648218.907886095,
           -12754606.622244213,
           -12873379.312419774,
           -13004285.380486673,
           -13146537.343346488,
           -13298720.507954651,
           -13458719.132718142,
           -13623677.740388952,
           -13790017.653242195,
           -13953525.794468794,
           -14109523.323229292,
           -14253107.123601943,
           -14379441.563051712,
           -14484066.618438628,
           -14563185.5651426,
           -14613901.557232238
          ],
          [
           -15172818.17037001,
           -15159377.089548454,
           -15118802.437583778,
           -15052603.380343128,
           -14963026.42700288,
           -14852943.015254594,
           -14725719.93712521,
           -14585072.717252104,
           -14434905.019375091,
           -14279141.541344633,
           -14121565.224959789,
           -13965670.32178409,
           -13814540.88315815,
           -13670760.85302165,
           -13536358.627663327,
           -13412786.433828738,
           -13300932.972281849,
           -13201165.966790542,
           -13113399.371175496,
           -13037178.29414311,
           -12971773.587516434,
           -12916277.701764084,
           -12869693.882563014,
           -12831012.12194383,
           -12799267.524366518,
           -12773579.653303951,
           -12753174.324356496,
           -12737391.402973982,
           -12725682.997815223,
           -12717606.1711994,
           -12712813.467031803,
           -12711043.685465684,
           -12712114.604497857,
           -12715918.723185394,
           -12722422.525792275,
           -12731669.266493706,
           -12743784.8942211,
           -12758986.467760202,
           -12777592.189377267,
           -12800031.908145377,
           -12826856.463933166,
           -12858743.436080037,
           -12896495.834641365,
           -12941029.534791388,
           -12993345.53636075,
           -13054484.812207028,
           -13125466.10863022,
           -13207209.359832177,
           -13300448.285328442,
           -13405635.244433424,
           -13522840.785595803,
           -13651651.246674158,
           -13791071.11747949,
           -13939441.985827744,
           -14094394.69589257,
           -14252853.287011318,
           -14411106.287789145,
           -14564952.29417197,
           -14709913.663510311,
           -14841497.83022064,
           -14955474.664850794,
           -15048134.480453793,
           -15116496.36044818,
           -15158448.645443466
          ],
          [
           -15682487.94076724,
           -15666530.44048694,
           -15626868.54212562,
           -15564835.626901692,
           -15482252.363766424,
           -15381372.616418103,
           -15264832.438142283,
           -15135590.101142552,
           -14996847.990890367,
           -14851952.62055489,
           -14704274.551721837,
           -14557074.721015723,
           -14413367.66549383,
           -14275795.205291094,
           -14146525.152371265,
           -14027187.296288587,
           -13918853.21316271,
           -13822059.046427561,
           -13736863.881181667,
           -13662932.559208065,
           -13599631.035532858,
           -13546123.66025001,
           -13501463.86637868,
           -13464672.014064878,
           -13434796.513786929,
           -13410956.839254035,
           -13392369.394967489,
           -13378359.006510694,
           -13368359.783677818,
           -13361909.31046911,
           -13358639.789616052,
           -13358269.153341597,
           -13360594.373517944,
           -13365488.319718046,
           -13372900.602033835,
           -13382862.039091686,
           -13395491.871657081,
           -13411006.674722029,
           -13429729.991071032,
           -13452101.697929075,
           -13478685.665782705,
           -13510173.274675792,
           -13547379.197064241,
           -13591225.281085918,
           -13642709.003557274,
           -13702854.79556979,
           -13772648.79759799,
           -13852959.221310379,
           -13944444.96980364,
           -14047455.067739483,
           -14161922.206608605,
           -14287256.635275487,
           -14422251.781765405,
           -14565018.630284961,
           -14712968.965174178,
           -14862865.26038717,
           -15010946.144385772,
           -15153122.542939845,
           -15285224.550055949,
           -15403267.32118717,
           -15503699.427082513,
           -15583600.699828824,
           -15640807.818519782,
           -15673961.809889844
          ],
          [
           -16166339.06000755,
           -16148352.6325689,
           -16110101.75687185,
           -16052700.357193995,
           -15977533.082357287,
           -15886257.120785153,
           -15780820.098092144,
           -15663473.20877653,
           -15536762.505583243,
           -15403486.788485339,
           -15266616.134920146,
           -15129171.887679279,
           -14994077.948259573,
           -14864002.772074759,
           -14741217.1975576,
           -14627491.443702636,
           -14524045.337028326,
           -14431553.157537641,
           -14350193.753619164,
           -14279731.058446227,
           -14219609.821030017,
           -14169054.067524582,
           -14127159.253029468,
           -14092972.079103973,
           -14065554.394473588,
           -14044029.685774678,
           -14027612.526946612,
           -14015622.959906654,
           -14007489.026294105,
           -14002741.437484453,
           -14001004.54434143,
           -14001987.317593155,
           -14005477.07843436,
           -14011337.443523401,
           -14019510.641616961,
           -14030023.319468457,
           -14042994.451206885,
           -14058644.073947236,
           -14077301.998971041,
           -14099415.795416774,
           -14125556.726499382,
           -14156421.037687551,
           -14192822.800173687,
           -14235674.28666173,
           -14285950.93187846,
           -14344639.809920292,
           -14412672.29333043,
           -14490842.461920168,
           -14579713.040416809,
           -14679511.174267929,
           -14790018.589471096,
           -14910465.45902433,
           -15039443.872931775,
           -15174862.416288579,
           -15313964.071681473,
           -15453422.54993548,
           -15589517.553352866,
           -15718371.570696529,
           -15836215.740894714,
           -15939645.061381182,
           -16025825.407120101,
           -16092625.04830731,
           -16138658.835356522,
           -16163250.990663765
          ],
          [
           -16627623.647056751,
           -16608060.347499443,
           -16571551.814744733,
           -16518970.75069816,
           -16451285.47775748,
           -16369609.735488161,
           -16275275.816024672,
           -16169905.45848256,
           -16055456.933540156,
           -15934230.88385246,
           -15808821.884422926,
           -15682010.857520498,
           -15556607.175512036,
           -15435264.821540974,
           -15320306.834215866,
           -15213590.677526243,
           -15116434.642497947,
           -15029608.24456456,
           -14953375.475222453,
           -14887573.004696466,
           -14831705.603282474,
           -14785044.96049403,
           -14746722.587711189,
           -14715811.009569544,
           -14691389.822285242,
           -14672594.877458831,
           -14658650.31816863,
           -14648884.728796745,
           -14642734.246220294,
           -14639736.803757053,
           -14639522.299881784,
           -14641803.125302106,
           -14646368.21960405,
           -14653082.05231827,
           -14661888.179879462,
           -14672815.860872123,
           -14685987.957722843,
           -14701628.909291152,
           -14720072.288016394,
           -14741767.519173931,
           -14767284.354295319,
           -14797312.147951303,
           -14832649.954705082,
           -14874183.73608098,
           -14922848.425860865,
           -14979574.35627023,
           -15045218.698138721,
           -15120482.904657321,
           -15205817.330862211,
           -15301315.471848307,
           -15406603.869461633,
           -15520740.056657588,
           -15642138.426159859,
           -15768548.866289616,
           -15897110.754961565,
           -16024492.890721016,
           -16147110.375216749,
           -16261389.151204113,
           -16364035.699822228,
           -16452267.75025098,
           -16523970.927961417,
           -16577761.93600719,
           -16612957.090458352,
           -16629463.234829435
          ],
          [
           -17069703.191017285,
           -17048962.955432516,
           -17014368.257476434,
           -16966551.11276876,
           -16906109.333753206,
           -16833692.321990974,
           -16750113.693057582,
           -16656464.265946336,
           -16554201.420685042,
           -16445192.216908814,
           -16331690.71369022,
           -16216239.917529887,
           -16101506.971255172,
           -15990080.520280575,
           -15884271.65433072,
           -15785957.69640999,
           -15696492.772723671,
           -15616688.705200316,
           -15546853.474833965,
           -15486867.133805534,
           -15436275.80344848,
           -15394389.317428516,
           -15360373.339986866,
           -15333330.520885732,
           -15312367.358390676,
           -15296644.689014897,
           -15285410.910364829,
           -15278018.623545187,
           -15273927.316041693,
           -15272696.507127564,
           -15273974.762990946,
           -15277489.667469561,
           -15283042.214809176,
           -15290506.741432637,
           -15299835.35425126,
           -15311064.700465072,
           -15324323.168582397,
           -15339837.701068806,
           -15357940.244364413,
           -15379073.546406627,
           -15403794.541277142,
           -15432771.918186044,
           -15466773.841671437,
           -15506642.602914285,
           -15553254.63912625,
           -15607465.821846059,
           -15670042.564010244,
           -15741579.341840958,
           -15822403.596014518,
           -15912470.955013214,
           -16011258.435706291,
           -16117670.721227763,
           -16229982.512714768,
           -16345843.60459473,
           -16462367.726187069,
           -16576309.696870504,
           -16684312.368893666,
           -16783184.084919248,
           -16870157.467407387,
           -16943084.45674753,
           -17000537.500547085,
           -17041806.64883531,
           -17066802.26895056,
           -17075890.7044465
          ],
          [
           -17495869.53570738,
           -17474290.558061298,
           -17441642.66648917,
           -17398337.74212129,
           -17344668.709586017,
           -17280917.516719736,
           -17207491.383332144,
           -17125062.76549574,
           -17034687.453020435,
           -16937873.24408472,
           -16836574.185967244,
           -16733098.07515527,
           -16629937.119091738,
           -16529554.880115341,
           -16434175.618451778,
           -16345618.592171673,
           -16265202.383658914,
           -16193722.187132373,
           -16131485.896897264,
           -16078387.596524285,
           -16033998.523920292,
           -15997661.308237296,
           -15968578.979465505,
           -15945893.884443587,
           -15928753.300636854,
           -15916359.333333539,
           -15908001.670200236,
           -15903073.442870574,
           -15901072.6772375,
           -15901593.985589875,
           -15904316.414295074,
           -15908993.017568367,
           -15915445.702841973,
           -15923565.970636396,
           -15933319.723701568,
           -15944753.504019229,
           -15958000.439250514,
           -15973285.74073667,
           -15990932.279053602,
           -16011365.836337723,
           -16035117.719796726,
           -16062820.93029238,
           -16095196.023613336,
           -16133024.056496143,
           -16177105.622544955,
           -16228206.06625556,
           -16286987.299843559,
           -16353926.698916277,
           -16429224.241383104,
           -16512701.607430696,
           -16603702.436241712,
           -16701011.002910672,
           -16802814.19639452,
           -16906733.420154814,
           -17009944.039289217,
           -17109380.048604712,
           -17201996.997169983,
           -17285046.914792713,
           -17356313.09979837,
           -17414261.749689702,
           -17458086.877162896,
           -17487647.835830387,
           -17503319.782764025,
           -17505793.486078557
          ],
          [
           -17909200.184379507,
           -17887057.308835305,
           -17856283.681717556,
           -17817107.2202697,
           -17769593.696504213,
           -17713763.66533164,
           -17649737.885264955,
           -17577889.922996365,
           -17498978.998145826,
           -17414231.277981758,
           -17325341.2319242,
           -17234380.673843868,
           -17143628.20959298,
           -17055355.55066019,
           -16971618.56223756,
           -16894095.236069746,
           -16823994.001750626,
           -16762033.53328753,
           -16708478.756963642,
           -16663211.433806201,
           -16625816.003110666,
           -16595667.631805055,
           -16572015.186209003,
           -16554055.089623628,
           -16540993.103676911,
           -16532091.404556632,
           -16526699.131971221,
           -16524266.326997535,
           -16524343.617575126,
           -16526572.449961605,
           -16530672.103584856,
           -16536429.276859336,
           -16543693.573863715,
           -16552378.834495513,
           -16562467.762006836,
           -16574017.022160593,
           -16587161.618024204,
           -16602119.145907873,
           -16619194.776009303,
           -16638786.1952142,
           -16661385.596943945,
           -16687574.719408048,
           -16718009.4844749,
           -16753392.273026207,
           -16794431.22421015,
           -16841786.65734477,
           -16896004.959484387,
           -16957440.557021305,
           -17026167.64003335,
           -17101886.273451887,
           -17183833.415819842,
           -17270717.474865846,
           -17360701.644442894,
           -17451460.64942567,
           -17540323.57880897,
           -17624493.65832449,
           -17701311.723889735,
           -17768513.80646099,
           -17824431.37953573,
           -17868095.68408588,
           -17899229.909677736,
           -17918137.836907115,
           -17925518.84980861,
           -17922252.70065667
          ],
          [
           -18312459.380640596,
           -18289970.28292965,
           -18260933.530228216,
           -18225439.435835056,
           -18183408.84347188,
           -18134708.147777177,
           -18079291.60786447,
           -18017352.858472988,
           -17949457.742746953,
           -17876624.41179266,
           -17800322.093032185,
           -17722378.8962237,
           -17644815.022597622,
           -17569639.520371344,
           -17498656.86478337,
           -17433321.638994075,
           -17374660.578094166,
           -17323260.422008302,
           -17279305.55599839,
           -17242644.707435623,
           -17212869.19223494,
           -17189391.67765468,
           -17171519.87714131,
           -17158522.22030299,
           -17149682.977954917,
           -17144344.199675146,
           -17141932.40372993,
           -17141969.66435059,
           -17144071.295018777,
           -17147934.939722087,
           -17153327.384808805,
           -17160074.73927844,
           -17168058.762205034,
           -17177218.495614894,
           -17187554.16226047,
           -17199130.712280963,
           -17212080.583646473,
           -17226606.94188662,
           -17242988.25741169,
           -17261582.92706857,
           -17282830.576729856,
           -17307246.18692497,
           -17335404.223901983,
           -17367911.406812176,
           -17405367.690794453,
           -17448315.466493946,
           -17497177.301830802,
           -17552183.150612157,
           -17613289.342434566,
           -17680094.898801096,
           -17751766.65824163,
           -17826992.202169638,
           -17903984.492712498,
           -17980559.006369773,
           -18054290.185529776,
           -18122732.21528801,
           -18183667.531033143,
           -18235333.948917724,
           -18276582.931414362,
           -18306936.635635857,
           -18326535.11528634,
           -18335990.580662135,
           -18336186.08942483,
           -18328065.716841377
          ],
          [
           -18708049.58374367,
           -18685387.298477344,
           -18657928.68786429,
           -18625677.756891757,
           -18588490.784580804,
           -18546181.671731297,
           -18498650.97909802,
           -18446022.984621827,
           -18388763.27315529,
           -18327743.97864127,
           -18264231.764063478,
           -18199793.945585515,
           -18136142.44172335,
           -18074952.830007747,
           -18017699.748368822,
           -17965539.953390148,
           -17919256.27633113,
           -17879257.701358948,
           -17845619.394666478,
           -17818143.97967913,
           -17796429.475990873,
           -17779935.64075889,
           -17768045.195198882,
           -17760118.25273861,
           -17755538.072979674,
           -17753745.709344517,
           -17754261.411025606,
           -17756692.19667741,
           -17760727.579078697,
           -17766128.099317484,
           -17772712.74769253,
           -17780350.370047178,
           -17788956.980432294,
           -17798497.377028223,
           -17808987.880157094,
           -17820498.1742171,
           -17833152.656825025,
           -17847132.9386754,
           -17862682.03319287,
           -17880108.38004717,
           -17899786.209416356,
           -17922148.91915463,
           -17947673.44427999,
           -17976854.757622547,
           -18010170.1240483,
           -18048032.956422325,
           -18090736.61196538,
           -18138389.386833202,
           -18190843.64468365,
           -18247625.378949158,
           -18307876.127537884,
           -18370325.431939483,
           -18433314.73532003,
           -18494888.20942803,
           -18552951.317633655,
           -18605478.016546816,
           -18650729.88697708,
           -18687442.15693236,
           -18714935.87516053,
           -18733131.49438373,
           -18742462.64707817,
           -18743713.506136775,
           -18737821.154458895,
           -18725689.291142788
          ],
          [
           -19098010.502890445,
           -19075320.020828605,
           -19049301.277553886,
           -19019924.009089127,
           -18987053.910383355,
           -18950543.144548897,
           -18910337.427875515,
           -18866585.750488617,
           -18819728.12060554,
           -18770534.081324987,
           -18720074.606529858,
           -18669629.054350033,
           -18620548.58981829,
           -18574109.33168082,
           -18531388.214299526,
           -18493183.643400148,
           -18459987.10567428,
           -18431997.746326596,
           -18409164.353342243,
           -18391239.146615256,
           -18377832.66212008,
           -18368464.802658822,
           -18362610.819136675,
           -18359741.90481757,
           -18359359.31097308,
           -18361019.94975339,
           -18364351.413550973,
           -18369055.6549766,
           -18374903.031491335,
           -18381721.021082804,
           -18389383.09395725,
           -18397801.889178358,
           -18406927.55756276,
           -18416749.070307776,
           -18427295.575611018,
           -18438636.664354514,
           -18450882.680316202,
           -18464186.71240654,
           -18478748.214289326,
           -18494815.947453547,
           -18512687.037615225,
           -18532699.726813048,
           -18555218.720998682,
           -18580612.70183931,
           -18609223.57101738,
           -18641327.08509795,
           -18677085.194370214,
           -18716491.581309903,
           -18759313.796395697,
           -18805038.734608132,
           -18852833.108439296,
           -18901535.077847373,
           -18949693.469341863,
           -18995663.940993033,
           -19037757.47257182,
           -19074420.162816193,
           -19104410.656317182,
           -19126937.355573915,
           -19141723.740571227,
           -19148985.6997565,
           -19149326.379741147,
           -19143575.658258557,
           -19132615.149166364,
           -19117229.493970823
          ],
          [
           -19484056.897831824,
           -19461473.37098427,
           -19436813.403527375,
           -19410062.37481469,
           -19381160.07016459,
           -19350072.471956972,
           -19316868.99437743,
           -19281793.11573277,
           -19245308.05577484,
           -19208100.36700036,
           -19171034.432243057,
           -19135065.6894826,
           -19101133.19705231,
           -19070057.49461117,
           -19042465.912367377,
           -19018756.82033285,
           -18999101.661766283,
           -18983474.104580253,
           -18971692.29203466,
           -18963462.670460954,
           -18958419.267727938,
           -18956157.142826263,
           -18956261.07979182,
           -18958330.53243169,
           -18962000.54544534,
           -18966957.129319318,
           -18972945.21616501,
           -18979768.345111623,
           -18987281.464817606,
           -18995380.588470463,
           -19003993.83071235,
           -19013076.703641806,
           -19022611.426586837,
           -19032607.73075036,
           -19043102.869565826,
           -19054160.682363052,
           -19065871.31380272,
           -19078352.826704793,
           -19091753.90843311,
           -19106255.15277901,
           -19122066.416566417,
           -19139419.062017273,
           -19158552.993413903,
           -19179698.44091074,
           -19203051.952488795,
           -19228746.012197316,
           -19256812.469621725,
           -19287141.33929401,
           -19319438.571877796,
           -19353189.52366382,
           -19387638.678245075,
           -19421798.579102404,
           -19454498.9241893,
           -19484478.900496613,
           -19510513.877430722,
           -19531555.810698867,
           -19546859.467021775,
           -19556066.368498325,
           -19559225.689454127,
           -19556745.25403671,
           -19549283.51294396,
           -19537609.65198077,
           -19522467.09867477,
           -19504471.234864563
          ],
          [
           -19867643.462691143,
           -19845310.002164442,
           -19822014.77564124,
           -19797804.655947402,
           -19772746.76003912,
           -19746977.474659223,
           -19720742.408806108,
           -19694418.49453555,
           -19668509.70814762,
           -19643612.774322163,
           -19620357.372288555,
           -19599333.347946275,
           -19581021.84586748,
           -19565746.234975703,
           -19553652.448456664,
           -19544719.193369824,
           -19538790.034206815,
           -19535614.977568615,
           -19534890.157178577,
           -19536289.021338012,
           -19539483.902518574,
           -19544160.36248211,
           -19550027.513232213,
           -19556826.46161741,
           -19564337.34156224,
           -19572383.953468706,
           -19580834.434288766,
           -19589597.101341605,
           -19598612.514017366,
           -19607844.706654478,
           -19617274.854565177,
           -19626898.79118317,
           -19636727.13831189,
           -19646785.549687706,
           -19657113.66178133,
           -19667763.50190136,
           -19678799.056094613,
           -19690297.50894314,
           -19702350.60813746,
           -19715063.73126678,
           -19728551.235837355,
           -19742928.34986579,
           -19758300.56724456,
           -19774750.868775316,
           -19792324.10170413,
           -19811007.635442704,
           -19830708.212337144,
           -19851226.40333489,
           -19872232.148002543,
           -19893247.51604646,
           -19913645.25512953,
           -19932671.916317213,
           -19949500.528479543,
           -19963310.094231647,
           -19973380.275371604,
           -19979183.124102257,
           -19980451.979380798,
           -19977211.09100618,
           -19969757.365393266,
           -19958596.56680371,
           -19944348.12954176,
           -19927641.654883914,
           -19909029.976550795,
           -19888936.70662222
          ],
          [
           -20250045.598148715,
           -20228129.462007098,
           -20206314.64068905,
           -20184749.507599764,
           -20163668.043912344,
           -20143410.990075838,
           -20124421.929305285,
           -20107215.172013942,
           -20092319.540896647,
           -20080209.239235338,
           -20071236.951955605,
           -20065583.932659887,
           -20063237.64987087,
           -20064000.960051317,
           -20067529.23211141,
           -20073385.193873215,
           -20081097.696775537,
           -20090211.63035108,
           -20100321.36087199,
           -20111086.684594814,
           -20122235.270476837,
           -20133557.365829512,
           -20144897.704890613,
           -20156147.613120314,
           -20167238.347497705,
           -20178135.19169341,
           -20188831.077898584,
           -20199338.95031466,
           -20209683.555788387,
           -20219894.666734744,
           -20230003.526748735,
           -20240042.45180174,
           -20250045.598148715,
           -20260048.74449569,
           -20270087.669548694,
           -20280196.529562686,
           -20290407.640509043,
           -20300752.24598277,
           -20311260.118398845,
           -20321956.00460402,
           -20332852.848799724,
           -20343943.583177116,
           -20355193.49140682,
           -20366533.830467917,
           -20377855.925820593,
           -20389004.511702616,
           -20399769.835425436,
           -20409879.565946348,
           -20418993.499521893,
           -20426706.002424214,
           -20432561.96418602,
           -20436090.236246113,
           -20436853.54642656,
           -20434507.263637543,
           -20428854.244341824,
           -20419881.95706209,
           -20407771.655400783,
           -20392876.024283487,
           -20375669.266992144,
           -20356680.206221595,
           -20336423.15238509,
           -20315341.688697666,
           -20293776.55560838,
           -20271961.73429033
          ],
          [
           -20632447.733606286,
           -20611154.48967521,
           -20591061.219746634,
           -20572449.541413516,
           -20555743.06675567,
           -20541494.62949372,
           -20530333.830904163,
           -20522880.10529125,
           -20519639.216916636,
           -20520908.072195172,
           -20526710.920925826,
           -20536781.102065783,
           -20550590.667817887,
           -20567419.279980216,
           -20586445.9411679,
           -20606843.68025097,
           -20627859.048294887,
           -20648864.79296254,
           -20669382.983960286,
           -20689083.560854726,
           -20707767.094593298,
           -20725340.327522114,
           -20741790.62905287,
           -20757162.84643164,
           -20771539.960460074,
           -20785027.465030648,
           -20797740.58815997,
           -20809793.68735429,
           -20821292.140202817,
           -20832327.69439607,
           -20842977.5345161,
           -20853305.64660972,
           -20863364.05798554,
           -20873192.40511426,
           -20882816.341732252,
           -20892246.48964295,
           -20901478.682280064,
           -20910494.094955824,
           -20919256.762008663,
           -20927707.242828723,
           -20935753.85473519,
           -20943264.73468002,
           -20950063.683065217,
           -20955930.83381532,
           -20960607.293778855,
           -20963802.174959417,
           -20965201.039118856,
           -20964476.218728814,
           -20961301.162090614,
           -20955372.00292761,
           -20946438.747840766,
           -20934344.961321726,
           -20919069.35042995,
           -20900757.848351154,
           -20879733.824008875,
           -20856478.421975266,
           -20831581.48814981,
           -20805672.70176188,
           -20779348.787491325,
           -20753113.721638206,
           -20727344.43625831,
           -20702286.540350027,
           -20678076.420656193,
           -20654781.194132987
          ],
          [
           -21016034.298465602,
           -20995619.961432863,
           -20977624.097622655,
           -20962481.544316657,
           -20950807.683353465,
           -20943345.942260716,
           -20940865.5068433,
           -20944024.8277991,
           -20953231.72927565,
           -20968535.385598563,
           -20989577.318866704,
           -21015612.295800813,
           -21045592.272108126,
           -21078292.61719502,
           -21112452.51805235,
           -21146901.672633607,
           -21180652.624419633,
           -21212949.857003417,
           -21243278.7266757,
           -21271345.18410011,
           -21297039.24380863,
           -21320392.755386684,
           -21341538.202883527,
           -21360672.134280153,
           -21378024.77973101,
           -21393836.04351842,
           -21408337.287864316,
           -21421738.369592633,
           -21434219.882494707,
           -21445930.513934374,
           -21456988.326731604,
           -21467483.465547066,
           -21477479.76971059,
           -21487014.492655624,
           -21496097.365585078,
           -21504710.607826963,
           -21512809.73147982,
           -21520322.851185802,
           -21527145.980132416,
           -21533134.066978112,
           -21538090.650852084,
           -21541760.66386574,
           -21543830.116505604,
           -21543934.053471167,
           -21541671.92856949,
           -21536628.52583647,
           -21528398.904262766,
           -21516617.091717172,
           -21500989.534531146,
           -21481334.375964575,
           -21457625.28393005,
           -21430033.70168626,
           -21398957.999245115,
           -21365025.506814826,
           -21329056.764054373,
           -21291990.829297066,
           -21254783.140522588,
           -21218298.08056466,
           -21183222.20192,
           -21150018.724340454,
           -21118931.126132835,
           -21090028.821482737,
           -21063277.79277005,
           -21038617.825313155
          ],
          [
           -21402080.693406984,
           -21382861.702326607,
           -21367476.047131065,
           -21356515.538038872,
           -21350764.816556282,
           -21351105.49654093,
           -21358367.455726206,
           -21373153.84072352,
           -21395680.53998025,
           -21425671.033481237,
           -21462333.72372561,
           -21504427.255304396,
           -21550397.726955567,
           -21598556.118450057,
           -21647258.087858133,
           -21695052.461689297,
           -21740777.399901733,
           -21783599.614987526,
           -21823006.001927216,
           -21858764.11119948,
           -21890867.62528005,
           -21919478.49445812,
           -21944872.47529875,
           -21967391.46948438,
           -21987404.158682205,
           -22005275.248843882,
           -22021342.982008103,
           -22035904.48389089,
           -22049208.515981227,
           -22061454.531942915,
           -22072795.62068641,
           -22083342.125989653,
           -22093163.63873467,
           -22102289.30711907,
           -22110708.102340184,
           -22118370.17521463,
           -22125188.164806094,
           -22131035.541320834,
           -22135739.782746457,
           -22139071.24654404,
           -22140731.885324348,
           -22140349.29147986,
           -22137480.377160754,
           -22131626.393638607,
           -22122258.534177348,
           -22108852.049682178,
           -22090926.842955187,
           -22068093.449970834,
           -22040104.090623148,
           -22006907.552897282,
           -21968702.981997907,
           -21925981.864616614,
           -21879542.60647914,
           -21830462.141947396,
           -21780016.58976757,
           -21729557.114972442,
           -21680363.075691894,
           -21633505.445808817,
           -21589753.768421914,
           -21549548.051748533,
           -21513037.285914075,
           -21480167.187208302,
           -21450789.918743543,
           -21424771.175468825
          ],
          [
           -21792041.61255376,
           -21774401.90515464,
           -21762270.041838534,
           -21756377.690160654,
           -21757628.549219258,
           -21766959.701913703,
           -21785155.3211369,
           -21812649.039365068,
           -21849361.30932035,
           -21894613.179750614,
           -21947139.878663775,
           -22005202.9868694,
           -22066776.460977398,
           -22129765.76435795,
           -22192215.068759546,
           -22252465.81734827,
           -22309247.551613778,
           -22361701.809464227,
           -22409354.58433205,
           -22452058.239875104,
           -22489921.07224913,
           -22523236.438674882,
           -22552417.75201744,
           -22577942.2771428,
           -22600304.986881074,
           -22619982.816250265,
           -22637409.16310456,
           -22652958.25762203,
           -22666938.539472405,
           -22679593.02208033,
           -22691103.316140335,
           -22701593.81926921,
           -22711134.21586514,
           -22719740.82625025,
           -22727378.4486049,
           -22733963.096979946,
           -22739363.617218733,
           -22743398.99962002,
           -22745829.785271823,
           -22746345.486952912,
           -22744553.123317756,
           -22739972.94355882,
           -22732046.001098547,
           -22720155.555538543,
           -22703661.720306557,
           -22681947.2166183,
           -22654471.801630955,
           -22620833.49493848,
           -22580834.919966303,
           -22534551.242907286,
           -22482391.447928607,
           -22425138.366289683,
           -22363948.75457408,
           -22300297.250711914,
           -22235859.432233952,
           -22172347.217656158,
           -22111327.92314214,
           -22054068.211675603,
           -22001440.21719941,
           -21953909.524566133,
           -21911600.411716625,
           -21874413.439405672,
           -21842162.508433145,
           -21814703.897820085
          ],
          [
           -22187631.815656837,
           -22172025.479456052,
           -22163905.106872603,
           -22164100.6156353,
           -22173556.081011094,
           -22193154.560661573,
           -22223508.26488307,
           -22264757.247379705,
           -22316423.665264286,
           -22377358.98100942,
           -22445801.010767657,
           -22519532.189927656,
           -22596106.70358493,
           -22673098.99412779,
           -22748324.5380558,
           -22819996.29749633,
           -22886801.853862863,
           -22947908.045685273,
           -23002913.894466627,
           -23051775.72980348,
           -23094723.505502976,
           -23132179.789485253,
           -23164686.972395446,
           -23192845.009372458,
           -23217260.619567573,
           -23238508.26922886,
           -23257102.93888574,
           -23273484.25441081,
           -23288010.612650957,
           -23300960.484016467,
           -23312537.03403696,
           -23322872.700682536,
           -23332032.4340924,
           -23340016.45701899,
           -23346763.811488625,
           -23352156.256575342,
           -23356019.901278652,
           -23358121.531946838,
           -23358158.7925675,
           -23355746.996622283,
           -23350408.218342513,
           -23341568.975994438,
           -23328571.31915612,
           -23310699.51864275,
           -23287222.00406249,
           -23257446.488861807,
           -23220785.640299045,
           -23176830.774289127,
           -23125430.618203264,
           -23066769.557303354,
           -23001434.33151406,
           -22930451.675926086,
           -22855276.173699807,
           -22777712.300073728,
           -22699769.103265245,
           -22623466.78450477,
           -22550633.453550477,
           -22482738.33782444,
           -22420799.58843296,
           -22365383.048520256,
           -22316682.352825552,
           -22274651.760462373,
           -22239157.666069213,
           -22210120.913367778
          ],
          [
           -22590891.011917923,
           -22577838.49564076,
           -22574572.34648882,
           -22581953.359390315,
           -22600861.286619693,
           -22631995.51221155,
           -22675659.8167617,
           -22731577.389836438,
           -22798779.472407695,
           -22875597.53797294,
           -22959767.61748846,
           -23048630.546871763,
           -23139389.551854536,
           -23229373.721431583,
           -23316257.780477587,
           -23398204.922845546,
           -23473923.55626408,
           -23542650.639276125,
           -23604086.236813042,
           -23658304.53895266,
           -23705659.97208728,
           -23746698.92327122,
           -23782081.71182253,
           -23812516.47688938,
           -23838705.599353485,
           -23861305.00108323,
           -23880896.420288127,
           -23897972.050389554,
           -23912929.578273226,
           -23926074.174136836,
           -23937623.434290595,
           -23947712.36180192,
           -23956397.622433715,
           -23963661.919438094,
           -23969419.092712574,
           -23973518.746335827,
           -23975747.578722306,
           -23975824.869299896,
           -23973392.064326208,
           -23967999.791740797,
           -23959098.092620518,
           -23946036.106673803,
           -23928076.010088425,
           -23904423.564492375,
           -23874275.193186764,
           -23836879.76249123,
           -23791612.43933379,
           -23738057.6630099,
           -23676097.194546804,
           -23605995.960227683,
           -23528472.634059872,
           -23444735.64563724,
           -23356462.98670445,
           -23265710.52245356,
           -23174749.96437323,
           -23085859.91831567,
           -23001112.198151603,
           -22922201.273301065,
           -22850353.311032474,
           -22786327.53096579,
           -22730497.499793217,
           -22682983.97602773,
           -22643807.514579874,
           -22613033.887462124
          ],
          [
           -23004221.66059005,
           -22994297.71021887,
           -22996771.413533404,
           -23012443.36046704,
           -23042004.31913453,
           -23085829.446607724,
           -23143778.09649906,
           -23215044.281504713,
           -23298094.199127443,
           -23390711.147692714,
           -23490147.157008212,
           -23593357.776142612,
           -23697276.999902904,
           -23799080.193386756,
           -23896388.760055717,
           -23987389.58886673,
           -24070866.954914324,
           -24146164.49738115,
           -24213103.89645387,
           -24271885.130041867,
           -24322985.57375247,
           -24367067.139801286,
           -24404895.172684092,
           -24437270.266005047,
           -24464973.4765007,
           -24488725.359959703,
           -24509158.917243827,
           -24526805.455560755,
           -24542090.757046912,
           -24555337.6922782,
           -24566771.47259586,
           -24576525.225661032,
           -24584645.493455455,
           -24591098.17872906,
           -24595774.782002356,
           -24598497.210707553,
           -24599018.51905993,
           -24597017.753426854,
           -24592089.526097193,
           -24583731.86296389,
           -24571337.895660575,
           -24554197.31185384,
           -24531512.216831923,
           -24502429.888060134,
           -24466092.672377136,
           -24421703.599773142,
           -24368605.299400162,
           -24306369.009165052,
           -24234888.812638514,
           -24154472.604125757,
           -24065915.57784565,
           -23970536.316182088,
           -23870154.07720569,
           -23766993.121142156,
           -23663517.010330185,
           -23562217.952212706,
           -23465403.743276995,
           -23375028.43080169,
           -23292599.81296528,
           -23219173.679577693,
           -23155422.486711413,
           -23101753.45417614,
           -23058448.52980826,
           -23025800.63823613
          ],
          [
           -23430388.005280145,
           -23424200.49185093,
           -23433288.92734687,
           -23458284.54746212,
           -23499553.695750345,
           -23557006.7395499,
           -23629933.72889004,
           -23716907.111378178,
           -23815778.82740376,
           -23923781.499426927,
           -24037723.470110357,
           -24154247.5917027,
           -24270108.683582664,
           -24382420.47506967,
           -24488832.76059114,
           -24587620.241284214,
           -24677687.60028291,
           -24758511.85445647,
           -24830048.632287186,
           -24892625.37445137,
           -24946836.557171177,
           -24993448.593383145,
           -25033317.354625992,
           -25067319.278111383,
           -25096296.655020285,
           -25121017.649890803,
           -25142150.951933015,
           -25160253.495228622,
           -25175768.027715035,
           -25189026.495832358,
           -25200255.84204617,
           -25209584.454864793,
           -25217048.981488254,
           -25222601.52882787,
           -25226116.43330648,
           -25227394.689169865,
           -25226163.880255736,
           -25222072.57275224,
           -25214680.2859326,
           -25203446.507282533,
           -25187723.83790675,
           -25166760.675411697,
           -25139717.85631056,
           -25105701.87886891,
           -25063815.39284895,
           -25013224.062491894,
           -24953237.721463464,
           -24883402.49109711,
           -24803598.42357376,
           -24714133.49988744,
           -24615819.54196671,
           -24510010.676016856,
           -24398584.225042257,
           -24283851.27876754,
           -24168400.48260721,
           -24054898.979388613,
           -23945889.775612388,
           -23843626.930351093,
           -23749977.503239848,
           -23666398.874306455,
           -23593981.862544224,
           -23533540.083528664,
           -23485722.938820995,
           -23451128.240864914
          ],
          [
           -23872467.549240675,
           -23870627.961467993,
           -23887134.105839074,
           -23922329.260290235,
           -23976120.26833601,
           -24047823.446046446,
           -24136055.496475197,
           -24238702.045093313,
           -24352980.821080677,
           -24475598.30557641,
           -24602980.44133586,
           -24731542.33000781,
           -24857952.770137567,
           -24979351.139639836,
           -25093487.326835793,
           -25198775.724449117,
           -25294273.865435213,
           -25379608.291640103,
           -25454872.498158704,
           -25520516.840027194,
           -25577242.77043656,
           -25625907.460216444,
           -25667441.241592344,
           -25702779.048346125,
           -25732806.842002105,
           -25758323.677123494,
           -25780018.908281032,
           -25798462.287006274,
           -25814103.238574583,
           -25827275.335425302,
           -25838203.01641796,
           -25847009.143979155,
           -25853722.976693377,
           -25858288.07099532,
           -25860568.896415643,
           -25860354.392540373,
           -25857356.95007713,
           -25851206.46750068,
           -25841440.878128797,
           -25827496.318838596,
           -25808701.374012183,
           -25784280.18672788,
           -25753368.608586237,
           -25715046.235803396,
           -25668385.59301495,
           -25612518.19160096,
           -25546715.721074972,
           -25470482.951732866,
           -25383656.55379948,
           -25286500.518771186,
           -25179784.36208156,
           -25064826.37475645,
           -24943484.020785388,
           -24818080.338776927,
           -24691269.3118745,
           -24565860.312444966,
           -24444634.26275727,
           -24330185.737814866,
           -24224815.380272754,
           -24130481.460809268,
           -24048805.71853995,
           -23981120.445599265,
           -23928539.381552693,
           -23892030.84879798
          ],
          [
           -24333752.136289876,
           -24336840.205633663,
           -24361432.360940903,
           -24407466.147990115,
           -24474265.789177325,
           -24560446.134916246,
           -24663875.455402713,
           -24781719.625600897,
           -24910573.64294456,
           -25046668.646361947,
           -25186127.124615952,
           -25325228.78000885,
           -25460647.32336565,
           -25589625.737273097,
           -25710072.60682633,
           -25820580.022029497,
           -25920378.15588062,
           -26009248.734377258,
           -26087418.902967,
           -26155451.386377133,
           -26214140.264418967,
           -26264416.909635697,
           -26307268.39612374,
           -26343670.158609875,
           -26374534.469798043,
           -26400675.400880653,
           -26422789.197326384,
           -26441447.122350194,
           -26457096.74509054,
           -26470067.87682897,
           -26480580.554680467,
           -26488753.752774026,
           -26494614.11786307,
           -26498103.878704272,
           -26499086.651955996,
           -26497349.758812975,
           -26492602.17000332,
           -26484468.236390773,
           -26472478.669350814,
           -26456061.51052275,
           -26434536.80182384,
           -26407119.117193457,
           -26372931.94326796,
           -26331037.128772847,
           -26280481.375267413,
           -26220360.1378512,
           -26149897.442678265,
           -26068538.038759787,
           -25976045.8592691,
           -25872599.75259479,
           -25758873.998739827,
           -25636088.424222667,
           -25506013.248037852,
           -25370919.30861815,
           -25233475.06137728,
           -25096604.40781209,
           -24963328.690714184,
           -24836617.987520896,
           -24719271.098205283,
           -24613834.075512275,
           -24522558.113940142,
           -24447390.83910343,
           -24389989.439425576,
           -24351738.563728526
          ],
          [
           -24817603.25553019,
           -24826129.386407584,
           -24859283.377777644,
           -24916490.496468604,
           -24996391.769214913,
           -25096823.875110257,
           -25214866.64624148,
           -25346968.653357584,
           -25489145.051911656,
           -25637225.93591026,
           -25787122.23112325,
           -25935072.56601247,
           -26077839.414532024,
           -26212834.561021943,
           -26338168.989688825,
           -26452636.128557947,
           -26555646.226493787,
           -26647131.97498705,
           -26727442.39869944,
           -26797236.400727637,
           -26857382.192740154,
           -26908865.91521151,
           -26952711.999233186,
           -26989917.921621636,
           -27021405.530514725,
           -27047989.498368353,
           -27070361.205226395,
           -27089084.5215754,
           -27104599.32464035,
           -27117229.15720574,
           -27127190.59426359,
           -27134602.87657938,
           -27139496.822779484,
           -27141822.04295583,
           -27141451.406681377,
           -27138181.88582832,
           -27131731.41261961,
           -27121732.189786736,
           -27107721.80132994,
           -27089134.357043397,
           -27065294.6825105,
           -27035419.18223255,
           -26998627.32991875,
           -26953967.536047418,
           -26900460.16076457,
           -26837158.637089364,
           -26763227.31511576,
           -26678032.149869867,
           -26581237.983134717,
           -26472903.900008842,
           -26353566.043926165,
           -26224295.991006333,
           -26086723.5308036,
           -25943016.475281708,
           -25795816.644575592,
           -25648138.57574254,
           -25503243.205407064,
           -25364501.095154878,
           -25235258.75815515,
           -25118718.579879325,
           -25017838.832531005,
           -24935255.569395736,
           -24873222.654171806,
           -24833560.755810488
          ],
          [
           -25327273.025927413,
           -25341642.550853956,
           -25383594.835849244,
           -25451956.715843633,
           -25544616.53144663,
           -25658593.366076782,
           -25790177.532787114,
           -25935138.90212545,
           -26088984.90850828,
           -26247237.909286108,
           -26405696.500404853,
           -26560649.21046968,
           -26709020.078817934,
           -26848439.949623264,
           -26977250.41070162,
           -27094455.951864,
           -27199642.91096898,
           -27292881.836465247,
           -27374625.087667204,
           -27445606.384090394,
           -27506745.659936674,
           -27559061.66150604,
           -27603595.36165606,
           -27641347.760217387,
           -27673234.732364256,
           -27700059.288152047,
           -27722499.00692016,
           -27741104.72853722,
           -27756306.302076325,
           -27768421.929803718,
           -27777668.670505147,
           -27784172.473112028,
           -27787976.59179957,
           -27789047.51083174,
           -27787277.72926562,
           -27782485.025098026,
           -27774408.198482204,
           -27762699.793323442,
           -27746916.87194093,
           -27726511.542993475,
           -27700823.671930905,
           -27669079.074353594,
           -27630397.313734412,
           -27583813.49453334,
           -27528317.60878099,
           -27462912.902154315,
           -27386691.82512193,
           -27298925.229506884,
           -27199158.224015575,
           -27087304.76246869,
           -26963732.568634097,
           -26829330.343275774,
           -26685550.313139275,
           -26534420.874513336,
           -26378525.971337635,
           -26220949.65495279,
           -26065186.176922336,
           -25915018.479045324,
           -25774371.259172216,
           -25647148.18104283,
           -25537064.769294545,
           -25447487.815954294,
           -25381288.758713648,
           -25340714.106748972
          ],
          [
           -25865706.875762295,
           -25886189.63906519,
           -25936905.631154828,
           -26016024.577858802,
           -26120649.633245714,
           -26246984.072695483,
           -26390567.87306813,
           -26546565.40182863,
           -26710073.543055233,
           -26876413.455908474,
           -27041372.063579284,
           -27201370.688342776,
           -27353553.852950938,
           -27495805.815810755,
           -27626711.883877654,
           -27745484.574053213,
           -27851872.28841133,
           -27946062.697147906,
           -28028587.15222885,
           -28100228.3510586,
           -28161932.164984778,
           -28214725.587198704,
           -28259644.490117967,
           -28297675.48700927,
           -28329714.822169065,
           -28356544.4554714,
           -28378822.783104748,
           -28397085.910023455,
           -28411755.283010904,
           -28423148.25013988,
           -28431489.048753396,
           -28436918.4981916,
           -28439501.27634884,
           -28439230.155964058,
           -28436026.96261918,
           -28429740.27221693,
           -28420140.03846382,
           -28406909.527695257,
           -28389635.23683777,
           -28367795.987781268,
           -28340753.24868393,
           -28307745.934528794,
           -28267894.16412318,
           -28220217.01865484,
           -28163668.545038495,
           -28097193.84657246,
           -28019803.65353596,
           -27930662.40062323,
           -27829182.71328558,
           -27715118.94248004,
           -27588653.789581593,
           -27450474.158133406,
           -27301833.750317823,
           -27144599.380375538,
           -26981275.265931964,
           -26814995.924024347,
           -26649476.163578384,
           -26488908.405107174,
           -26337803.98387859,
           -26200784.690436687,
           -26082340.342980325,
           -25986574.376126327,
           -25916960.55989435,
           -25876130.602050405
          ],
          [
           -26435345.662516177,
           -26462053.365969792,
           -26521213.240020566,
           -26610311.365651295,
           -26725673.283919033,
           -26862730.56151335,
           -27016350.953459214,
           -27181197.21464884,
           -27352072.02392532,
           -27524208.569133237,
           -27693478.47840137,
           -27856506.861839946,
           -28010702.084753357,
           -28154220.353090063,
           -28285889.903772626,
           -28405117.161339782,
           -28511790.252176765,
           -28606187.127289463,
           -28688889.242477365,
           -28760699.016875573,
           -28822560.09653766,
           -28875482.176638383,
           -28920474.552140072,
           -28958493.047753505,
           -28990403.2738442,
           -29016960.2637957,
           -29038801.893723723,
           -29056452.03439824,
           -29070329.266940232,
           -29080757.720627066,
           -29087977.55972433,
           -29092153.504708573,
           -29093380.460958425,
           -29091685.891846873,
           -29087028.99748971,
           -29079296.964024242,
           -29068298.513820898,
           -29053754.868309364,
           -29035288.325600807,
           -29012409.23320153,
           -28984503.295290675,
           -28950822.70396874,
           -28910486.03762424,
           -28862492.52100204,
           -28805755.38726137,
           -28739156.41738916,
           -28661619.766295157,
           -28572199.323004004,
           -28470171.853476904,
           -28355129.123889755,
           -28227065.623780444,
           -28086462.315442096,
           -27934368.307254136,
           -27772479.613050442,
           -27603207.339047223,
           -27429719.075648855,
           -27255930.793093476,
           -27086426.076926637,
           -26926287.455220506,
           -26780840.208650127,
           -26655328.2522424,
           -26554557.974572998,
           -26482553.439233683,
           -26442262.959822375
          ],
          [
           -27037944.41127117,
           -27070816.952827502,
           -27137819.305944473,
           -27235761.783972427,
           -27360240.256785013,
           -27505999.199152753,
           -27667347.152771752,
           -27838573.800164383,
           -28014316.023114998,
           -28189832.204237994,
           -28361165.691089876,
           -28525201.690061927,
           -28679639.578464746,
           -28822911.13211428,
           -28954074.57978813,
           -29072707.106928587,
           -29178807.929159876,
           -29272714.16280446,
           -29355025.580231886,
           -29426533.207304537,
           -29488149.46233637,
           -29540841.488181755,
           -29585571.983973112,
           -29623252.09276183,
           -29654709.12106408,
           -29680669.182906672,
           -29701752.402196992,
           -29718476.826461297,
           -29731266.959937513,
           -29740463.560173586,
           -29746332.462508902,
           -29749071.15217233,
           -29748812.42733957,
           -29745624.945303537,
           -29739510.827907972,
           -29730400.674401827,
           -29718146.12206603,
           -29702509.702380955,
           -29683151.720039006,
           -29659614.69204699,
           -29631307.463483565,
           -29597492.942998365,
           -29557284.855278842,
           -29509659.444766477,
           -29453487.12484234,
           -29387586.214043614,
           -29310796.47459075,
           -29222065.83360076,
           -29120541.8768944,
           -29005661.99310121,
           -28877241.464695606,
           -28735564.04617032,
           -28581480.87887528,
           -28416518.9229741,
           -28242989.99486927,
           -28064078.71904248,
           -27883876.518958196,
           -27707324.551230047,
           -27540036.350913253,
           -27387992.730418455,
           -27257132.47522047,
           -27152891.47538279,
           -27079757.78301379,
           -27040904.82953898
          ],
          [
           -27674422.98522232,
           -27713224.014832187,
           -27787206.276280634,
           -27892546.650877167,
           -28024197.28911244,
           -28176336.10532291,
           -28342853.771266535,
           -28517812.29834836,
           -28695815.445522256,
           -28872253.432208348,
           -29043414.7668263,
           -29206484.608045902,
           -29359464.5652087,
           -29501052.23531273,
           -29630512.93729952,
           -29747564.821388353,
           -29852285.592184756,
           -29945038.354925353,
           -30026408.647530936,
           -30097145.229250025,
           -30158101.473187264,
           -30210178.810514744,
           -30254276.195533898,
           -30291249.617573228,
           -30321884.14468933,
           -30346878.786042366,
           -30366842.258889977,
           -30382296.17158289,
           -30393681.754375413,
           -30401367.09828775,
           -30405653.17442317,
           -30406777.84848869,
           -30404917.46455877,
           -30400185.764831927,
           -30392630.238710746,
           -30382226.180819843,
           -30368868.399686847,
           -30352359.91670704,
           -30332396.994755305,
           -30308551.021708097,
           -30280249.794987082,
           -30246762.695691813,
           -30207195.461811822,
           -30160500.554610867,
           -30105508.094953462,
           -30040979.379506893,
           -29965680.178494886,
           -29878466.336580567,
           -29778372.811081864,
           -29664701.002433255,
           -29537106.41220801,
           -29395694.839581184,
           -29241136.187455826,
           -29074798.77488621,
           -28898894.705320835,
           -28716610.599327676,
           -28532181.772810638,
           -28350858.674117703,
           -28178721.151142363,
           -28022324.382466108,
           -27888204.772478934,
           -27782317.501894675,
           -27709499.377020955,
           -27673041.386866935
          ],
          [
           -28344761.62482529,
           -28389082.871510826,
           -28468956.3209047,
           -28580000.21915112,
           -28716642.156543788,
           -28872642.797489278,
           -29041635.969028458,
           -29217609.30912183,
           -29395262.478664193,
           -29570211.866583638,
           -29739047.813385855,
           -29899278.02520232,
           -30049202.583075292,
           -30187763.829108544,
           -30314403.8510761,
           -30428947.99901508,
           -30531518.556624435,
           -30622471.991546553,
           -30702348.881141044,
           -30771827.61220809,
           -30831678.19211061,
           -30882717.160617005,
           -30925766.729577363,
           -30961621.29035805,
           -30991023.422851376,
           -31014650.00683553,
           -31033107.123338047,
           -31046930.784142356,
           -31056590.099688973,
           -31062490.482876245,
           -31064975.9154496,
           -31064330.032213163,
           -31060775.68939517,
           -31054472.55876578,
           -31045512.59039876,
           -31033913.43057705,
           -31019609.457932595,
           -31002439.38941956,
           -30982129.576723192,
           -30958273.758487314,
           -30930312.407619976,
           -30897516.653255735,
           -30858982.553573485,
           -30813641.46540929,
           -30760291.190843947,
           -30697649.55301566,
           -30624426.977242436,
           -30539409.876131047,
           -30441545.935672365,
           -30330027.570110407,
           -30204378.311744213,
           -30064553.35640314,
           -29911065.638321575,
           -29745141.65230084,
           -29568897.637273587,
           -29385507.703306325,
           -29199314.041540146,
           -29015814.36114446,
           -28841467.012561362,
           -28683289.45226797,
           -28548284.327306136,
           -28442785.058435813,
           -28371840.539597675,
           -28338743.489021715
          ],
          [
           -29047951.653989613,
           -29097225.251197636,
           -29181721.84442666,
           -29296604.432868306,
           -29435921.468008846,
           -29593185.264001038,
           -29761943.398125913,
           -29936260.853280112,
           -30111051.064962275,
           -30282233.80893689,
           -30446739.06364522,
           -30602402.5370299,
           -30747805.681027297,
           -30882105.68579033,
           -31004886.547825687,
           -31116046.04396056,
           -31215718.744617708,
           -31304225.29034365,
           -31382035.227658767,
           -31449733.8898047,
           -31507989.362140678,
           -31557519.745884135,
           -31599062.56509989,
           -31633348.32181879,
           -31661079.948201686,
           -31682919.12158087,
           -31699478.819195904,
           -31711319.8724439,
           -31718948.938818786,
           -31722816.46133726,
           -31723314.553221177,
           -31720775.028871674,
           -31715467.147487253,
           -31707594.214473758,
           -31697288.518839207,
           -31684604.413872115,
           -31669508.888893027,
           -31651868.284838304,
           -31631430.27779649,
           -31607802.355045512,
           -31580430.55552074,
           -31548583.759196747,
           -31511349.0656376,
           -31467643.46097658,
           -31416245.88755285,
           -31355850.77990167,
           -31285138.952301487,
           -31202857.190376855,
           -31107898.180616807,
           -30999378.926986843,
           -30876725.027083654,
           -30739774.240212757,
           -30588912.057016056,
           -30425244.369109303,
           -30250798.289244015,
           -30068720.885815606,
           -29883419.083526418,
           -29700563.390135095,
           -29526882.369389515,
           -29369717.185798213,
           -29236377.74419015,
           -29133412.05285667,
           -29065931.887079015,
           -29037115.694394622
          ],
          [
           -29782008.596991554,
           -29835526.61026655,
           -29923254.481794808,
           -30040026.381861467,
           -30179674.6361978,
           -30335641.107036725,
           -30501556.483944975,
           -30671703.943007823,
           -30841310.81035571,
           -31006656.78060992,
           -31165029.52313598,
           -31314582.155013587,
           -31454149.399158176,
           -31583067.557644196,
           -31701026.325216975,
           -31807963.267843664,
           -31903997.57726794,
           -31989391.183047336,
           -32064523.87336955,
           -32129873.033710238,
           -32185993.862664543,
           -32233499.222932402,
           -32273039.386116065,
           -32305282.39716992,
           -32330896.37832025,
           -32350535.073069453,
           -32364826.734743986,
           -32374365.05215054,
           -32379700.680504043,
           -32381333.19092493,
           -32379704.323119607,
           -32375193.064209886,
           -32368111.826467272,
           -32358702.359773923,
           -32347130.4583364,
           -32333478.951755058,
           -32317738.03492209,
           -32299791.441919986,
           -32279397.822741248,
           -32256169.142001078,
           -32229550.410472017,
           -32198806.061486952,
           -32163017.967914127,
           -32121099.49178487,
           -32071828.874920823,
           -32013902.250752494,
           -31946001.498200208,
           -31866868.24649028,
           -31775376.82458587,
           -31670606.55561259,
           -31551923.0930376,
           -31419083.595658477,
           -31272378.89858607,
           -31112818.211855408,
           -30942347.91817022,
           -30764072.92708012,
           -30582418.03495483,
           -30403141.51620104,
           -30233117.305999503,
           -30079851.599590287,
           -29950783.545383964,
           -29852499.268619046,
           -29790021.195911698,
           -29766305.142425645
          ],
          [
           -30544051.219606474,
           -30600991.808972675,
           -30690496.302547153,
           -30807212.455376323,
           -30944927.20254425,
           -31097187.63341202,
           -31257865.020081673,
           -31421582.300178517,
           -31583957.806768674,
           -31741664.93091638,
           -31892347.810989894,
           -32034452.51329479,
           -32167031.042196624,
           -32289560.682114616,
           -32401802.643285487,
           -32503706.871797338,
           -32595356.890472677,
           -32676941.75535608,
           -32748742.17498216,
           -32811122.091626488,
           -32864521.470392704,
           -32909448.236779887,
           -32946467.90801246,
           -32976190.309577476,
           -32999254.18651344,
           -33016311.23428112,
           -33028010.379168224,
           -33034982.131798346,
           -33037823.018623777,
           -33037081.299848247,
           -33033245.721671034,
           -33026737.922105253,
           -33017907.318098646,
           -33007026.55797825,
           -32994286.18370377,
           -32979787.69255732,
           -32963533.847227085,
           -32945414.78553238,
           -32925189.717747174,
           -32902466.645554267,
           -32876684.741991926,
           -32847104.414934218,
           -32812809.234459493,
           -32772723.106857687,
           -32725645.01060417,
           -32670300.676791128,
           -32605405.918962017,
           -32529733.3614874,
           -32442177.07192878,
           -32341817.908549093,
           -32228001.150175568,
           -32100441.75203174,
           -31959370.101871345,
           -31805723.809990067,
           -31641377.438861802,
           -31469377.52864095,
           -31294115.80802754,
           -31121345.272960883,
           -30957949.005642843,
           -30811427.375456855,
           -30689161.687052004,
           -30597597.415503077,
           -30541521.813629374,
           -30523574.365579374
          ],
          [
           -31330445.449299432,
           -31389905.452654537,
           -31479732.758532867,
           -31594538.87524075,
           -31728233.341369435,
           -31874630.922914486,
           -32027979.39251857,
           -32183336.902264204,
           -32336763.49836947,
           -32485337.01933136,
           -32627039.609231934,
           -32760575.32954595,
           -32885173.465119123,
           -33000415.53477411,
           -33106105.40901875,
           -33202185.90313889,
           -33288694.002554826,
           -33365741.946806632,
           -33433512.450655628,
           -33492260.421527904,
           -33542316.86025074,
           -33584091.67259436,
           -33618072.28245778,
           -33644816.1171122,
           -33664937.136573136,
           -33679087.97810754,
           -33687939.231422946,
           -33692156.94979739,
           -33692380.01664617,
           -33689199.978240676,
           -33683145.774828404,
           -33674673.883204564,
           -33664162.169882156,
           -33651905.01356525,
           -33638107.98091598,
           -33622881.01697144,
           -33606228.94076823,
           -33588038.05089009,
           -33568059.18131797,
           -33545890.156880584,
           -33520962.325814642,
           -33492535.595216606,
           -33459705.13172365,
           -33421421.97139775,
           -33376528.751138933,
           -33323809.04637066,
           -33262044.773955893,
           -33190074.347728845,
           -33106848.182893053,
           -33011486.66133029,
           -32903353.39101634,
           -32782158.917067483,
           -32648106.930573504,
           -32502088.10597983,
           -32345913.42527203,
           -32182553.306816284,
           -32016312.37659399,
           -31852840.59527698,
           -31698888.821665056,
           -31561777.559128426,
           -31448644.728409547,
           -31365624.60220299,
           -31317138.56172258,
           -31305436.518433712
          ],
          [
           -32137006.772580035,
           -32198040.7121073,
           -32286801.453878637,
           -32398013.061347168,
           -32525862.52848311,
           -32664571.564015966,
           -32808870.987732675,
           -32954318.926954526,
           -33097440.335688453,
           -33235707.039024204,
           -33367407.204571377,
           -33491461.987256452,
           -33607238.40798915,
           -33714390.63863412,
           -33812744.49403214,
           -33902225.85474902,
           -33982824.65522042,
           -34054582.82408367,
           -34117596.24946273,
           -34172024.358180374,
           -34218103.00522568,
           -34256156.3651447,
           -34286603.28579294,
           -34309954.9185332,
           -34326802.997895,
           -34337800.16729492,
           -34343634.47664139,
           -34345000.51295625,
           -34342570.4378682,
           -34336968.810866676,
           -34328754.07351135,
           -34318406.932520084,
           -34306323.40300909,
           -34292809.63151213,
           -34278076.52023401,
           -34262233.00618866,
           -34245276.913133875,
           -34227082.62402293,
           -34207386.50335407,
           -34185773.33666707,
           -34161668.17975328,
           -34134337.18803872,
           -34102899.45170396,
           -34066350.89519156,
           -34023600.33813599,
           -33973515.42993378,
           -33914973.027851,
           -33846908.07865084,
           -33768359.833092295,
           -33678522.430449136,
           -33576813.25124593,
           -33462973.396897867,
           -33337211.14128365,
           -33200392.713312108,
           -33054271.761065304,
           -32901722.87551263,
           -32746907.77238707,
           -32595274.85077664,
           -32453303.201374512,
           -32327965.73113922,
           -32225983.57456233,
           -32153027.307090644,
           -32113044.353855606,
           -32107846.423562717
          ],
          [
           -32959248.84048804,
           -33020914.071656257,
           -33107344.19234844,
           -33213513.677908,
           -33334019.04021787,
           -33463596.94023062,
           -33597533.23216508,
           -33731918.399685375,
           -33863739.60371828,
           -33990835.0544763,
           -34111758.78884019,
           -34225607.65442205,
           -34331851.95966283,
           -34430195.43048632,
           -34520475.12198771,
           -34602600.47060481,
           -34676523.77751275,
           -34742232.450959295,
           -34799755.13451601,
           -34849176.53553612,
           -34890656.755148835,
           -34924450.09427948,
           -34950917.708423495,
           -34970529.77334241,
           -34983855.57145642,
           -34991542.4949769,
           -34994286.59760537,
           -34992798.49264345,
           -34987769.422112405,
           -34979842.39168505,
           -34969591.41737621,
           -34957508.72414118,
           -34943997.17578113,
           -34929364.74998531,
           -34913818.95079407,
           -34897460.05824018,
           -34880272.454339825,
           -34862113.85999049,
           -34842703.95537211,
           -34821615.715095006,
           -34798273.25797656,
           -34771958.741331466,
           -34741829.157614775,
           -34706942.94992227,
           -34666295.52527407,
           -34618860.84146967,
           -34563634.13114579,
           -34499671.49306466,
           -34426127.299713306,
           -34342297.79880893,
           -34247684.148204684,
           -34142087.96729804,
           -34025748.81678336,
           -33899526.88072803,
           -33765121.28740938,
           -33625288.787276834,
           -33483992.21162303,
           -33346383.4444422,
           -33218539.325206026,
           -33106933.09006813,
           -33017717.699212015,
           -32955974.165514395,
           -32925096.262011368,
           -32926435.621772207
          ],
          [
           -33792660.28301998,
           -33854066.951227024,
           -33937082.77133703,
           -34037050.088900365,
           -34149076.05175813,
           -34268483.59838543,
           -34391149.15451947,
           -34513697.22750586,
           -34633553.112992026,
           -34748882.876606226,
           -34858464.67674957,
           -34961534.932303116,
           -35057642.08676833,
           -35146527.13449106,
           -35228038.269934505,
           -35302078.48355169,
           -35368580.02346448,
           -35427498.43671914,
           -35478820.34560757,
           -35522580.87225316,
           -35558886.74067075,
           -35587939.711316794,
           -35610054.032588415,
           -35625662.559493676,
           -35635308.865500756,
           -35639625.756378785,
           -35639303.20270675,
           -35635050.70924535,
           -35627560.262451015,
           -35617475.42936002,
           -35605369.5475753,
           -35591732.37168097,
           -35576962.077275485,
           -35561359.2965193,
           -35545121.10679304,
           -35528334.08437069,
           -35510966.15312747,
           -35492857.72923612,
           -35473714.06881533,
           -35453101.950643115,
           -35430453.64875603,
           -35405079.58382335,
           -35376189.397121124,
           -35342920.3573014,
           -35304371.366470784,
           -35259639.51585599,
           -35207855.08511352,
           -35148212.49150767,
           -35079999.91061718,
           -35002636.5819789,
           -34915730.210754596,
           -34819165.93600005,
           -34713234.72179242,
           -34598803.13438217,
           -34477513.795339525,
           -34351981.114389524,
           -34225914.731424056,
           -34104083.06871918,
           -33992046.23546533,
           -33895649.87379334,
           -33820357.85135014,
           -33770569.08243954,
           -33749075.987017974,
           -33756774.834499076
          ],
          [
           -34632987.116943255,
           -34693349.80082742,
           -34772093.20836716,
           -34865016.080186516,
           -34967800.49919738,
           -35076388.19821229,
           -35187247.09716236,
           -35297511.8295395,
           -35405007.60192236,
           -35508186.69463767,
           -35606015.10265272,
           -35697843.28878939,
           -35783285.08741105,
           -35862118.245907895,
           -35934211.796816595,
           -35999479.736864574,
           -36057857.14919356,
           -36109293.93465948,
           -36153762.08639987,
           -36191273.333413996,
           -36221903.54518463,
           -36245818.63282763,
           -36263295.33703878,
           -36274730.7199519,
           -36280636.576331146,
           -36281618.48313449,
           -36278342.76655848,
           -36271497.418211736,
           -36261754.07717846,
           -36249736.94199982,
           -36236001.185081735,
           -36221019.72233782,
           -36205174.992563516,
           -36188752.462485544,
           -36171933.9775797,
           -36154790.438199386,
           -36137274.14119601,
           -36119211.963072784,
           -36100301.57964842,
           -36080113.4238516,
           -36058100.32094371,
           -36033615.03596912,
           -36005934.495828725,
           -35974288.81550193,
           -35937892.88116861,
           -35895977.55218583,
           -35847817.43253386,
           -35792754.38397268,
           -35730220.745916806,
           -35659771.18334678,
           -35581134.195186645,
           -35494292.94191339,
           -35399601.65974781,
           -35297938.211185165,
           -35190880.939303994,
           -35080875.133417994,
           -34971326.65571033,
           -34866545.75183888,
           -34771483.40593357,
           -34691260.812939584,
           -34630568.5947057,
           -34593068.55302353,
           -34580937.03922175,
           -34594643.566222355
          ],
          [
           -35476495.62414256,
           -35535181.49495022,
           -35609050.30071525,
           -35694410.14780122,
           -35787542.74405759,
           -35885003.96921258,
           -35983825.15981264,
           -36081609.87268541,
           -36176540.02665456,
           -36267317.81759436,
           -36353072.78891563,
           -36433258.5445083,
           -36507555.499328785,
           -36575788.84501498,
           -36637865.89092714,
           -36693733.549292766,
           -36743354.418385476,
           -36786698.791227035,
           -36823749.91255509,
           -36854520.02680363,
           -36879074.09232958,
           -36897556.31014963,
           -36910212.905491844,
           -36917404.37246724,
           -36919602.39428213,
           -36917370.48310503,
           -36911331.77157699,
           -36902130.71687378,
           -36890396.38927336,
           -36876713.096120685,
           -36861600.3197099,
           -36845500.30576769,
           -36828769.85150221,
           -36811673.23061048,
           -36794374.73581251,
           -36776930.81160515,
           -36759282.78264461,
           -36741251.97073701,
           -36722539.52263583,
           -36702733.04620904,
           -36681320.90215863,
           -36657713.3034956,
           -36631268.20805985,
           -36601319.65731861,
           -36567206.16356921,
           -36528296.633391805,
           -36484011.90835763,
           -36433842.44291038,
           -36377366.68475395,
           -36314278.32148517,
           -36244431.66244086,
           -36167912.93655655,
           -36085142.23054976,
           -35997005.248149,
           -35905002.24051219,
           -35811381.14988944,
           -35719199.489902884,
           -35632250.60655376,
           -35554810.75221207,
           -35491215.55119489,
           -35445338.40415048,
           -35420087.5758884,
           -35417039.617950335,
           -35436284.56580167
          ],
          [
           -36320190.73863054,
           -36376757.53484868,
           -36445415.77751794,
           -36522996.73469389,
           -36606367.80852023,
           -36692662.763497025,
           -36779428.21118368,
           -36864688.54656795,
           -36946944.133808136,
           -37025123.97357423,
           -37098513.867044196,
           -37166676.39746725,
           -37229373.402379274,
           -37286497.442137346,
           -37338016.289970785,
           -37383932.63414907,
           -37424259.37006335,
           -37459009.39790831,
           -37488198.18530369,
           -37511857.17757982,
           -37530055.49308205,
           -37542925.68605012,
           -37550687.33349817,
           -37553661.33304056,
           -37552269.38237337,
           -37547017.15282595,
           -37538464.65134407,
           -37527190.91612755,
           -37513760.80507021,
           -37498699.12759385,
           -37482473.329710886,
           -37465482.58087729,
           -37448049.84152916,
           -37430414.228016935,
           -37412722.65322133,
           -37395021.2918841,
           -37377248.530179664,
           -37359231.69477206,
           -37340689.851228185,
           -37321244.0593862,
           -37300434.85732659,
           -37277745.19253813,
           -37252626.27394448,
           -37224523.88453685,
           -37192902.997767285,
           -37157268.863549665,
           -37117183.68554489,
           -37072280.269580685,
           -37022277.12593759,
           -36967001.89311919,
           -36906430.39213055,
           -36840747.27273727,
           -36770431.5517942,
           -36696365.0471379,
           -36619950.790050186,
           -36543211.31764744,
           -36468819.75973583,
           -36400012.8992951,
           -36340356.340581365,
           -36293376.58642087,
           -36262125.969724216,
           -36248778.87105722,
           -36254354.13564728,
           -36278620.76522492
          ],
          [
           -37161967.72207717,
           -37216184.61733386,
           -37279548.70318349,
           -37349389.35395813,
           -37423112.24973629,
           -37498370.263480015,
           -37573168.31765755,
           -37645907.83551777,
           -37715383.439854175,
           -37780747.030696705,
           -37841453.069881245,
           -37897195.60535884,
           -37947844.3759409,
           -37993385.38542364,
           -38033870.2928716,
           -38069377.81756808,
           -38099988.646128684,
           -38125773.58525979,
           -38146793.70000771,
           -38163110.910614364,
           -38174807.07174988,
           -38182008.05605728,
           -38184907.122158885,
           -38183780.476418614,
           -38178989.161755934,
           -38170965.50670596,
           -38160187.61376195,
           -38147149.03027818,
           -38132330.96935207,
           -38116181.494163044,
           -38099102.000252485,
           -38081438.413982,
           -38063473.83396809,
           -38045420.433202185,
           -38027410.197832555,
           -38009485.66381002,
           -37991592.893541485,
           -37973579.331371434,
           -37955198.64587242,
           -37936123.196004696,
           -37915962.91614827,
           -37894288.11834247,
           -37870653.48373035,
           -37844621.062732875,
           -37815780.75133414,
           -37783767.25425903,
           -37748273.46304668,
           -37709061.89479157,
           -37665977.94175344,
           -37618970.13196522,
           -37568122.73942926,
           -37513705.051800996,
           -37456239.35249992,
           -37396584.75712195,
           -37336024.42701898,
           -37276329.98525767,
           -37219765.283545986,
           -37168992.061288156,
           -37126859.823367395,
           -37096098.661222704,
           -37078972.346842766,
           -37076970.92955843,
           -37090615.35615663,
           -37119413.99691267
          ],
          [
           -38000679.77813161,
           -38052525.75133323,
           -38110725.050489336,
           -38173046.009722635,
           -38237360.74823681,
           -38301771.648861445,
           -38364688.21108916,
           -38424859.594441235,
           -38481371.55330526,
           -38533617.45831844,
           -38581252.54821903,
           -38624139.21751878,
           -38662289.77460009,
           -38695812.10469729,
           -38724862.8086129,
           -38749611.11412148,
           -38770215.03960736,
           -38786809.53079531,
           -38799505.37104917,
           -38808397.610801816,
           -38813582.10518736,
           -38815177.440106355,
           -38813347.22018866,
           -38808316.052110665,
           -38800373.521864735,
           -38789864.431508884,
           -38777168.67708312,
           -38762677.506667584,
           -38746772.68811138,
           -38729811.90843967,
           -38712119.835345045,
           -38693981.91278056,
           -38675637.85977685,
           -38657273.270641916,
           -38639009.547087185,
           -38620893.92327315,
           -38602892.2855172,
           -38584887.579976685,
           -38566685.600341514,
           -38548028.05705947,
           -38528610.90837379,
           -38508104.98884452,
           -38486176.33745506,
           -38462504.71610901,
           -38436799.7507944,
           -38408814.6256077,
           -38378357.728526205,
           -38345303.54088642,
           -38309605.23948137,
           -38271312.35519747,
           -38230597.00308057,
           -38187791.57939906,
           -38143438.96376704,
           -38098351.891093925,
           -38053670.19797848,
           -38010894.5304755,
           -37971868.079330094,
           -37938681.10874298,
           -37913490.47652828,
           -37898274.34310336,
           -37894569.48442089,
           -37903251.68634042,
           -37924411.16743253,
           -37957348.07203553
          ],
          [
           -38836110.97767555,
           -38885748.45651003,
           -38939063.01563652,
           -38994177.67302366,
           -39049346.744478814,
           -39103054.445956886,
           -39154075.471190624,
           -39201499.735908076,
           -39244725.84256674,
           -39283429.772006094,
           -39317516.76461057,
           -39347064.774885945,
           -39372267.11655095,
           -39393380.33511529,
           -39410681.41567806,
           -39424436.40758084,
           -39434880.64810698,
           -39442209.43914128,
           -39446577.690909535,
           -39448107.47482723,
           -39446902.602874205,
           -39443068.25863747,
           -39436731.51634313,
           -39428056.939560644,
           -39417252.249077186,
           -39404562.65618107,
           -39390257.040052116,
           -39374611.91952295,
           -39357898.54459977,
           -39340375.19095743,
           -39322283.23323541,
           -39303843.82896951,
           -39285252.49770952,
           -39266670.61440322,
           -39248214.71424161,
           -39229945.90908721,
           -39211862.41289905,
           -39193897.92072899,
           -39175927.20399052,
           -39157778.14396308,
           -39139247.56851369,
           -39120117.74238411,
           -39100171.37156023,
           -39079204.63983985,
           -39057038.94187683,
           -39033532.148896255,
           -39008589.90101944,
           -38982177.30880077,
           -38954331.86245739,
           -38925179.02082592,
           -38894952.42230877,
           -38864020.473815404,
           -38832919.57819204,
           -38802390.592747346,
           -38773409.04736084,
           -38747192.933904916,
           -38725168.56296398,
           -38708879.61065141,
           -38699838.70666884,
           -38699341.01528183,
           -38708276.865934364,
           -38726986.81133426,
           -38755193.50167085,
           -38792023.83750514
          ],
          [
           -39668852.54563153,
           -39716578.22043671,
           -39765360.6523386,
           -39813580.222236685,
           -39859790.0850461,
           -39902802.43094762,
           -39941740.630611606,
           -39976054.90385792,
           -40005503.36543144,
           -40030105.286489114,
           -40050077.41609657,
           -40065765.486734405,
           -40077581.19435653,
           -40085951.12782786,
           -40091280.030556366,
           -40093927.65390914,
           -40094196.767430425,
           -40092329.57660446,
           -40088510.542279616,
           -40082874.72237902,
           -40075521.26791335,
           -40066530.857176885,
           -40055983.96460896,
           -40043975.435961574,
           -40030621.504337825,
           -40016058.3835853,
           -40000435.27576123,
           -39983906.629136615,
           -39966627.52305734,
           -39948752.99432286,
           -39930439.145284355,
           -39911842.75131083,
           -39893117.02972546,
           -39874403.21987373,
           -39855819.50398573,
           -39837449.999520674,
           -39819336.92538345,
           -39801478.44007591,
           -39783832.99687252,
           -39766328.83732259,
           -39748875.58249013,
           -39731374.86074965,
           -39713728.591582105,
           -39695845.7572027,
           -39677649.723198965,
           -39659087.7621802,
           -39640143.02276209,
           -39620848.01306385,
           -39601298.53720401,
           -39581667.80878248,
           -39562221.39869516,
           -39543333.890378006,
           -39525506.95454912,
           -39509385.7154609,
           -39495766.179919295,
           -39485582.758228436,
           -39479864.220841594,
           -39479651.280817024,
           -39485879.618655406,
           -39499245.386540264,
           -39520080.35192113,
           -39548265.61318773,
           -39583204.60850879,
           -39623861.1307357
          ]
         ]
        }
       ],
       "layout": {
        "template": {
         "data": {
          "bar": [
           {
            "error_x": {
             "color": "#2a3f5f"
            },
            "error_y": {
             "color": "#2a3f5f"
            },
            "marker": {
             "line": {
              "color": "#E5ECF6",
              "width": 0.5
             },
             "pattern": {
              "fillmode": "overlay",
              "size": 10,
              "solidity": 0.2
             }
            },
            "type": "bar"
           }
          ],
          "barpolar": [
           {
            "marker": {
             "line": {
              "color": "#E5ECF6",
              "width": 0.5
             },
             "pattern": {
              "fillmode": "overlay",
              "size": 10,
              "solidity": 0.2
             }
            },
            "type": "barpolar"
           }
          ],
          "carpet": [
           {
            "aaxis": {
             "endlinecolor": "#2a3f5f",
             "gridcolor": "white",
             "linecolor": "white",
             "minorgridcolor": "white",
             "startlinecolor": "#2a3f5f"
            },
            "baxis": {
             "endlinecolor": "#2a3f5f",
             "gridcolor": "white",
             "linecolor": "white",
             "minorgridcolor": "white",
             "startlinecolor": "#2a3f5f"
            },
            "type": "carpet"
           }
          ],
          "choropleth": [
           {
            "colorbar": {
             "outlinewidth": 0,
             "ticks": ""
            },
            "type": "choropleth"
           }
          ],
          "contour": [
           {
            "colorbar": {
             "outlinewidth": 0,
             "ticks": ""
            },
            "colorscale": [
             [
              0,
              "#0d0887"
             ],
             [
              0.1111111111111111,
              "#46039f"
             ],
             [
              0.2222222222222222,
              "#7201a8"
             ],
             [
              0.3333333333333333,
              "#9c179e"
             ],
             [
              0.4444444444444444,
              "#bd3786"
             ],
             [
              0.5555555555555556,
              "#d8576b"
             ],
             [
              0.6666666666666666,
              "#ed7953"
             ],
             [
              0.7777777777777778,
              "#fb9f3a"
             ],
             [
              0.8888888888888888,
              "#fdca26"
             ],
             [
              1,
              "#f0f921"
             ]
            ],
            "type": "contour"
           }
          ],
          "contourcarpet": [
           {
            "colorbar": {
             "outlinewidth": 0,
             "ticks": ""
            },
            "type": "contourcarpet"
           }
          ],
          "heatmap": [
           {
            "colorbar": {
             "outlinewidth": 0,
             "ticks": ""
            },
            "colorscale": [
             [
              0,
              "#0d0887"
             ],
             [
              0.1111111111111111,
              "#46039f"
             ],
             [
              0.2222222222222222,
              "#7201a8"
             ],
             [
              0.3333333333333333,
              "#9c179e"
             ],
             [
              0.4444444444444444,
              "#bd3786"
             ],
             [
              0.5555555555555556,
              "#d8576b"
             ],
             [
              0.6666666666666666,
              "#ed7953"
             ],
             [
              0.7777777777777778,
              "#fb9f3a"
             ],
             [
              0.8888888888888888,
              "#fdca26"
             ],
             [
              1,
              "#f0f921"
             ]
            ],
            "type": "heatmap"
           }
          ],
          "heatmapgl": [
           {
            "colorbar": {
             "outlinewidth": 0,
             "ticks": ""
            },
            "colorscale": [
             [
              0,
              "#0d0887"
             ],
             [
              0.1111111111111111,
              "#46039f"
             ],
             [
              0.2222222222222222,
              "#7201a8"
             ],
             [
              0.3333333333333333,
              "#9c179e"
             ],
             [
              0.4444444444444444,
              "#bd3786"
             ],
             [
              0.5555555555555556,
              "#d8576b"
             ],
             [
              0.6666666666666666,
              "#ed7953"
             ],
             [
              0.7777777777777778,
              "#fb9f3a"
             ],
             [
              0.8888888888888888,
              "#fdca26"
             ],
             [
              1,
              "#f0f921"
             ]
            ],
            "type": "heatmapgl"
           }
          ],
          "histogram": [
           {
            "marker": {
             "pattern": {
              "fillmode": "overlay",
              "size": 10,
              "solidity": 0.2
             }
            },
            "type": "histogram"
           }
          ],
          "histogram2d": [
           {
            "colorbar": {
             "outlinewidth": 0,
             "ticks": ""
            },
            "colorscale": [
             [
              0,
              "#0d0887"
             ],
             [
              0.1111111111111111,
              "#46039f"
             ],
             [
              0.2222222222222222,
              "#7201a8"
             ],
             [
              0.3333333333333333,
              "#9c179e"
             ],
             [
              0.4444444444444444,
              "#bd3786"
             ],
             [
              0.5555555555555556,
              "#d8576b"
             ],
             [
              0.6666666666666666,
              "#ed7953"
             ],
             [
              0.7777777777777778,
              "#fb9f3a"
             ],
             [
              0.8888888888888888,
              "#fdca26"
             ],
             [
              1,
              "#f0f921"
             ]
            ],
            "type": "histogram2d"
           }
          ],
          "histogram2dcontour": [
           {
            "colorbar": {
             "outlinewidth": 0,
             "ticks": ""
            },
            "colorscale": [
             [
              0,
              "#0d0887"
             ],
             [
              0.1111111111111111,
              "#46039f"
             ],
             [
              0.2222222222222222,
              "#7201a8"
             ],
             [
              0.3333333333333333,
              "#9c179e"
             ],
             [
              0.4444444444444444,
              "#bd3786"
             ],
             [
              0.5555555555555556,
              "#d8576b"
             ],
             [
              0.6666666666666666,
              "#ed7953"
             ],
             [
              0.7777777777777778,
              "#fb9f3a"
             ],
             [
              0.8888888888888888,
              "#fdca26"
             ],
             [
              1,
              "#f0f921"
             ]
            ],
            "type": "histogram2dcontour"
           }
          ],
          "mesh3d": [
           {
            "colorbar": {
             "outlinewidth": 0,
             "ticks": ""
            },
            "type": "mesh3d"
           }
          ],
          "parcoords": [
           {
            "line": {
             "colorbar": {
              "outlinewidth": 0,
              "ticks": ""
             }
            },
            "type": "parcoords"
           }
          ],
          "pie": [
           {
            "automargin": true,
            "type": "pie"
           }
          ],
          "scatter": [
           {
            "fillpattern": {
             "fillmode": "overlay",
             "size": 10,
             "solidity": 0.2
            },
            "type": "scatter"
           }
          ],
          "scatter3d": [
           {
            "line": {
             "colorbar": {
              "outlinewidth": 0,
              "ticks": ""
             }
            },
            "marker": {
             "colorbar": {
              "outlinewidth": 0,
              "ticks": ""
             }
            },
            "type": "scatter3d"
           }
          ],
          "scattercarpet": [
           {
            "marker": {
             "colorbar": {
              "outlinewidth": 0,
              "ticks": ""
             }
            },
            "type": "scattercarpet"
           }
          ],
          "scattergeo": [
           {
            "marker": {
             "colorbar": {
              "outlinewidth": 0,
              "ticks": ""
             }
            },
            "type": "scattergeo"
           }
          ],
          "scattergl": [
           {
            "marker": {
             "colorbar": {
              "outlinewidth": 0,
              "ticks": ""
             }
            },
            "type": "scattergl"
           }
          ],
          "scattermapbox": [
           {
            "marker": {
             "colorbar": {
              "outlinewidth": 0,
              "ticks": ""
             }
            },
            "type": "scattermapbox"
           }
          ],
          "scatterpolar": [
           {
            "marker": {
             "colorbar": {
              "outlinewidth": 0,
              "ticks": ""
             }
            },
            "type": "scatterpolar"
           }
          ],
          "scatterpolargl": [
           {
            "marker": {
             "colorbar": {
              "outlinewidth": 0,
              "ticks": ""
             }
            },
            "type": "scatterpolargl"
           }
          ],
          "scatterternary": [
           {
            "marker": {
             "colorbar": {
              "outlinewidth": 0,
              "ticks": ""
             }
            },
            "type": "scatterternary"
           }
          ],
          "surface": [
           {
            "colorbar": {
             "outlinewidth": 0,
             "ticks": ""
            },
            "colorscale": [
             [
              0,
              "#0d0887"
             ],
             [
              0.1111111111111111,
              "#46039f"
             ],
             [
              0.2222222222222222,
              "#7201a8"
             ],
             [
              0.3333333333333333,
              "#9c179e"
             ],
             [
              0.4444444444444444,
              "#bd3786"
             ],
             [
              0.5555555555555556,
              "#d8576b"
             ],
             [
              0.6666666666666666,
              "#ed7953"
             ],
             [
              0.7777777777777778,
              "#fb9f3a"
             ],
             [
              0.8888888888888888,
              "#fdca26"
             ],
             [
              1,
              "#f0f921"
             ]
            ],
            "type": "surface"
           }
          ],
          "table": [
           {
            "cells": {
             "fill": {
              "color": "#EBF0F8"
             },
             "line": {
              "color": "white"
             }
            },
            "header": {
             "fill": {
              "color": "#C8D4E3"
             },
             "line": {
              "color": "white"
             }
            },
            "type": "table"
           }
          ]
         },
         "layout": {
          "annotationdefaults": {
           "arrowcolor": "#2a3f5f",
           "arrowhead": 0,
           "arrowwidth": 1
          },
          "autotypenumbers": "strict",
          "coloraxis": {
           "colorbar": {
            "outlinewidth": 0,
            "ticks": ""
           }
          },
          "colorscale": {
           "diverging": [
            [
             0,
             "#8e0152"
            ],
            [
             0.1,
             "#c51b7d"
            ],
            [
             0.2,
             "#de77ae"
            ],
            [
             0.3,
             "#f1b6da"
            ],
            [
             0.4,
             "#fde0ef"
            ],
            [
             0.5,
             "#f7f7f7"
            ],
            [
             0.6,
             "#e6f5d0"
            ],
            [
             0.7,
             "#b8e186"
            ],
            [
             0.8,
             "#7fbc41"
            ],
            [
             0.9,
             "#4d9221"
            ],
            [
             1,
             "#276419"
            ]
           ],
           "sequential": [
            [
             0,
             "#0d0887"
            ],
            [
             0.1111111111111111,
             "#46039f"
            ],
            [
             0.2222222222222222,
             "#7201a8"
            ],
            [
             0.3333333333333333,
             "#9c179e"
            ],
            [
             0.4444444444444444,
             "#bd3786"
            ],
            [
             0.5555555555555556,
             "#d8576b"
            ],
            [
             0.6666666666666666,
             "#ed7953"
            ],
            [
             0.7777777777777778,
             "#fb9f3a"
            ],
            [
             0.8888888888888888,
             "#fdca26"
            ],
            [
             1,
             "#f0f921"
            ]
           ],
           "sequentialminus": [
            [
             0,
             "#0d0887"
            ],
            [
             0.1111111111111111,
             "#46039f"
            ],
            [
             0.2222222222222222,
             "#7201a8"
            ],
            [
             0.3333333333333333,
             "#9c179e"
            ],
            [
             0.4444444444444444,
             "#bd3786"
            ],
            [
             0.5555555555555556,
             "#d8576b"
            ],
            [
             0.6666666666666666,
             "#ed7953"
            ],
            [
             0.7777777777777778,
             "#fb9f3a"
            ],
            [
             0.8888888888888888,
             "#fdca26"
            ],
            [
             1,
             "#f0f921"
            ]
           ]
          },
          "colorway": [
           "#636efa",
           "#EF553B",
           "#00cc96",
           "#ab63fa",
           "#FFA15A",
           "#19d3f3",
           "#FF6692",
           "#B6E880",
           "#FF97FF",
           "#FECB52"
          ],
          "font": {
           "color": "#2a3f5f"
          },
          "geo": {
           "bgcolor": "white",
           "lakecolor": "white",
           "landcolor": "#E5ECF6",
           "showlakes": true,
           "showland": true,
           "subunitcolor": "white"
          },
          "hoverlabel": {
           "align": "left"
          },
          "hovermode": "closest",
          "mapbox": {
           "style": "light"
          },
          "paper_bgcolor": "white",
          "plot_bgcolor": "#E5ECF6",
          "polar": {
           "angularaxis": {
            "gridcolor": "white",
            "linecolor": "white",
            "ticks": ""
           },
           "bgcolor": "#E5ECF6",
           "radialaxis": {
            "gridcolor": "white",
            "linecolor": "white",
            "ticks": ""
           }
          },
          "scene": {
           "xaxis": {
            "backgroundcolor": "#E5ECF6",
            "gridcolor": "white",
            "gridwidth": 2,
            "linecolor": "white",
            "showbackground": true,
            "ticks": "",
            "zerolinecolor": "white"
           },
           "yaxis": {
            "backgroundcolor": "#E5ECF6",
            "gridcolor": "white",
            "gridwidth": 2,
            "linecolor": "white",
            "showbackground": true,
            "ticks": "",
            "zerolinecolor": "white"
           },
           "zaxis": {
            "backgroundcolor": "#E5ECF6",
            "gridcolor": "white",
            "gridwidth": 2,
            "linecolor": "white",
            "showbackground": true,
            "ticks": "",
            "zerolinecolor": "white"
           }
          },
          "shapedefaults": {
           "line": {
            "color": "#2a3f5f"
           }
          },
          "ternary": {
           "aaxis": {
            "gridcolor": "white",
            "linecolor": "white",
            "ticks": ""
           },
           "baxis": {
            "gridcolor": "white",
            "linecolor": "white",
            "ticks": ""
           },
           "bgcolor": "#E5ECF6",
           "caxis": {
            "gridcolor": "white",
            "linecolor": "white",
            "ticks": ""
           }
          },
          "title": {
           "x": 0.05
          },
          "xaxis": {
           "automargin": true,
           "gridcolor": "white",
           "linecolor": "white",
           "ticks": "",
           "title": {
            "standoff": 15
           },
           "zerolinecolor": "white",
           "zerolinewidth": 2
          },
          "yaxis": {
           "automargin": true,
           "gridcolor": "white",
           "linecolor": "white",
           "ticks": "",
           "title": {
            "standoff": 15
           },
           "zerolinecolor": "white",
           "zerolinewidth": 2
          }
         }
        }
       }
      }
     },
     "metadata": {},
     "output_type": "display_data"
    }
   ],
   "source": [
    "import bdistrib_io\n",
    "import regcoil_plot\n",
    "fig = regcoil_plot.plot_current_contours(bdistrib_io.get_file_path(974, \"regcoil\"), -1)\n",
    "fig.show()\n"
   ]
  },
  {
   "cell_type": "code",
   "execution_count": 6,
   "metadata": {},
   "outputs": [
    {
     "data": {
      "application/vnd.plotly.v1+json": {
       "config": {
        "plotlyServerURL": "https://plot.ly"
       },
       "data": [
        {
         "mode": "lines+markers",
         "name": "coil",
         "type": "scatter",
         "x": [
          0.5083953190112531,
          0.5086399751863728,
          0.5094638609243566,
          0.5111283970406604,
          0.5140422200767345,
          0.518722991296259,
          0.5257485314061218,
          0.5357014107114829,
          0.5491116749843125,
          0.5664025413240118,
          0.5878436433083479,
          0.6135157632683687,
          0.6432900170088229,
          0.6768232363265644,
          0.7135699318013387,
          0.7528098290631753,
          0.7936886745590761,
          0.8352689120316159,
          0.8765860311230527,
          0.9167059518103956,
          0.954778768570482,
          0.9900845377991842,
          1.022067518255251,
          1.0503563029137408,
          1.074768521500758,
          1.0953001380209049,
          1.11210070000042,
          1.1254371006063288,
          1.1356493873141018,
          1.1431028077925205,
          1.1481405691213928,
          1.1510416766889766,
          1.1519877248407349,
          1.1510416766889766,
          1.1481405691213928,
          1.1431028077925205,
          1.1356493873141011,
          1.1254371006063288,
          1.1121007000004202,
          1.0953001380209049,
          1.0747685215007583,
          1.050356302913741,
          1.022067518255251,
          0.9900845377991842,
          0.9547787685704823,
          0.9167059518103957,
          0.8765860311230528,
          0.8352689120316158,
          0.7936886745590762,
          0.7528098290631756,
          0.7135699318013387,
          0.6768232363265644,
          0.6432900170088229,
          0.6135157632683688,
          0.587843643308348,
          0.5664025413240118,
          0.5491116749843126,
          0.5357014107114831,
          0.5257485314061218,
          0.5187229912962591,
          0.5140422200767346,
          0.5111283970406605,
          0.5094638609243565,
          0.5086399751863728
         ],
         "y": [
          0,
          0.015299115813424342,
          0.03095745425634138,
          0.04729202535845715,
          0.0645389706557817,
          0.08282172235900846,
          0.10212866458225453,
          0.12230218777592283,
          0.14304007469197424,
          0.16390912721386255,
          0.18436992532718238,
          0.20381068840786928,
          0.22158746243498467,
          0.23706734721225434,
          0.24967124735679594,
          0.2589126979079065,
          0.26442967271570866,
          0.26600689933028593,
          0.2635870240193668,
          0.25726992362193135,
          0.2473004649100795,
          0.23404598068328183,
          0.2179655820769159,
          0.19957408618968603,
          0.1794037515215863,
          0.1579671467517463,
          0.13572432133198795,
          0.11305701463442104,
          0.0902519731308765,
          0.0674946017681342,
          0.044873230918912245,
          0.02239331723580381,
          2.791440763544936e-17,
          -0.022393317235803758,
          -0.04487323091891222,
          -0.06749460176813413,
          -0.09025197313087646,
          -0.11305701463442099,
          -0.13572432133198795,
          -0.15796714675174625,
          -0.17940375152158625,
          -0.19957408618968586,
          -0.21796558207691588,
          -0.23404598068328175,
          -0.24730046491007934,
          -0.2572699236219313,
          -0.26358702401936673,
          -0.266006899330286,
          -0.2644296727157087,
          -0.25891269790790655,
          -0.24967124735679594,
          -0.23706734721225436,
          -0.2215874624349846,
          -0.20381068840786934,
          -0.1843699253271825,
          -0.16390912721386247,
          -0.1430400746919743,
          -0.12230218777592292,
          -0.10212866458225453,
          -0.0828217223590085,
          -0.0645389706557818,
          -0.047292025358457154,
          -0.030957454256341443,
          -0.015299115813424328
         ]
        },
        {
         "mode": "lines+markers",
         "name": "plasma",
         "type": "scatter",
         "x": [
          0.7431463867337929,
          0.7435488070374909,
          0.7447523165053527,
          0.7467456996083938,
          0.7495103924886843,
          0.7530206737573975,
          0.7572439271974952,
          0.762140972053129,
          0.7676664554079414,
          0.7737692999329211,
          0.7803931990080084,
          0.7874771499391794,
          0.7949560148351068,
          0.8027610978950367,
          0.8108207276927489,
          0.819060833863838,
          0.8274055097299347,
          0.8357775560061912,
          0.8440990057795873,
          0.8522916370368332,
          0.8602774854433407,
          0.8679793758202509,
          0.8753214946504071,
          0.8822300267743686,
          0.8886338762275275,
          0.894465483386005,
          0.8996617383987165,
          0.9041649753249913,
          0.907924014394333,
          0.9108952039450319,
          0.9130434016906896,
          0.9143428294649532,
          0.9147777380584818,
          0.9143428294649532,
          0.9130434016906896,
          0.9108952039450319,
          0.9079240143943331,
          0.9041649753249914,
          0.8996617383987165,
          0.894465483386005,
          0.8886338762275275,
          0.8822300267743687,
          0.8753214946504071,
          0.8679793758202509,
          0.8602774854433407,
          0.8522916370368333,
          0.8440990057795873,
          0.8357775560061912,
          0.8274055097299347,
          0.8190608338638381,
          0.8108207276927489,
          0.8027610978950368,
          0.7949560148351068,
          0.7874771499391794,
          0.7803931990080084,
          0.7737692999329211,
          0.7676664554079414,
          0.7621409720531293,
          0.7572439271974952,
          0.7530206737573976,
          0.7495103924886843,
          0.7467456996083938,
          0.7447523165053527,
          0.7435488070374909
         ],
         "y": [
          0,
          0.0026020410919158077,
          0.005183157798822615,
          0.007722502825719266,
          0.010199384434654847,
          0.012593347782071718,
          0.014884260824882662,
          0.017052406737679864,
          0.0190785850016239,
          0.020944223449749895,
          0.02263150352317006,
          0.024123500763782422,
          0.025404342117871466,
          0.0264593809471237,
          0.02727538974981871,
          0.027840769505726115,
          0.028145773299860382,
          0.02818274048394853,
          0.027946336138291828,
          0.02743378904977428,
          0.026645119890168503,
          0.025583349852265225,
          0.024254678798359963,
          0.022668621145097975,
          0.020838087422819663,
          0.018779399884396693,
          0.016512231853678266,
          0.014059462794904526,
          0.011446944356676021,
          0.008703176782652916,
          0.0058588998418118874,
          0.002946607451440065,
          3.682802246399727e-18,
          -0.002946607451440057,
          -0.005858899841811879,
          -0.00870317678265291,
          -0.011446944356676016,
          -0.014059462794904522,
          -0.016512231853678262,
          -0.018779399884396683,
          -0.020838087422819663,
          -0.022668621145097965,
          -0.024254678798359956,
          -0.02558334985226522,
          -0.026645119890168503,
          -0.02743378904977428,
          -0.02794633613829183,
          -0.02818274048394853,
          -0.028145773299860382,
          -0.027840769505726125,
          -0.027275389749818715,
          -0.0264593809471237,
          -0.02540434211787146,
          -0.024123500763782425,
          -0.022631503523170067,
          -0.020944223449749895,
          -0.019078585001623908,
          -0.017052406737679868,
          -0.014884260824882662,
          -0.012593347782071723,
          -0.010199384434654865,
          -0.0077225028257192725,
          -0.005183157798822626,
          -0.002602041091915806
         ]
        }
       ],
       "layout": {
        "template": {
         "data": {
          "bar": [
           {
            "error_x": {
             "color": "#2a3f5f"
            },
            "error_y": {
             "color": "#2a3f5f"
            },
            "marker": {
             "line": {
              "color": "#E5ECF6",
              "width": 0.5
             },
             "pattern": {
              "fillmode": "overlay",
              "size": 10,
              "solidity": 0.2
             }
            },
            "type": "bar"
           }
          ],
          "barpolar": [
           {
            "marker": {
             "line": {
              "color": "#E5ECF6",
              "width": 0.5
             },
             "pattern": {
              "fillmode": "overlay",
              "size": 10,
              "solidity": 0.2
             }
            },
            "type": "barpolar"
           }
          ],
          "carpet": [
           {
            "aaxis": {
             "endlinecolor": "#2a3f5f",
             "gridcolor": "white",
             "linecolor": "white",
             "minorgridcolor": "white",
             "startlinecolor": "#2a3f5f"
            },
            "baxis": {
             "endlinecolor": "#2a3f5f",
             "gridcolor": "white",
             "linecolor": "white",
             "minorgridcolor": "white",
             "startlinecolor": "#2a3f5f"
            },
            "type": "carpet"
           }
          ],
          "choropleth": [
           {
            "colorbar": {
             "outlinewidth": 0,
             "ticks": ""
            },
            "type": "choropleth"
           }
          ],
          "contour": [
           {
            "colorbar": {
             "outlinewidth": 0,
             "ticks": ""
            },
            "colorscale": [
             [
              0,
              "#0d0887"
             ],
             [
              0.1111111111111111,
              "#46039f"
             ],
             [
              0.2222222222222222,
              "#7201a8"
             ],
             [
              0.3333333333333333,
              "#9c179e"
             ],
             [
              0.4444444444444444,
              "#bd3786"
             ],
             [
              0.5555555555555556,
              "#d8576b"
             ],
             [
              0.6666666666666666,
              "#ed7953"
             ],
             [
              0.7777777777777778,
              "#fb9f3a"
             ],
             [
              0.8888888888888888,
              "#fdca26"
             ],
             [
              1,
              "#f0f921"
             ]
            ],
            "type": "contour"
           }
          ],
          "contourcarpet": [
           {
            "colorbar": {
             "outlinewidth": 0,
             "ticks": ""
            },
            "type": "contourcarpet"
           }
          ],
          "heatmap": [
           {
            "colorbar": {
             "outlinewidth": 0,
             "ticks": ""
            },
            "colorscale": [
             [
              0,
              "#0d0887"
             ],
             [
              0.1111111111111111,
              "#46039f"
             ],
             [
              0.2222222222222222,
              "#7201a8"
             ],
             [
              0.3333333333333333,
              "#9c179e"
             ],
             [
              0.4444444444444444,
              "#bd3786"
             ],
             [
              0.5555555555555556,
              "#d8576b"
             ],
             [
              0.6666666666666666,
              "#ed7953"
             ],
             [
              0.7777777777777778,
              "#fb9f3a"
             ],
             [
              0.8888888888888888,
              "#fdca26"
             ],
             [
              1,
              "#f0f921"
             ]
            ],
            "type": "heatmap"
           }
          ],
          "heatmapgl": [
           {
            "colorbar": {
             "outlinewidth": 0,
             "ticks": ""
            },
            "colorscale": [
             [
              0,
              "#0d0887"
             ],
             [
              0.1111111111111111,
              "#46039f"
             ],
             [
              0.2222222222222222,
              "#7201a8"
             ],
             [
              0.3333333333333333,
              "#9c179e"
             ],
             [
              0.4444444444444444,
              "#bd3786"
             ],
             [
              0.5555555555555556,
              "#d8576b"
             ],
             [
              0.6666666666666666,
              "#ed7953"
             ],
             [
              0.7777777777777778,
              "#fb9f3a"
             ],
             [
              0.8888888888888888,
              "#fdca26"
             ],
             [
              1,
              "#f0f921"
             ]
            ],
            "type": "heatmapgl"
           }
          ],
          "histogram": [
           {
            "marker": {
             "pattern": {
              "fillmode": "overlay",
              "size": 10,
              "solidity": 0.2
             }
            },
            "type": "histogram"
           }
          ],
          "histogram2d": [
           {
            "colorbar": {
             "outlinewidth": 0,
             "ticks": ""
            },
            "colorscale": [
             [
              0,
              "#0d0887"
             ],
             [
              0.1111111111111111,
              "#46039f"
             ],
             [
              0.2222222222222222,
              "#7201a8"
             ],
             [
              0.3333333333333333,
              "#9c179e"
             ],
             [
              0.4444444444444444,
              "#bd3786"
             ],
             [
              0.5555555555555556,
              "#d8576b"
             ],
             [
              0.6666666666666666,
              "#ed7953"
             ],
             [
              0.7777777777777778,
              "#fb9f3a"
             ],
             [
              0.8888888888888888,
              "#fdca26"
             ],
             [
              1,
              "#f0f921"
             ]
            ],
            "type": "histogram2d"
           }
          ],
          "histogram2dcontour": [
           {
            "colorbar": {
             "outlinewidth": 0,
             "ticks": ""
            },
            "colorscale": [
             [
              0,
              "#0d0887"
             ],
             [
              0.1111111111111111,
              "#46039f"
             ],
             [
              0.2222222222222222,
              "#7201a8"
             ],
             [
              0.3333333333333333,
              "#9c179e"
             ],
             [
              0.4444444444444444,
              "#bd3786"
             ],
             [
              0.5555555555555556,
              "#d8576b"
             ],
             [
              0.6666666666666666,
              "#ed7953"
             ],
             [
              0.7777777777777778,
              "#fb9f3a"
             ],
             [
              0.8888888888888888,
              "#fdca26"
             ],
             [
              1,
              "#f0f921"
             ]
            ],
            "type": "histogram2dcontour"
           }
          ],
          "mesh3d": [
           {
            "colorbar": {
             "outlinewidth": 0,
             "ticks": ""
            },
            "type": "mesh3d"
           }
          ],
          "parcoords": [
           {
            "line": {
             "colorbar": {
              "outlinewidth": 0,
              "ticks": ""
             }
            },
            "type": "parcoords"
           }
          ],
          "pie": [
           {
            "automargin": true,
            "type": "pie"
           }
          ],
          "scatter": [
           {
            "fillpattern": {
             "fillmode": "overlay",
             "size": 10,
             "solidity": 0.2
            },
            "type": "scatter"
           }
          ],
          "scatter3d": [
           {
            "line": {
             "colorbar": {
              "outlinewidth": 0,
              "ticks": ""
             }
            },
            "marker": {
             "colorbar": {
              "outlinewidth": 0,
              "ticks": ""
             }
            },
            "type": "scatter3d"
           }
          ],
          "scattercarpet": [
           {
            "marker": {
             "colorbar": {
              "outlinewidth": 0,
              "ticks": ""
             }
            },
            "type": "scattercarpet"
           }
          ],
          "scattergeo": [
           {
            "marker": {
             "colorbar": {
              "outlinewidth": 0,
              "ticks": ""
             }
            },
            "type": "scattergeo"
           }
          ],
          "scattergl": [
           {
            "marker": {
             "colorbar": {
              "outlinewidth": 0,
              "ticks": ""
             }
            },
            "type": "scattergl"
           }
          ],
          "scattermapbox": [
           {
            "marker": {
             "colorbar": {
              "outlinewidth": 0,
              "ticks": ""
             }
            },
            "type": "scattermapbox"
           }
          ],
          "scatterpolar": [
           {
            "marker": {
             "colorbar": {
              "outlinewidth": 0,
              "ticks": ""
             }
            },
            "type": "scatterpolar"
           }
          ],
          "scatterpolargl": [
           {
            "marker": {
             "colorbar": {
              "outlinewidth": 0,
              "ticks": ""
             }
            },
            "type": "scatterpolargl"
           }
          ],
          "scatterternary": [
           {
            "marker": {
             "colorbar": {
              "outlinewidth": 0,
              "ticks": ""
             }
            },
            "type": "scatterternary"
           }
          ],
          "surface": [
           {
            "colorbar": {
             "outlinewidth": 0,
             "ticks": ""
            },
            "colorscale": [
             [
              0,
              "#0d0887"
             ],
             [
              0.1111111111111111,
              "#46039f"
             ],
             [
              0.2222222222222222,
              "#7201a8"
             ],
             [
              0.3333333333333333,
              "#9c179e"
             ],
             [
              0.4444444444444444,
              "#bd3786"
             ],
             [
              0.5555555555555556,
              "#d8576b"
             ],
             [
              0.6666666666666666,
              "#ed7953"
             ],
             [
              0.7777777777777778,
              "#fb9f3a"
             ],
             [
              0.8888888888888888,
              "#fdca26"
             ],
             [
              1,
              "#f0f921"
             ]
            ],
            "type": "surface"
           }
          ],
          "table": [
           {
            "cells": {
             "fill": {
              "color": "#EBF0F8"
             },
             "line": {
              "color": "white"
             }
            },
            "header": {
             "fill": {
              "color": "#C8D4E3"
             },
             "line": {
              "color": "white"
             }
            },
            "type": "table"
           }
          ]
         },
         "layout": {
          "annotationdefaults": {
           "arrowcolor": "#2a3f5f",
           "arrowhead": 0,
           "arrowwidth": 1
          },
          "autotypenumbers": "strict",
          "coloraxis": {
           "colorbar": {
            "outlinewidth": 0,
            "ticks": ""
           }
          },
          "colorscale": {
           "diverging": [
            [
             0,
             "#8e0152"
            ],
            [
             0.1,
             "#c51b7d"
            ],
            [
             0.2,
             "#de77ae"
            ],
            [
             0.3,
             "#f1b6da"
            ],
            [
             0.4,
             "#fde0ef"
            ],
            [
             0.5,
             "#f7f7f7"
            ],
            [
             0.6,
             "#e6f5d0"
            ],
            [
             0.7,
             "#b8e186"
            ],
            [
             0.8,
             "#7fbc41"
            ],
            [
             0.9,
             "#4d9221"
            ],
            [
             1,
             "#276419"
            ]
           ],
           "sequential": [
            [
             0,
             "#0d0887"
            ],
            [
             0.1111111111111111,
             "#46039f"
            ],
            [
             0.2222222222222222,
             "#7201a8"
            ],
            [
             0.3333333333333333,
             "#9c179e"
            ],
            [
             0.4444444444444444,
             "#bd3786"
            ],
            [
             0.5555555555555556,
             "#d8576b"
            ],
            [
             0.6666666666666666,
             "#ed7953"
            ],
            [
             0.7777777777777778,
             "#fb9f3a"
            ],
            [
             0.8888888888888888,
             "#fdca26"
            ],
            [
             1,
             "#f0f921"
            ]
           ],
           "sequentialminus": [
            [
             0,
             "#0d0887"
            ],
            [
             0.1111111111111111,
             "#46039f"
            ],
            [
             0.2222222222222222,
             "#7201a8"
            ],
            [
             0.3333333333333333,
             "#9c179e"
            ],
            [
             0.4444444444444444,
             "#bd3786"
            ],
            [
             0.5555555555555556,
             "#d8576b"
            ],
            [
             0.6666666666666666,
             "#ed7953"
            ],
            [
             0.7777777777777778,
             "#fb9f3a"
            ],
            [
             0.8888888888888888,
             "#fdca26"
            ],
            [
             1,
             "#f0f921"
            ]
           ]
          },
          "colorway": [
           "#636efa",
           "#EF553B",
           "#00cc96",
           "#ab63fa",
           "#FFA15A",
           "#19d3f3",
           "#FF6692",
           "#B6E880",
           "#FF97FF",
           "#FECB52"
          ],
          "font": {
           "color": "#2a3f5f"
          },
          "geo": {
           "bgcolor": "white",
           "lakecolor": "white",
           "landcolor": "#E5ECF6",
           "showlakes": true,
           "showland": true,
           "subunitcolor": "white"
          },
          "hoverlabel": {
           "align": "left"
          },
          "hovermode": "closest",
          "mapbox": {
           "style": "light"
          },
          "paper_bgcolor": "white",
          "plot_bgcolor": "#E5ECF6",
          "polar": {
           "angularaxis": {
            "gridcolor": "white",
            "linecolor": "white",
            "ticks": ""
           },
           "bgcolor": "#E5ECF6",
           "radialaxis": {
            "gridcolor": "white",
            "linecolor": "white",
            "ticks": ""
           }
          },
          "scene": {
           "xaxis": {
            "backgroundcolor": "#E5ECF6",
            "gridcolor": "white",
            "gridwidth": 2,
            "linecolor": "white",
            "showbackground": true,
            "ticks": "",
            "zerolinecolor": "white"
           },
           "yaxis": {
            "backgroundcolor": "#E5ECF6",
            "gridcolor": "white",
            "gridwidth": 2,
            "linecolor": "white",
            "showbackground": true,
            "ticks": "",
            "zerolinecolor": "white"
           },
           "zaxis": {
            "backgroundcolor": "#E5ECF6",
            "gridcolor": "white",
            "gridwidth": 2,
            "linecolor": "white",
            "showbackground": true,
            "ticks": "",
            "zerolinecolor": "white"
           }
          },
          "shapedefaults": {
           "line": {
            "color": "#2a3f5f"
           }
          },
          "ternary": {
           "aaxis": {
            "gridcolor": "white",
            "linecolor": "white",
            "ticks": ""
           },
           "baxis": {
            "gridcolor": "white",
            "linecolor": "white",
            "ticks": ""
           },
           "bgcolor": "#E5ECF6",
           "caxis": {
            "gridcolor": "white",
            "linecolor": "white",
            "ticks": ""
           }
          },
          "title": {
           "x": 0.05
          },
          "xaxis": {
           "automargin": true,
           "gridcolor": "white",
           "linecolor": "white",
           "ticks": "",
           "title": {
            "standoff": 15
           },
           "zerolinecolor": "white",
           "zerolinewidth": 2
          },
          "yaxis": {
           "automargin": true,
           "gridcolor": "white",
           "linecolor": "white",
           "ticks": "",
           "title": {
            "standoff": 15
           },
           "zerolinecolor": "white",
           "zerolinewidth": 2
          }
         }
        },
        "title": {
         "text": "zeta=0.0"
        },
        "xaxis": {
         "title": {
          "text": "R [meters]"
         }
        },
        "yaxis": {
         "scaleanchor": "x",
         "scaleratio": 1,
         "title": {
          "text": "Z [meters]"
         }
        }
       }
      }
     },
     "metadata": {},
     "output_type": "display_data"
    },
    {
     "data": {
      "application/vnd.plotly.v1+json": {
       "config": {
        "plotlyServerURL": "https://plot.ly"
       },
       "data": [
        {
         "mode": "lines+markers",
         "name": "coil",
         "type": "scatter",
         "x": [
          0.6549260516126142,
          0.6575136653415274,
          0.6634335396973386,
          0.6725936486220114,
          0.684881884952955,
          0.700167145420171,
          0.7182988270357509,
          0.7391050019368494,
          0.7623897074689542,
          0.7879299124439337,
          0.8154727870879249,
          0.8447339065001351,
          0.8753969546589547,
          0.9071153733015032,
          0.9395162280729811,
          0.9722063585095249,
          1.0047806572673195,
          1.0368321077583376,
          1.0679630180597117,
          1.09779674074917,
          1.125989077737386,
          1.1522385458854238,
          1.176294727085367,
          1.197964043221361,
          1.2171124736283538,
          1.23366495653388,
          1.2476014684404195,
          1.2589500356592753,
          1.267777178420934,
          1.2741764992032993,
          1.2782562848422458,
          1.2801270825693596,
          1.2798902247892099,
          1.2776282138444657,
          1.27339774040073,
          1.267225907786416,
          1.2591099853813517,
          1.2490207367712243,
          1.2369090851222317,
          1.2227156119216753,
          1.2063821574061602,
          1.1878646200855583,
          1.167145952554131,
          1.1442483292603958,
          1.119243520638819,
          1.0922606419800411,
          1.0634906434930074,
          1.0331871538707778,
          1.001663563189117,
          0.9692865099139306,
          0.9364661987004801,
          0.9036441997006631,
          0.8712795487865677,
          0.8398340687814416,
          0.8097578576149108,
          0.7814758397783749,
          0.7553761583547924,
          0.731801007794889,
          0.7110402887757853,
          0.6933282254384543,
          0.6788428431395531,
          0.6677079823734173,
          0.6599973404500262,
          0.6557399019085985
         ],
         "y": [
          -0.024613811763189,
          0.00226774288397777,
          0.02878274586135639,
          0.0547748687581573,
          0.08008926590047157,
          0.10456434988267112,
          0.12802493279793903,
          0.15027757523676893,
          0.17110877696098228,
          0.19028637649723557,
          0.20756422527748972,
          0.2226898920255914,
          0.2354148622648154,
          0.24550645190600498,
          0.25276047481631575,
          0.2570136082370188,
          0.2581543958965383,
          0.2561319176457111,
          0.25096132932695137,
          0.2427257227802189,
          0.23157405253528213,
          0.21771519752437635,
          0.20140854546512477,
          0.18295177689290018,
          0.16266676011194606,
          0.1408846271655826,
          0.11793117028321505,
          0.0941136717611696,
          0.06971015969115973,
          0.044961877245702095,
          0.020069481482986762,
          -0.004806828250117751,
          -0.02954338551795496,
          -0.054045791181189,
          -0.07823904660384912,
          -0.10205604683162249,
          -0.1254255349349483,
          -0.14826066527184908,
          -0.1704492724344001,
          -0.19184679832793983,
          -0.21227260436357026,
          -0.23151010819691148,
          -0.24931085917138232,
          -0.26540233117275236,
          -0.2794988943700434,
          -0.2913151551259181,
          -0.3005806491638014,
          -0.30705475401757815,
          -0.3105406627290343,
          -0.3108973334621398,
          -0.3080484926980986,
          -0.3019880088203936,
          -0.29278124761444524,
          -0.2805623462488384,
          -0.2655276699423036,
          -0.24792601791536914,
          -0.22804639682299807,
          -0.20620435957954666,
          -0.18272800050296237,
          -0.1579446967276485,
          -0.13216959169957188,
          -0.10569663813942899,
          -0.07879277124914101,
          -0.05169549008296279
         ]
        },
        {
         "mode": "lines+markers",
         "name": "plasma",
         "type": "scatter",
         "x": [
          0.9237465077215271,
          0.9234375088472754,
          0.9236859872387466,
          0.9244872204626143,
          0.9258303300048742,
          0.9276985321759689,
          0.9300694824469342,
          0.932915701649379,
          0.9362050701167188,
          0.9399013739527957,
          0.94396488625369,
          0.9483529653513689,
          0.9530206520772769,
          0.957921248752667,
          0.9630068641915613,
          0.9682289115235563,
          0.973538549131315,
          0.9788870593912585,
          0.9842261650207011,
          0.989508288335895,
          0.9946867641311093,
          0.9997160216080984,
          1.0045517541863591,
          1.0091510975204736,
          1.0134728351911875,
          1.017477648100304,
          1.0211284176822644,
          1.0243905851261965,
          1.0272325597534067,
          1.0296261607058796,
          1.0315470685007244,
          1.0329752580180909,
          1.0338953829830446,
          1.0342970843050883,
          1.0341752004832598,
          1.0335298668649093,
          1.0323665006712825,
          1.0306956789859332,
          1.0285329259523621,
          1.0258984320353488,
          1.022816731505477,
          1.0193163639359577,
          1.0154295416447932,
          1.011191838402877,
          1.0066419064917624,
          1.0018212206502957,
          0.9967738398537159,
          0.9915461722153368,
          0.9861867251983664,
          0.9807458229654415,
          0.9752752748876,
          0.9698279834920409,
          0.964457485757325,
          0.9592174278862894,
          0.9541609797505459,
          0.9493402004879957,
          0.9448053708324723,
          0.9406043104727164,
          0.9367817000889112,
          0.9333784278530045,
          0.9304309793340609,
          0.9279708881652372,
          0.9260242627190377,
          0.9246114015621193
         ],
         "y": [
          0.030216604762407007,
          0.034360395100978276,
          0.038447464193700404,
          0.04245106909381992,
          0.04634426236779824,
          0.0500997615073443,
          0.053689856332629016,
          0.057086366320981276,
          0.06026065945600637,
          0.06318374324181866,
          0.06582643682240075,
          0.06815963062416441,
          0.07015463663526895,
          0.07178362848139427,
          0.07302016606892543,
          0.07383979500487342,
          0.07422070653553818,
          0.07414443960541511,
          0.07359660299539125,
          0.07256759245872321,
          0.07105327538743547,
          0.06905561384793871,
          0.06658319589093903,
          0.06365164500976402,
          0.06028387873358604,
          0.05651018992133775,
          0.05236812871171144,
          0.04790216954116136,
          0.0431631562107879,
          0.03820752839559542,
          0.033096344620935095,
          0.027894128642845243,
          0.022667577235049113,
          0.01748417646827602,
          0.012410779705175368,
          0.007512203091134035,
          0.002849893078148566,
          -0.0015192843133789483,
          -0.005544090622971215,
          -0.009179766570718208,
          -0.012388667396012392,
          -0.015140672435256868,
          -0.01741337008963795,
          -0.01919202869082055,
          -0.020469371505756413,
          -0.021245180115447185,
          -0.021525754708403677,
          -0.021323262585915857,
          -0.020655007535127213,
          -0.01954265280846208,
          -0.018011429334667636,
          -0.01608935853764345,
          -0.013806515831683066,
          -0.011194356629353835,
          -0.008285121756150222,
          -0.005111333812401462,
          -0.0017053906138228484,
          0.0019007432540269847,
          0.005675750188988003,
          0.00958908563692161,
          0.013611026065038263,
          0.017712650062435886,
          0.02186576456569717,
          0.026042788357773163
         ]
        }
       ],
       "layout": {
        "template": {
         "data": {
          "bar": [
           {
            "error_x": {
             "color": "#2a3f5f"
            },
            "error_y": {
             "color": "#2a3f5f"
            },
            "marker": {
             "line": {
              "color": "#E5ECF6",
              "width": 0.5
             },
             "pattern": {
              "fillmode": "overlay",
              "size": 10,
              "solidity": 0.2
             }
            },
            "type": "bar"
           }
          ],
          "barpolar": [
           {
            "marker": {
             "line": {
              "color": "#E5ECF6",
              "width": 0.5
             },
             "pattern": {
              "fillmode": "overlay",
              "size": 10,
              "solidity": 0.2
             }
            },
            "type": "barpolar"
           }
          ],
          "carpet": [
           {
            "aaxis": {
             "endlinecolor": "#2a3f5f",
             "gridcolor": "white",
             "linecolor": "white",
             "minorgridcolor": "white",
             "startlinecolor": "#2a3f5f"
            },
            "baxis": {
             "endlinecolor": "#2a3f5f",
             "gridcolor": "white",
             "linecolor": "white",
             "minorgridcolor": "white",
             "startlinecolor": "#2a3f5f"
            },
            "type": "carpet"
           }
          ],
          "choropleth": [
           {
            "colorbar": {
             "outlinewidth": 0,
             "ticks": ""
            },
            "type": "choropleth"
           }
          ],
          "contour": [
           {
            "colorbar": {
             "outlinewidth": 0,
             "ticks": ""
            },
            "colorscale": [
             [
              0,
              "#0d0887"
             ],
             [
              0.1111111111111111,
              "#46039f"
             ],
             [
              0.2222222222222222,
              "#7201a8"
             ],
             [
              0.3333333333333333,
              "#9c179e"
             ],
             [
              0.4444444444444444,
              "#bd3786"
             ],
             [
              0.5555555555555556,
              "#d8576b"
             ],
             [
              0.6666666666666666,
              "#ed7953"
             ],
             [
              0.7777777777777778,
              "#fb9f3a"
             ],
             [
              0.8888888888888888,
              "#fdca26"
             ],
             [
              1,
              "#f0f921"
             ]
            ],
            "type": "contour"
           }
          ],
          "contourcarpet": [
           {
            "colorbar": {
             "outlinewidth": 0,
             "ticks": ""
            },
            "type": "contourcarpet"
           }
          ],
          "heatmap": [
           {
            "colorbar": {
             "outlinewidth": 0,
             "ticks": ""
            },
            "colorscale": [
             [
              0,
              "#0d0887"
             ],
             [
              0.1111111111111111,
              "#46039f"
             ],
             [
              0.2222222222222222,
              "#7201a8"
             ],
             [
              0.3333333333333333,
              "#9c179e"
             ],
             [
              0.4444444444444444,
              "#bd3786"
             ],
             [
              0.5555555555555556,
              "#d8576b"
             ],
             [
              0.6666666666666666,
              "#ed7953"
             ],
             [
              0.7777777777777778,
              "#fb9f3a"
             ],
             [
              0.8888888888888888,
              "#fdca26"
             ],
             [
              1,
              "#f0f921"
             ]
            ],
            "type": "heatmap"
           }
          ],
          "heatmapgl": [
           {
            "colorbar": {
             "outlinewidth": 0,
             "ticks": ""
            },
            "colorscale": [
             [
              0,
              "#0d0887"
             ],
             [
              0.1111111111111111,
              "#46039f"
             ],
             [
              0.2222222222222222,
              "#7201a8"
             ],
             [
              0.3333333333333333,
              "#9c179e"
             ],
             [
              0.4444444444444444,
              "#bd3786"
             ],
             [
              0.5555555555555556,
              "#d8576b"
             ],
             [
              0.6666666666666666,
              "#ed7953"
             ],
             [
              0.7777777777777778,
              "#fb9f3a"
             ],
             [
              0.8888888888888888,
              "#fdca26"
             ],
             [
              1,
              "#f0f921"
             ]
            ],
            "type": "heatmapgl"
           }
          ],
          "histogram": [
           {
            "marker": {
             "pattern": {
              "fillmode": "overlay",
              "size": 10,
              "solidity": 0.2
             }
            },
            "type": "histogram"
           }
          ],
          "histogram2d": [
           {
            "colorbar": {
             "outlinewidth": 0,
             "ticks": ""
            },
            "colorscale": [
             [
              0,
              "#0d0887"
             ],
             [
              0.1111111111111111,
              "#46039f"
             ],
             [
              0.2222222222222222,
              "#7201a8"
             ],
             [
              0.3333333333333333,
              "#9c179e"
             ],
             [
              0.4444444444444444,
              "#bd3786"
             ],
             [
              0.5555555555555556,
              "#d8576b"
             ],
             [
              0.6666666666666666,
              "#ed7953"
             ],
             [
              0.7777777777777778,
              "#fb9f3a"
             ],
             [
              0.8888888888888888,
              "#fdca26"
             ],
             [
              1,
              "#f0f921"
             ]
            ],
            "type": "histogram2d"
           }
          ],
          "histogram2dcontour": [
           {
            "colorbar": {
             "outlinewidth": 0,
             "ticks": ""
            },
            "colorscale": [
             [
              0,
              "#0d0887"
             ],
             [
              0.1111111111111111,
              "#46039f"
             ],
             [
              0.2222222222222222,
              "#7201a8"
             ],
             [
              0.3333333333333333,
              "#9c179e"
             ],
             [
              0.4444444444444444,
              "#bd3786"
             ],
             [
              0.5555555555555556,
              "#d8576b"
             ],
             [
              0.6666666666666666,
              "#ed7953"
             ],
             [
              0.7777777777777778,
              "#fb9f3a"
             ],
             [
              0.8888888888888888,
              "#fdca26"
             ],
             [
              1,
              "#f0f921"
             ]
            ],
            "type": "histogram2dcontour"
           }
          ],
          "mesh3d": [
           {
            "colorbar": {
             "outlinewidth": 0,
             "ticks": ""
            },
            "type": "mesh3d"
           }
          ],
          "parcoords": [
           {
            "line": {
             "colorbar": {
              "outlinewidth": 0,
              "ticks": ""
             }
            },
            "type": "parcoords"
           }
          ],
          "pie": [
           {
            "automargin": true,
            "type": "pie"
           }
          ],
          "scatter": [
           {
            "fillpattern": {
             "fillmode": "overlay",
             "size": 10,
             "solidity": 0.2
            },
            "type": "scatter"
           }
          ],
          "scatter3d": [
           {
            "line": {
             "colorbar": {
              "outlinewidth": 0,
              "ticks": ""
             }
            },
            "marker": {
             "colorbar": {
              "outlinewidth": 0,
              "ticks": ""
             }
            },
            "type": "scatter3d"
           }
          ],
          "scattercarpet": [
           {
            "marker": {
             "colorbar": {
              "outlinewidth": 0,
              "ticks": ""
             }
            },
            "type": "scattercarpet"
           }
          ],
          "scattergeo": [
           {
            "marker": {
             "colorbar": {
              "outlinewidth": 0,
              "ticks": ""
             }
            },
            "type": "scattergeo"
           }
          ],
          "scattergl": [
           {
            "marker": {
             "colorbar": {
              "outlinewidth": 0,
              "ticks": ""
             }
            },
            "type": "scattergl"
           }
          ],
          "scattermapbox": [
           {
            "marker": {
             "colorbar": {
              "outlinewidth": 0,
              "ticks": ""
             }
            },
            "type": "scattermapbox"
           }
          ],
          "scatterpolar": [
           {
            "marker": {
             "colorbar": {
              "outlinewidth": 0,
              "ticks": ""
             }
            },
            "type": "scatterpolar"
           }
          ],
          "scatterpolargl": [
           {
            "marker": {
             "colorbar": {
              "outlinewidth": 0,
              "ticks": ""
             }
            },
            "type": "scatterpolargl"
           }
          ],
          "scatterternary": [
           {
            "marker": {
             "colorbar": {
              "outlinewidth": 0,
              "ticks": ""
             }
            },
            "type": "scatterternary"
           }
          ],
          "surface": [
           {
            "colorbar": {
             "outlinewidth": 0,
             "ticks": ""
            },
            "colorscale": [
             [
              0,
              "#0d0887"
             ],
             [
              0.1111111111111111,
              "#46039f"
             ],
             [
              0.2222222222222222,
              "#7201a8"
             ],
             [
              0.3333333333333333,
              "#9c179e"
             ],
             [
              0.4444444444444444,
              "#bd3786"
             ],
             [
              0.5555555555555556,
              "#d8576b"
             ],
             [
              0.6666666666666666,
              "#ed7953"
             ],
             [
              0.7777777777777778,
              "#fb9f3a"
             ],
             [
              0.8888888888888888,
              "#fdca26"
             ],
             [
              1,
              "#f0f921"
             ]
            ],
            "type": "surface"
           }
          ],
          "table": [
           {
            "cells": {
             "fill": {
              "color": "#EBF0F8"
             },
             "line": {
              "color": "white"
             }
            },
            "header": {
             "fill": {
              "color": "#C8D4E3"
             },
             "line": {
              "color": "white"
             }
            },
            "type": "table"
           }
          ]
         },
         "layout": {
          "annotationdefaults": {
           "arrowcolor": "#2a3f5f",
           "arrowhead": 0,
           "arrowwidth": 1
          },
          "autotypenumbers": "strict",
          "coloraxis": {
           "colorbar": {
            "outlinewidth": 0,
            "ticks": ""
           }
          },
          "colorscale": {
           "diverging": [
            [
             0,
             "#8e0152"
            ],
            [
             0.1,
             "#c51b7d"
            ],
            [
             0.2,
             "#de77ae"
            ],
            [
             0.3,
             "#f1b6da"
            ],
            [
             0.4,
             "#fde0ef"
            ],
            [
             0.5,
             "#f7f7f7"
            ],
            [
             0.6,
             "#e6f5d0"
            ],
            [
             0.7,
             "#b8e186"
            ],
            [
             0.8,
             "#7fbc41"
            ],
            [
             0.9,
             "#4d9221"
            ],
            [
             1,
             "#276419"
            ]
           ],
           "sequential": [
            [
             0,
             "#0d0887"
            ],
            [
             0.1111111111111111,
             "#46039f"
            ],
            [
             0.2222222222222222,
             "#7201a8"
            ],
            [
             0.3333333333333333,
             "#9c179e"
            ],
            [
             0.4444444444444444,
             "#bd3786"
            ],
            [
             0.5555555555555556,
             "#d8576b"
            ],
            [
             0.6666666666666666,
             "#ed7953"
            ],
            [
             0.7777777777777778,
             "#fb9f3a"
            ],
            [
             0.8888888888888888,
             "#fdca26"
            ],
            [
             1,
             "#f0f921"
            ]
           ],
           "sequentialminus": [
            [
             0,
             "#0d0887"
            ],
            [
             0.1111111111111111,
             "#46039f"
            ],
            [
             0.2222222222222222,
             "#7201a8"
            ],
            [
             0.3333333333333333,
             "#9c179e"
            ],
            [
             0.4444444444444444,
             "#bd3786"
            ],
            [
             0.5555555555555556,
             "#d8576b"
            ],
            [
             0.6666666666666666,
             "#ed7953"
            ],
            [
             0.7777777777777778,
             "#fb9f3a"
            ],
            [
             0.8888888888888888,
             "#fdca26"
            ],
            [
             1,
             "#f0f921"
            ]
           ]
          },
          "colorway": [
           "#636efa",
           "#EF553B",
           "#00cc96",
           "#ab63fa",
           "#FFA15A",
           "#19d3f3",
           "#FF6692",
           "#B6E880",
           "#FF97FF",
           "#FECB52"
          ],
          "font": {
           "color": "#2a3f5f"
          },
          "geo": {
           "bgcolor": "white",
           "lakecolor": "white",
           "landcolor": "#E5ECF6",
           "showlakes": true,
           "showland": true,
           "subunitcolor": "white"
          },
          "hoverlabel": {
           "align": "left"
          },
          "hovermode": "closest",
          "mapbox": {
           "style": "light"
          },
          "paper_bgcolor": "white",
          "plot_bgcolor": "#E5ECF6",
          "polar": {
           "angularaxis": {
            "gridcolor": "white",
            "linecolor": "white",
            "ticks": ""
           },
           "bgcolor": "#E5ECF6",
           "radialaxis": {
            "gridcolor": "white",
            "linecolor": "white",
            "ticks": ""
           }
          },
          "scene": {
           "xaxis": {
            "backgroundcolor": "#E5ECF6",
            "gridcolor": "white",
            "gridwidth": 2,
            "linecolor": "white",
            "showbackground": true,
            "ticks": "",
            "zerolinecolor": "white"
           },
           "yaxis": {
            "backgroundcolor": "#E5ECF6",
            "gridcolor": "white",
            "gridwidth": 2,
            "linecolor": "white",
            "showbackground": true,
            "ticks": "",
            "zerolinecolor": "white"
           },
           "zaxis": {
            "backgroundcolor": "#E5ECF6",
            "gridcolor": "white",
            "gridwidth": 2,
            "linecolor": "white",
            "showbackground": true,
            "ticks": "",
            "zerolinecolor": "white"
           }
          },
          "shapedefaults": {
           "line": {
            "color": "#2a3f5f"
           }
          },
          "ternary": {
           "aaxis": {
            "gridcolor": "white",
            "linecolor": "white",
            "ticks": ""
           },
           "baxis": {
            "gridcolor": "white",
            "linecolor": "white",
            "ticks": ""
           },
           "bgcolor": "#E5ECF6",
           "caxis": {
            "gridcolor": "white",
            "linecolor": "white",
            "ticks": ""
           }
          },
          "title": {
           "x": 0.05
          },
          "xaxis": {
           "automargin": true,
           "gridcolor": "white",
           "linecolor": "white",
           "ticks": "",
           "title": {
            "standoff": 15
           },
           "zerolinecolor": "white",
           "zerolinewidth": 2
          },
          "yaxis": {
           "automargin": true,
           "gridcolor": "white",
           "linecolor": "white",
           "ticks": "",
           "title": {
            "standoff": 15
           },
           "zerolinecolor": "white",
           "zerolinewidth": 2
          }
         }
        },
        "title": {
         "text": "zeta=0.7853981633974483"
        },
        "xaxis": {
         "title": {
          "text": "R [meters]"
         }
        },
        "yaxis": {
         "scaleanchor": "x",
         "scaleratio": 1,
         "title": {
          "text": "Z [meters]"
         }
        }
       }
      }
     },
     "metadata": {},
     "output_type": "display_data"
    },
    {
     "data": {
      "application/vnd.plotly.v1+json": {
       "config": {
        "plotlyServerURL": "https://plot.ly"
       },
       "data": [
        {
         "mode": "lines+markers",
         "name": "coil",
         "type": "scatter",
         "x": [
          0.9437133139780509,
          0.9446792184918783,
          0.9475655039541575,
          0.9523388590870288,
          0.9589468984854818,
          0.967322489088539,
          0.9773890975938696,
          0.9890665333912353,
          1.002276394569109,
          1.0169465269841018,
          1.0330138794031387,
          1.0504252759288848,
          1.069135818789045,
          1.0891048634656895,
          1.1102897537185303,
          1.1326377440470652,
          1.15607674930404,
          1.180505725285062,
          1.2057855837659959,
          1.2317315695507012,
          1.2581079709074394,
          1.2846259004719933,
          1.3109446802338163,
          1.3366771066781697,
          1.3613985805331605,
          1.384659783151032,
          1.4060022929737146,
          1.424976284715122,
          1.441159262022573,
          1.45417465810112,
          1.4637091087658554,
          1.4695272623805342,
          1.4714831376184085,
          1.4695272623805342,
          1.4637091087658554,
          1.45417465810112,
          1.4411592620225737,
          1.4249762847151222,
          1.4060022929737146,
          1.3846597831510323,
          1.3613985805331608,
          1.3366771066781702,
          1.3109446802338167,
          1.2846259004719935,
          1.2581079709074399,
          1.2317315695507012,
          1.2057855837659959,
          1.1805057252850617,
          1.15607674930404,
          1.1326377440470654,
          1.1102897537185303,
          1.0891048634656897,
          1.069135818789045,
          1.050425275928885,
          1.033013879403139,
          1.0169465269841016,
          1.002276394569109,
          0.9890665333912353,
          0.9773890975938696,
          0.967322489088539,
          0.9589468984854816,
          0.9523388590870288,
          0.9475655039541575,
          0.9446792184918783
         ],
         "y": [
          -2.2903135369349888e-18,
          0.030778619932092105,
          0.061167776210138865,
          0.0907984357007627,
          0.11934046005605686,
          0.146517321589671,
          0.17211564038650753,
          0.19598860011921523,
          0.21805288017400926,
          0.23827936184299595,
          0.2566784704215568,
          0.27328154805114346,
          0.28812006501132675,
          0.30120473112937074,
          0.31250663904391834,
          0.3219424482761534,
          0.3293653114020906,
          0.33456277540773827,
          0.3372623012129823,
          0.3371443821218917,
          0.3338625641948507,
          0.3270690368347369,
          0.3164439257756374,
          0.30172603083515964,
          0.2827425428961893,
          0.2594352691113788,
          0.23188109574058796,
          0.20030481037326445,
          0.165082959239581,
          0.1267380866932837,
          0.08592343837920285,
          0.04339894706367704,
          5.32508140721487e-17,
          -0.043398947063676946,
          -0.08592343837920274,
          -0.12673808669328362,
          -0.16508295923958094,
          -0.2003048103732644,
          -0.2318810957405879,
          -0.2594352691113788,
          -0.2827425428961893,
          -0.30172603083515953,
          -0.31644392577563735,
          -0.3270690368347368,
          -0.3338625641948508,
          -0.33714438212189163,
          -0.3372623012129822,
          -0.33456277540773827,
          -0.32936531140209063,
          -0.3219424482761535,
          -0.31250663904391834,
          -0.3012047311293708,
          -0.2881200650113266,
          -0.27328154805114346,
          -0.256678470421557,
          -0.2382793618429959,
          -0.2180528801740093,
          -0.19598860011921537,
          -0.17211564038650756,
          -0.1465173215896711,
          -0.1193404600560571,
          -0.09079843570076274,
          -0.061167776210139024,
          -0.03077861993209209
         ]
        },
        {
         "mode": "lines+markers",
         "name": "plasma",
         "type": "scatter",
         "x": [
          1.1798997672871103,
          1.1800324589861013,
          1.180428983228434,
          1.181084714839448,
          1.1819920355249567,
          1.183140466024798,
          1.1845168446026362,
          1.1861055457191498,
          1.1878887315159883,
          1.1898466279301785,
          1.191957816951922,
          1.1941995368021068,
          1.1965479826639536,
          1.1989786020160162,
          1.2014663804561043,
          1.2039861159603529,
          1.2065126814907772,
          1.2090212773980298,
          1.211487675817093,
          1.2138884589492591,
          1.216201251645228,
          1.2184049461603534,
          1.2204799137222486,
          1.2224081942784162,
          1.2241736533184393,
          1.22576209388605,
          1.227161313550881,
          1.2283611005396387,
          1.2293531701604488,
          1.230131051101149,
          1.2306899395175448,
          1.2310265451026803,
          1.2311389557670338,
          1.2310265451026803,
          1.2306899395175448,
          1.230131051101149,
          1.2293531701604488,
          1.2283611005396387,
          1.227161313550881,
          1.22576209388605,
          1.2241736533184393,
          1.222408194278416,
          1.2204799137222486,
          1.2184049461603534,
          1.216201251645228,
          1.2138884589492591,
          1.2114876758170932,
          1.2090212773980298,
          1.2065126814907772,
          1.2039861159603529,
          1.2014663804561043,
          1.1989786020160162,
          1.1965479826639536,
          1.1941995368021068,
          1.191957816951922,
          1.1898466279301783,
          1.1878887315159883,
          1.1861055457191498,
          1.1845168446026362,
          1.183140466024798,
          1.1819920355249567,
          1.181084714839448,
          1.180428983228434,
          1.1800324589861013
         ],
         "y": [
          4.233063257584573e-18,
          0.007991393692670757,
          0.015939643445354496,
          0.023800940437844736,
          0.03153017583741241,
          0.03908036559507234,
          0.04640216601267063,
          0.053443511439711225,
          0.06014940534660106,
          0.06646189476009828,
          0.0723202551623908,
          0.07766140809868383,
          0.08242058675957308,
          0.08653225580217605,
          0.08993128100123189,
          0.09255433253912554,
          0.09434149352569694,
          0.0952380333550738,
          0.09519629432444478,
          0.0941776299708601,
          0.09215432509879447,
          0.08911142068167624,
          0.08504836198702252,
          0.0799803858349094,
          0.07393956354448125,
          0.0669754207802372,
          0.05915506519260269,
          0.0505627682786364,
          0.04129896955647019,
          0.031478698401827675,
          0.021229440206865693,
          0.010688506469061334,
          1.6198164893468945e-17,
          -0.0106885064690613,
          -0.021229440206865666,
          -0.03147869840182765,
          -0.04129896955647015,
          -0.05056276827863637,
          -0.05915506519260267,
          -0.06697542078023717,
          -0.07393956354448122,
          -0.07998038583490935,
          -0.0850483619870225,
          -0.08911142068167623,
          -0.09215432509879444,
          -0.0941776299708601,
          -0.09519629432444476,
          -0.0952380333550738,
          -0.09434149352569694,
          -0.09255433253912555,
          -0.08993128100123189,
          -0.08653225580217605,
          -0.08242058675957308,
          -0.07766140809868383,
          -0.0723202551623908,
          -0.06646189476009828,
          -0.06014940534660109,
          -0.053443511439711266,
          -0.04640216601267062,
          -0.039080365595072344,
          -0.031530175837412446,
          -0.023800940437844725,
          -0.015939643445354507,
          -0.007991393692670743
         ]
        }
       ],
       "layout": {
        "template": {
         "data": {
          "bar": [
           {
            "error_x": {
             "color": "#2a3f5f"
            },
            "error_y": {
             "color": "#2a3f5f"
            },
            "marker": {
             "line": {
              "color": "#E5ECF6",
              "width": 0.5
             },
             "pattern": {
              "fillmode": "overlay",
              "size": 10,
              "solidity": 0.2
             }
            },
            "type": "bar"
           }
          ],
          "barpolar": [
           {
            "marker": {
             "line": {
              "color": "#E5ECF6",
              "width": 0.5
             },
             "pattern": {
              "fillmode": "overlay",
              "size": 10,
              "solidity": 0.2
             }
            },
            "type": "barpolar"
           }
          ],
          "carpet": [
           {
            "aaxis": {
             "endlinecolor": "#2a3f5f",
             "gridcolor": "white",
             "linecolor": "white",
             "minorgridcolor": "white",
             "startlinecolor": "#2a3f5f"
            },
            "baxis": {
             "endlinecolor": "#2a3f5f",
             "gridcolor": "white",
             "linecolor": "white",
             "minorgridcolor": "white",
             "startlinecolor": "#2a3f5f"
            },
            "type": "carpet"
           }
          ],
          "choropleth": [
           {
            "colorbar": {
             "outlinewidth": 0,
             "ticks": ""
            },
            "type": "choropleth"
           }
          ],
          "contour": [
           {
            "colorbar": {
             "outlinewidth": 0,
             "ticks": ""
            },
            "colorscale": [
             [
              0,
              "#0d0887"
             ],
             [
              0.1111111111111111,
              "#46039f"
             ],
             [
              0.2222222222222222,
              "#7201a8"
             ],
             [
              0.3333333333333333,
              "#9c179e"
             ],
             [
              0.4444444444444444,
              "#bd3786"
             ],
             [
              0.5555555555555556,
              "#d8576b"
             ],
             [
              0.6666666666666666,
              "#ed7953"
             ],
             [
              0.7777777777777778,
              "#fb9f3a"
             ],
             [
              0.8888888888888888,
              "#fdca26"
             ],
             [
              1,
              "#f0f921"
             ]
            ],
            "type": "contour"
           }
          ],
          "contourcarpet": [
           {
            "colorbar": {
             "outlinewidth": 0,
             "ticks": ""
            },
            "type": "contourcarpet"
           }
          ],
          "heatmap": [
           {
            "colorbar": {
             "outlinewidth": 0,
             "ticks": ""
            },
            "colorscale": [
             [
              0,
              "#0d0887"
             ],
             [
              0.1111111111111111,
              "#46039f"
             ],
             [
              0.2222222222222222,
              "#7201a8"
             ],
             [
              0.3333333333333333,
              "#9c179e"
             ],
             [
              0.4444444444444444,
              "#bd3786"
             ],
             [
              0.5555555555555556,
              "#d8576b"
             ],
             [
              0.6666666666666666,
              "#ed7953"
             ],
             [
              0.7777777777777778,
              "#fb9f3a"
             ],
             [
              0.8888888888888888,
              "#fdca26"
             ],
             [
              1,
              "#f0f921"
             ]
            ],
            "type": "heatmap"
           }
          ],
          "heatmapgl": [
           {
            "colorbar": {
             "outlinewidth": 0,
             "ticks": ""
            },
            "colorscale": [
             [
              0,
              "#0d0887"
             ],
             [
              0.1111111111111111,
              "#46039f"
             ],
             [
              0.2222222222222222,
              "#7201a8"
             ],
             [
              0.3333333333333333,
              "#9c179e"
             ],
             [
              0.4444444444444444,
              "#bd3786"
             ],
             [
              0.5555555555555556,
              "#d8576b"
             ],
             [
              0.6666666666666666,
              "#ed7953"
             ],
             [
              0.7777777777777778,
              "#fb9f3a"
             ],
             [
              0.8888888888888888,
              "#fdca26"
             ],
             [
              1,
              "#f0f921"
             ]
            ],
            "type": "heatmapgl"
           }
          ],
          "histogram": [
           {
            "marker": {
             "pattern": {
              "fillmode": "overlay",
              "size": 10,
              "solidity": 0.2
             }
            },
            "type": "histogram"
           }
          ],
          "histogram2d": [
           {
            "colorbar": {
             "outlinewidth": 0,
             "ticks": ""
            },
            "colorscale": [
             [
              0,
              "#0d0887"
             ],
             [
              0.1111111111111111,
              "#46039f"
             ],
             [
              0.2222222222222222,
              "#7201a8"
             ],
             [
              0.3333333333333333,
              "#9c179e"
             ],
             [
              0.4444444444444444,
              "#bd3786"
             ],
             [
              0.5555555555555556,
              "#d8576b"
             ],
             [
              0.6666666666666666,
              "#ed7953"
             ],
             [
              0.7777777777777778,
              "#fb9f3a"
             ],
             [
              0.8888888888888888,
              "#fdca26"
             ],
             [
              1,
              "#f0f921"
             ]
            ],
            "type": "histogram2d"
           }
          ],
          "histogram2dcontour": [
           {
            "colorbar": {
             "outlinewidth": 0,
             "ticks": ""
            },
            "colorscale": [
             [
              0,
              "#0d0887"
             ],
             [
              0.1111111111111111,
              "#46039f"
             ],
             [
              0.2222222222222222,
              "#7201a8"
             ],
             [
              0.3333333333333333,
              "#9c179e"
             ],
             [
              0.4444444444444444,
              "#bd3786"
             ],
             [
              0.5555555555555556,
              "#d8576b"
             ],
             [
              0.6666666666666666,
              "#ed7953"
             ],
             [
              0.7777777777777778,
              "#fb9f3a"
             ],
             [
              0.8888888888888888,
              "#fdca26"
             ],
             [
              1,
              "#f0f921"
             ]
            ],
            "type": "histogram2dcontour"
           }
          ],
          "mesh3d": [
           {
            "colorbar": {
             "outlinewidth": 0,
             "ticks": ""
            },
            "type": "mesh3d"
           }
          ],
          "parcoords": [
           {
            "line": {
             "colorbar": {
              "outlinewidth": 0,
              "ticks": ""
             }
            },
            "type": "parcoords"
           }
          ],
          "pie": [
           {
            "automargin": true,
            "type": "pie"
           }
          ],
          "scatter": [
           {
            "fillpattern": {
             "fillmode": "overlay",
             "size": 10,
             "solidity": 0.2
            },
            "type": "scatter"
           }
          ],
          "scatter3d": [
           {
            "line": {
             "colorbar": {
              "outlinewidth": 0,
              "ticks": ""
             }
            },
            "marker": {
             "colorbar": {
              "outlinewidth": 0,
              "ticks": ""
             }
            },
            "type": "scatter3d"
           }
          ],
          "scattercarpet": [
           {
            "marker": {
             "colorbar": {
              "outlinewidth": 0,
              "ticks": ""
             }
            },
            "type": "scattercarpet"
           }
          ],
          "scattergeo": [
           {
            "marker": {
             "colorbar": {
              "outlinewidth": 0,
              "ticks": ""
             }
            },
            "type": "scattergeo"
           }
          ],
          "scattergl": [
           {
            "marker": {
             "colorbar": {
              "outlinewidth": 0,
              "ticks": ""
             }
            },
            "type": "scattergl"
           }
          ],
          "scattermapbox": [
           {
            "marker": {
             "colorbar": {
              "outlinewidth": 0,
              "ticks": ""
             }
            },
            "type": "scattermapbox"
           }
          ],
          "scatterpolar": [
           {
            "marker": {
             "colorbar": {
              "outlinewidth": 0,
              "ticks": ""
             }
            },
            "type": "scatterpolar"
           }
          ],
          "scatterpolargl": [
           {
            "marker": {
             "colorbar": {
              "outlinewidth": 0,
              "ticks": ""
             }
            },
            "type": "scatterpolargl"
           }
          ],
          "scatterternary": [
           {
            "marker": {
             "colorbar": {
              "outlinewidth": 0,
              "ticks": ""
             }
            },
            "type": "scatterternary"
           }
          ],
          "surface": [
           {
            "colorbar": {
             "outlinewidth": 0,
             "ticks": ""
            },
            "colorscale": [
             [
              0,
              "#0d0887"
             ],
             [
              0.1111111111111111,
              "#46039f"
             ],
             [
              0.2222222222222222,
              "#7201a8"
             ],
             [
              0.3333333333333333,
              "#9c179e"
             ],
             [
              0.4444444444444444,
              "#bd3786"
             ],
             [
              0.5555555555555556,
              "#d8576b"
             ],
             [
              0.6666666666666666,
              "#ed7953"
             ],
             [
              0.7777777777777778,
              "#fb9f3a"
             ],
             [
              0.8888888888888888,
              "#fdca26"
             ],
             [
              1,
              "#f0f921"
             ]
            ],
            "type": "surface"
           }
          ],
          "table": [
           {
            "cells": {
             "fill": {
              "color": "#EBF0F8"
             },
             "line": {
              "color": "white"
             }
            },
            "header": {
             "fill": {
              "color": "#C8D4E3"
             },
             "line": {
              "color": "white"
             }
            },
            "type": "table"
           }
          ]
         },
         "layout": {
          "annotationdefaults": {
           "arrowcolor": "#2a3f5f",
           "arrowhead": 0,
           "arrowwidth": 1
          },
          "autotypenumbers": "strict",
          "coloraxis": {
           "colorbar": {
            "outlinewidth": 0,
            "ticks": ""
           }
          },
          "colorscale": {
           "diverging": [
            [
             0,
             "#8e0152"
            ],
            [
             0.1,
             "#c51b7d"
            ],
            [
             0.2,
             "#de77ae"
            ],
            [
             0.3,
             "#f1b6da"
            ],
            [
             0.4,
             "#fde0ef"
            ],
            [
             0.5,
             "#f7f7f7"
            ],
            [
             0.6,
             "#e6f5d0"
            ],
            [
             0.7,
             "#b8e186"
            ],
            [
             0.8,
             "#7fbc41"
            ],
            [
             0.9,
             "#4d9221"
            ],
            [
             1,
             "#276419"
            ]
           ],
           "sequential": [
            [
             0,
             "#0d0887"
            ],
            [
             0.1111111111111111,
             "#46039f"
            ],
            [
             0.2222222222222222,
             "#7201a8"
            ],
            [
             0.3333333333333333,
             "#9c179e"
            ],
            [
             0.4444444444444444,
             "#bd3786"
            ],
            [
             0.5555555555555556,
             "#d8576b"
            ],
            [
             0.6666666666666666,
             "#ed7953"
            ],
            [
             0.7777777777777778,
             "#fb9f3a"
            ],
            [
             0.8888888888888888,
             "#fdca26"
            ],
            [
             1,
             "#f0f921"
            ]
           ],
           "sequentialminus": [
            [
             0,
             "#0d0887"
            ],
            [
             0.1111111111111111,
             "#46039f"
            ],
            [
             0.2222222222222222,
             "#7201a8"
            ],
            [
             0.3333333333333333,
             "#9c179e"
            ],
            [
             0.4444444444444444,
             "#bd3786"
            ],
            [
             0.5555555555555556,
             "#d8576b"
            ],
            [
             0.6666666666666666,
             "#ed7953"
            ],
            [
             0.7777777777777778,
             "#fb9f3a"
            ],
            [
             0.8888888888888888,
             "#fdca26"
            ],
            [
             1,
             "#f0f921"
            ]
           ]
          },
          "colorway": [
           "#636efa",
           "#EF553B",
           "#00cc96",
           "#ab63fa",
           "#FFA15A",
           "#19d3f3",
           "#FF6692",
           "#B6E880",
           "#FF97FF",
           "#FECB52"
          ],
          "font": {
           "color": "#2a3f5f"
          },
          "geo": {
           "bgcolor": "white",
           "lakecolor": "white",
           "landcolor": "#E5ECF6",
           "showlakes": true,
           "showland": true,
           "subunitcolor": "white"
          },
          "hoverlabel": {
           "align": "left"
          },
          "hovermode": "closest",
          "mapbox": {
           "style": "light"
          },
          "paper_bgcolor": "white",
          "plot_bgcolor": "#E5ECF6",
          "polar": {
           "angularaxis": {
            "gridcolor": "white",
            "linecolor": "white",
            "ticks": ""
           },
           "bgcolor": "#E5ECF6",
           "radialaxis": {
            "gridcolor": "white",
            "linecolor": "white",
            "ticks": ""
           }
          },
          "scene": {
           "xaxis": {
            "backgroundcolor": "#E5ECF6",
            "gridcolor": "white",
            "gridwidth": 2,
            "linecolor": "white",
            "showbackground": true,
            "ticks": "",
            "zerolinecolor": "white"
           },
           "yaxis": {
            "backgroundcolor": "#E5ECF6",
            "gridcolor": "white",
            "gridwidth": 2,
            "linecolor": "white",
            "showbackground": true,
            "ticks": "",
            "zerolinecolor": "white"
           },
           "zaxis": {
            "backgroundcolor": "#E5ECF6",
            "gridcolor": "white",
            "gridwidth": 2,
            "linecolor": "white",
            "showbackground": true,
            "ticks": "",
            "zerolinecolor": "white"
           }
          },
          "shapedefaults": {
           "line": {
            "color": "#2a3f5f"
           }
          },
          "ternary": {
           "aaxis": {
            "gridcolor": "white",
            "linecolor": "white",
            "ticks": ""
           },
           "baxis": {
            "gridcolor": "white",
            "linecolor": "white",
            "ticks": ""
           },
           "bgcolor": "#E5ECF6",
           "caxis": {
            "gridcolor": "white",
            "linecolor": "white",
            "ticks": ""
           }
          },
          "title": {
           "x": 0.05
          },
          "xaxis": {
           "automargin": true,
           "gridcolor": "white",
           "linecolor": "white",
           "ticks": "",
           "title": {
            "standoff": 15
           },
           "zerolinecolor": "white",
           "zerolinewidth": 2
          },
          "yaxis": {
           "automargin": true,
           "gridcolor": "white",
           "linecolor": "white",
           "ticks": "",
           "title": {
            "standoff": 15
           },
           "zerolinecolor": "white",
           "zerolinewidth": 2
          }
         }
        },
        "title": {
         "text": "zeta=1.5707963267948966"
        },
        "xaxis": {
         "title": {
          "text": "R [meters]"
         }
        },
        "yaxis": {
         "scaleanchor": "x",
         "scaleratio": 1,
         "title": {
          "text": "Z [meters]"
         }
        }
       }
      }
     },
     "metadata": {},
     "output_type": "display_data"
    }
   ],
   "source": [
    "\n",
    "fig = regcoil_plot.plot_surfaces(bdistrib_io.get_file_path(952, \"regcoil\"))\n",
    "fig[0].show()\n",
    "fig[1].show()\n",
    "fig[2].show()\n"
   ]
  }
 ],
 "metadata": {
  "kernelspec": {
   "display_name": ".venv",
   "language": "python",
   "name": "python3"
  },
  "language_info": {
   "codemirror_mode": {
    "name": "ipython",
    "version": 3
   },
   "file_extension": ".py",
   "mimetype": "text/x-python",
   "name": "python",
   "nbconvert_exporter": "python",
   "pygments_lexer": "ipython3",
   "version": "3.11.2"
  }
 },
 "nbformat": 4,
 "nbformat_minor": 2
}
