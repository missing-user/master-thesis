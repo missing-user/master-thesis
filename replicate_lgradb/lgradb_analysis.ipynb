{
 "cells": [
  {
   "cell_type": "code",
   "execution_count": null,
   "metadata": {},
   "outputs": [],
   "source": [
    "filenames = []\n",
    "distances = []\n",
    "with open(\"../run_all_lgradb.log\") as f:\n",
    "  while line := f.readline():\n",
    "    line = line.rstrip()\n",
    "    if line.startswith(\"result=\"):\n",
    "      distances.append(float(line.removeprefix(\"result=\")))\n",
    "    elif line.endswith(\".json\"):\n",
    "      filenames.append(line)\n",
    "\n",
    "assert len(filenames)>0\n",
    "assert len(filenames) == len(distances)\n"
   ]
  },
  {
   "cell_type": "code",
   "execution_count": null,
   "metadata": {},
   "outputs": [],
   "source": [
    "import numpy as np\n",
    "import matplotlib.pyplot as plt\n",
    "import os \n",
    "import simsopt \n",
    "\n",
    "for file, dist in zip(filenames, distances):\n",
    "    print(file)\n",
    "    path = os.path.join(\"db\", file)\n",
    "    surfs, coils = simsopt.load(path)\n",
    "    surfs[-1].plot(close=True, show=False)\n",
    "    plt.title(str(dist))\n",
    "    plt.show()\n"
   ]
  },
  {
   "cell_type": "code",
   "execution_count": null,
   "metadata": {},
   "outputs": [],
   "source": [
    "results_dict = bdistrib_util.rate_of_efficiency_sequence(bdistrib_path)\n",
    "# In the shell execute \n",
    "# python bdistrib/compareSingularValuesPlot.py $(ls replicate_lgradb/tmp/dist05/bdistrib_out*)\n"
   ]
  }
 ],
 "metadata": {
  "kernelspec": {
   "display_name": ".venv",
   "language": "python",
   "name": "python3"
  },
  "language_info": {
   "codemirror_mode": {
    "name": "ipython",
    "version": 3
   },
   "file_extension": ".py",
   "mimetype": "text/x-python",
   "name": "python",
   "nbconvert_exporter": "python",
   "pygments_lexer": "ipython3",
   "version": "3.11.2"
  }
 },
 "nbformat": 4,
 "nbformat_minor": 2
}
