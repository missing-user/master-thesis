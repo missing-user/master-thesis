{
 "cells": [
  {
   "cell_type": "code",
   "execution_count": null,
   "metadata": {},
   "outputs": [],
   "source": [
    "import numpy as np\n",
    "import re\n",
    "expr = re.compile(r\"(\\n\\d\\.\\d*\\n)(.*.json)\")\n",
    "with open(\"../run_all_lgradb.log\") as f:\n",
    "  txt = f.readlines()\n",
    "  print(txt)\n",
    "  print(expr.match(txt))\n"
   ]
  }
 ],
 "metadata": {
  "language_info": {
   "name": "python"
  }
 },
 "nbformat": 4,
 "nbformat_minor": 2
}
