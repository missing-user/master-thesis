{
 "cells": [
  {
   "cell_type": "code",
   "execution_count": null,
   "metadata": {},
   "outputs": [],
   "source": [
    "filenames = []\n",
    "distances = []\n",
    "with open(\"../run_all_lgradb.log\") as f:\n",
    "  while line := f.readline():\n",
    "    line = line.rstrip()\n",
    "    if line.startswith(\"result=\"):\n",
    "      distances.append(float(line.removeprefix(\"result=\")))\n",
    "    elif line.endswith(\".json\"):\n",
    "      filenames.append(line)\n",
    "\n",
    "assert len(filenames)>0\n",
    "assert len(filenames) == len(distances)\n"
   ]
  },
  {
   "cell_type": "code",
   "execution_count": null,
   "metadata": {},
   "outputs": [],
   "source": [
    "import os\n",
    "import simsopt\n",
    "\n",
    "for top, dirs, files in os.walk(\"replicate_lgradb/db\"):\n",
    "    for file in files:\n",
    "        if os.path.splitext(file)[1] == \".json\":\n",
    "            print(file)\n",
    "            path = os.path.join(top, file)\n",
    "            surfs, coils = simsopt.load(path)\n",
    "            bdistrib_for_surfaces(\n",
    "                surfs[-1], dist\n",
    "            )\n",
    "            Path(\"bdistrib_out.python_generated.nc\").rename(bdistrib_out_path)\n"
   ]
  },
  {
   "cell_type": "code",
   "execution_count": null,
   "metadata": {},
   "outputs": [],
   "source": [
    "import numpy as np\n",
    "import matplotlib.pyplot as plt\n",
    "import os \n",
    "import simsopt \n",
    "\n",
    "for file, dist in zip(filenames, distances):\n",
    "    print(file)\n",
    "    path = os.path.join(\"db\", file)\n",
    "    surfs, coils = simsopt.load(path)\n",
    "    surfs[-1].plot(close=True, show=False)\n",
    "    plt.title(str(dist))\n",
    "    plt.show()\n"
   ]
  }
 ],
 "metadata": {
  "kernelspec": {
   "display_name": ".venv",
   "language": "python",
   "name": "python3"
  },
  "language_info": {
   "codemirror_mode": {
    "name": "ipython",
    "version": 3
   },
   "file_extension": ".py",
   "mimetype": "text/x-python",
   "name": "python",
   "nbconvert_exporter": "python",
   "pygments_lexer": "ipython3",
   "version": "3.11.2"
  }
 },
 "nbformat": 4,
 "nbformat_minor": 2
}
