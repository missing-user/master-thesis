{
 "cells": [
  {
   "cell_type": "code",
   "execution_count": null,
   "metadata": {},
   "outputs": [],
   "source": [
    "import pandas as pd\n",
    "import numpy as np\n",
    "import matplotlib.pyplot as plt\n",
    "import simsopt\n",
    "import simsopt.geo\n",
    "import simsopt.field\n",
    "import os\n",
    "\n",
    "from bdistrib_util import *"
   ]
  },
  {
   "cell_type": "code",
   "execution_count": null,
   "metadata": {},
   "outputs": [],
   "source": [
    "def get_path(ID, type=\"simsopt\"):\n",
    "  fID = ID // 1000 \n",
    "  if type == \"simsopt\":\n",
    "    return f'./QUASR_db/simsopt_serials/{fID:04}/serial{ID:07}.json'\n",
    "  elif(type == \"nml\"):\n",
    "    return f'./QUASR_db/nml/{fID:04}/input{ID:07}'\n",
    "  elif(type == \"bdistrib\"):\n",
    "    return f'./QUASR_db/bdistrib_serials/{fID:04}/bdistrib_out.{ID:07}.nc'\n",
    "  else:\n",
    "    raise RuntimeError()\n",
    "\n",
    "sopt_objs = []\n",
    "for i in range(1000):\n",
    "  try:\n",
    "    sopt_objs.append(simsopt.load(get_path(i)))\n",
    "  except:\n",
    "    pass\n",
    "  # simsopt.geo.plot(np.concatenate(sopt_objs[-1]))\n",
    "  \n",
    "df = pd.DataFrame(sopt_objs, columns=[\"surfaces\", \"coils\"])\n",
    "df[\"lcfs\"] = df[\"surfaces\"].map(lambda x: x[-1])\n",
    "df[\"AR\"] = df[\"lcfs\"].map(lambda x: x.aspect_ratio())\n",
    "df[\"volume\"] = df[\"lcfs\"].map(lambda x: -x.volume())\n",
    "df[\"nfp\"] = df[\"lcfs\"].map(lambda x: x.nfp)\n",
    "df[\"R1\"] = df[\"lcfs\"].map(lambda x: x.minor_radius())\n",
    "\n",
    "print(len(df))\n",
    "df.head()"
   ]
  },
  {
   "cell_type": "code",
   "execution_count": null,
   "metadata": {},
   "outputs": [],
   "source": [
    "def eval_row(row, plot=False):\n",
    "  coils = row[\"coils\"]\n",
    "  nfp = row[\"nfp\"]\n",
    "  R1 = row[\"R1\"]\n",
    "  lcfs = row[\"lcfs\"]\n",
    "  computational_surface = simsopt.geo.SurfaceRZFourier.from_nphi_ntheta(nfp=nfp, nphi=64, ntheta=64, range=\"half period\")\n",
    "\n",
    "  # Simple torus boundary\n",
    "  computational_surface.set_rc(1,0,R1*2.0)\n",
    "  computational_surface.set_zs(1,0,R1*2.0)\n",
    "  computational_surface.change_resolution(3,4)\n",
    "  # computational_surface.set_rc(2,1,np.random.rand())\n",
    "  # computational_surface.set_zs(1,2,np.random.rand())\n",
    "  normal_computational = computational_surface.normal()\n",
    "  xyz_computational = computational_surface.gamma()\n",
    "\n",
    "  # Scaled computational boundary\n",
    "  scale = 1.5\n",
    "  lcfs.scale(scale)\n",
    "  xyz_computational = lcfs.gamma()\n",
    "  normal_computational = lcfs.normal()\n",
    "  lcfs.scale(1.0 / scale)\n",
    "\n",
    "  bs = simsopt.field.BiotSavart(coils)\n",
    "  bs.set_points_cart(xyz_computational.reshape((-1,3)))\n",
    "  B = bs.B().reshape(xyz_computational.shape)\n",
    "  BdotN = np.sum(normal_computational * B, axis=-1)\n",
    "  BdotN_fft = np.fft.fft2(BdotN)\n",
    "  \n",
    "  if plot:\n",
    "    import plotly.express as px\n",
    "    # px.imshow(BdotN).show()\n",
    "    # px.imshow(np.abs(np.fft.fftshift(BdotN_fft))).show()\n",
    "    # px.imshow(np.real(np.fft.fftshift(BdotN_fft)), title=\"Real component\").show()\n",
    "    # px.imshow(np.imag(np.fft.fftshift(BdotN_fft)), title=\"Imag component\").show()\n",
    "    plt.figure(figsize=(16,5))\n",
    "    plt.subplot(131)\n",
    "    plt.imshow(BdotN)\n",
    "    plt.title(\"BdotN\")\n",
    "    plt.colorbar()\n",
    "    plt.subplot(132)\n",
    "    plt.imshow(np.real(np.fft.fftshift(BdotN_fft)))\n",
    "    plt.title(\"fft real\")\n",
    "    plt.colorbar()\n",
    "    plt.subplot(133)\n",
    "    plt.imshow(np.imag(np.fft.fftshift(BdotN_fft)))\n",
    "    plt.title(\"fft imag\")\n",
    "    plt.colorbar()\n",
    "    # plt.tight_layout()\n",
    "    plt.show()\n",
    "\n",
    "  return BdotN_fft\n",
    "\n",
    "for idx,row in df.iterrows():\n",
    "  eval_row(row, False)"
   ]
  },
  {
   "cell_type": "markdown",
   "metadata": {},
   "source": [
    "- Check simple computational boundaries\n",
    "- Check using a simple scaled up boundary\n",
    "- Is SVD independent of boundary geometry?"
   ]
  },
  {
   "cell_type": "code",
   "execution_count": null,
   "metadata": {},
   "outputs": [],
   "source": [
    "dfid = 3\n",
    "lcfs = df[\"lcfs\"][dfid]\n",
    "curves = [coil.curve for coil in df[\"coils\"][dfid]]\n",
    "\n",
    "# XYZ tensor fourier -> RZ fourier\n",
    "rzf = lcfs.to_RZFourier()\n",
    "rzf.plot()"
   ]
  },
  {
   "cell_type": "code",
   "execution_count": null,
   "metadata": {},
   "outputs": [],
   "source": [
    "import subprocess\n",
    "subprocess.check_call([\"../bdistrib/bdistrib\", write_bdistribin(netcdf_from_surface(rzf), \n",
    "                                                                sep_outer=minimum_coil_surf_distance(curves, rzf))])\n",
    "import bdistribPlot\n",
    "bdistribPlot.main(\"bdistrib_out.python_generated.nc\")"
   ]
  },
  {
   "cell_type": "code",
   "execution_count": null,
   "metadata": {},
   "outputs": [],
   "source": [
    "def get_LgradB(path):\n",
    "  from simsopt.util import MpiPartition\n",
    "  from simsopt.mhd import Vmec\n",
    "  \n",
    "  mpi = MpiPartition(ngroups=3)\n",
    "\n",
    "  equil = Vmec(path, mpi)\n",
    "\n",
    "# get_LgradB(get_path(960, \"nml\"))"
   ]
  },
  {
   "cell_type": "code",
   "execution_count": null,
   "metadata": {},
   "outputs": [],
   "source": [
    "for ID in range(1000, 2000):\n",
    "  simsopt_path = get_path(ID)\n",
    "  if os.path.exists(simsopt_path):\n",
    "    soptobj = simsopt.load(simsopt_path)\n",
    "\n",
    "    lcfs = soptobj[0][-1]\n",
    "    # XYZ tensor fourier -> RZ fourier\n",
    "    rzf = lcfs.to_RZFourier()\n",
    "    curves = [coil.curve for coil in soptobj[1]]\n",
    "    \n",
    "    bdistrib_out_path = get_path(ID, \"bdistrib\")\n",
    "    subprocess.check_call([\"mkdir\", \"-p\", os.path.dirname(bdistrib_out_path)])\n",
    "    subprocess.check_call([\"../bdistrib/bdistrib\", write_bdistribin(netcdf_from_surface(rzf), \n",
    "                                                                    sep_outer=minimum_coil_surf_distance(curves, rzf))])\n",
    "    # Move results to correct directory\n",
    "    subprocess.check_call([\"mv\", \"bdistrib_out.python_generated.nc\", bdistrib_out_path, \"-u\"])\n",
    "  else:\n",
    "    print(\"Skipping\", simsopt_path)"
   ]
  },
  {
   "cell_type": "code",
   "execution_count": null,
   "metadata": {},
   "outputs": [],
   "source": [
    "import bdistribPlot\n",
    "\n",
    "for ID in range(1000, 2000):\n",
    "  bdistrib_path = get_path(ID, \"bdistrib\")\n",
    "  simsopt_path = get_path(ID, \"simsopt\")\n",
    "  if os.path.exists(bdistrib_path):\n",
    "    print(bdistrib_path)\n",
    "    bdistribPlot.main(bdistrib_path)\n",
    "    # soptobj = simsopt.load(simsopt_path)\n",
    "    # simsopt.geo.plot(soptobj[0] + soptobj[1], engine=\"plotly\")"
   ]
  },
  {
   "cell_type": "code",
   "execution_count": null,
   "metadata": {},
   "outputs": [],
   "source": [
    "tokamak_surf = simsopt.geo.SurfaceRZFourier(nfp=2, stellsym=False, mpol=5, ntor=5)\n",
    "tokamak_surf.set_zs(1,0, 0.5)\n",
    "tokamak_surf.set_rc(1,0, 0.4)\n",
    "tokamak_surf.set_rs(1,0, 0.1)\n",
    "tokamak_surf.set_rs(2,0, 0.2)\n",
    "\n",
    "\n",
    "subprocess.check_call([\"../bdistrib/bdistrib\", write_bdistribin(netcdf_from_surface(tokamak_surf), \n",
    "                                                                sep_outer=0.2)])\n",
    "\n",
    "bdistribPlot.main(\"bdistrib_out.tokamak.nc\")"
   ]
  }
 ],
 "metadata": {
  "kernelspec": {
   "display_name": ".venv",
   "language": "python",
   "name": "python3"
  },
  "language_info": {
   "codemirror_mode": {
    "name": "ipython",
    "version": 3
   },
   "file_extension": ".py",
   "mimetype": "text/x-python",
   "name": "python",
   "nbconvert_exporter": "python",
   "pygments_lexer": "ipython3",
   "version": "3.11.2"
  }
 },
 "nbformat": 4,
 "nbformat_minor": 2
}
