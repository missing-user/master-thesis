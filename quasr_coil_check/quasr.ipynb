{
 "cells": [
  {
   "cell_type": "code",
   "execution_count": null,
   "metadata": {},
   "outputs": [],
   "source": [
    "import pandas as pd\n",
    "import numpy as np\n",
    "import matplotlib.pyplot as plt\n",
    "import simsopt\n",
    "import simsopt.geo\n",
    "import simsopt.field\n",
    "import os\n",
    "\n",
    "import bdistrib_util\n",
    "import bdistrib_io\n"
   ]
  },
  {
   "cell_type": "code",
   "execution_count": null,
   "metadata": {},
   "outputs": [],
   "source": [
    "unpickled_df = pd.read_pickle(\"QUASR_db/QA_database_26032024.pkl\")\n",
    "unpickled_df.select_dtypes(exclude=[\"object\"]).dtypes\n"
   ]
  },
  {
   "cell_type": "markdown",
   "metadata": {},
   "source": [
    "### Test surface extrusion\n",
    "- Check simple computational boundaries\n",
    "- Check using a simple scaled up boundary\n",
    "- Is SVD independent of boundary geometry?"
   ]
  },
  {
   "cell_type": "code",
   "execution_count": null,
   "metadata": {},
   "outputs": [],
   "source": [
    "dfid = 170 #causes problems\n",
    "lcfs = df[\"lcfs\"][dfid]\n",
    "curves = [coil.curve for coil in df[\"coils\"][dfid]]\n",
    "\n",
    "# XYZ tensor fourier -> RZ fourier\n",
    "psurf = (lcfs.to_RZFourier())\n",
    "psurf.plot(close=True)\n",
    "\n",
    "msurf = (lcfs.to_RZFourier())\n",
    "msurf.scale(1.5)\n",
    "# msurf.change_resolution(1,1)\n",
    "msurf.plot(close=True)\n",
    "\n",
    "osurf = (lcfs.to_RZFourier())\n",
    "osurf.scale(2)\n",
    "# osurf.change_resolution(1,1)\n",
    "osurf.plot(close=True)\n",
    "\n",
    "# simsopt.geo.plot([osurf, msurf, psurf]) \n"
   ]
  },
  {
   "cell_type": "code",
   "execution_count": null,
   "metadata": {},
   "outputs": [],
   "source": [
    "w7xsurf = bdistrib_io.read_netcdf(\"../bdistrib/equilibria/wout_w7x_standardConfig.nc\")\n",
    "w7xsurf03 = bdistrib_io.read_nescin_file(\"../bdistrib/equilibria/nescin.w7x_winding_surface_from_Drevlak\", 5)\n",
    "w7xsurf06 = bdistrib_io.read_nescin_file(\"../bdistrib/equilibria/nescin.w7x_standardConfig_separation0.6\", 5)\n",
    "\n",
    "simsopt.geo.plot([w7xsurf], close=True)\n",
    "simsopt.geo.plot([w7xsurf, w7xsurf03, w7xsurf06], close=True)\n"
   ]
  },
  {
   "cell_type": "code",
   "execution_count": null,
   "metadata": {},
   "outputs": [],
   "source": [
    "import scipy.optimize\n",
    "import functools\n",
    "\n",
    "def point_distance_in_torus(x, major_r, minor_r):\n",
    "  # x is ndarray of points with the last axis containing the xyz dimension (,3). All other axes can be shaped arbitrarily\n",
    "  # Modified from\n",
    "  # https://math.stackexchange.com/questions/4380905/how-can-i-determine-if-a-point-x-y-z-is-within-a-torus-r-r\n",
    "  return (major_r - np.sqrt(x[...,0]**2 + x[...,1]**2))**2 + x[...,2]**2 - minor_r**2\n",
    "\n",
    "def furthest_outside_torus(x, major_r, minor_r):\n",
    "  return np.max(point_distance_in_torus(x, major_r, minor_r))\n",
    "\n",
    "def get_enclosing_radius(surface:simsopt.geo.SurfaceRZFourier)->float:\n",
    "  # Find the minor radius that barely encloses the given fourier surface\n",
    "  enclosing_minor_radius = scipy.optimize.root_scalar(\n",
    "    functools.partial(furthest_outside_torus, surface.gamma(), surface.major_radius()), \n",
    "    bracket=[surface.minor_radius(), surface.major_radius()])\n",
    "  if not enclosing_minor_radius.converged:\n",
    "     raise RuntimeError(\"Could not find a torus that encloses the given surface\")\n",
    "  return enclosing_minor_radius.root\n",
    "\n",
    "def make_surf_from_radius(major_r, minor_r, nfp)->simsopt.geo.SurfaceRZFourier:\n",
    "  wrapping_torus = simsopt.geo.SurfaceRZFourier(5)\n",
    "  wrapping_torus.set_rc(0,0,major_r)\n",
    "  wrapping_torus.set_rc(1,0,minor_r)\n",
    "  wrapping_torus.set_zs(1,0,minor_r)\n",
    "  return wrapping_torus\n",
    "\n",
    "# Unit tests for the functions\n",
    "wrapping_torus = simsopt.geo.SurfaceRZFourier(5)\n",
    "assert((point_distance_in_torus(wrapping_torus.gamma(), 1, 0.10001)<0).all())\n",
    "assert(not (point_distance_in_torus(wrapping_torus.gamma(), 1, 0.09999)<0).all())\n",
    "assert(np.allclose(get_enclosing_radius(wrapping_torus), wrapping_torus.minor_radius()))\n",
    "# simsopt.geo.plot([psurf, make_surf_from_radius(psurf.major_radius(), get_enclosing_radius(psurf), wrapping_torus.nfp)],engine=\"plotly\")\n"
   ]
  },
  {
   "cell_type": "markdown",
   "metadata": {},
   "source": [
    "### Eval using bdistrib"
   ]
  },
  {
   "cell_type": "code",
   "execution_count": null,
   "metadata": {},
   "outputs": [],
   "source": [
    "import subprocess\n",
    "\n",
    "psurf = w7xsurf\n",
    "msurf = w7xsurf03\n",
    "osurf = w7xsurf06\n",
    "\n",
    "bdistrib_io.write_nescin_file(\"nescin.msurf\", msurf)\n",
    "bdistrib_io.write_nescin_file(\"nescin.osurf\", osurf)\n",
    "subprocess.check_call(\n",
    "    [\n",
    "        \"../bdistrib/bdistrib\",\n",
    "        bdistrib_io.write_bdistribin(\n",
    "            bdistrib_io.write_netcdf(\n",
    "                \"wout_surfaces_python_generated.nc\", psurf\n",
    "            ),\n",
    "            geometry_option=3,\n",
    "            geometry_info={\n",
    "                \"nescin_filename_middle\": \"nescin.msurf\",\n",
    "                \"nescin_filename_outer\": \"nescin.osurf\",\n",
    "            },\n",
    "        ),\n",
    "    ]\n",
    ")\n"
   ]
  },
  {
   "cell_type": "code",
   "execution_count": null,
   "metadata": {},
   "outputs": [],
   "source": [
    "import subprocess\n",
    "import surfgen\n",
    "\n",
    "# enclosing_r = get_enclosing_radius(psurf)\n",
    "# outer_offset = 0.2\n",
    "# assert(enclosing_r+outer_offset < psurf.major_radius())\n",
    "# subprocess.check_call([\"../bdistrib/bdistrib\",\n",
    "#                        write_bdistribin(write_netcdf(\"wout_surfaces_python_generated.nc\", psurf),\n",
    "#                           geometry_option=1,\n",
    "#                           geometry_info={\n",
    "#                             \"R0\":psurf.major_radius(),\n",
    "#                             \"a_middle\":enclosing_r+outer_offset/2,\n",
    "#                             \"a_outer\":enclosing_r+outer_offset\n",
    "#                           })])\n",
    "\n",
    "\n",
    "def analyze_coil_complexity_at_distance(\n",
    "    plasma_surface: simsopt.geo.SurfaceRZFourier, offset: float\n",
    "):\n",
    "    # msurf = surfgen.surfgen(plasma_surface, offset)\n",
    "    # assert offset * 2 < plasma_surface.major_radius()\n",
    "    # osurf = surfgen.surfgen(plasma_surface, offset * 2)\n",
    "\n",
    "    # bdistrib_io.write_nescin_file(\"nescin.msurf\", msurf)\n",
    "    # bdistrib_io.write_nescin_file(\"nescin.osurf\", osurf)\n",
    "    subprocess.check_call(\n",
    "        [\n",
    "            \"../bdistrib/bdistrib\",\n",
    "            bdistrib_io.write_bdistribin(\n",
    "                bdistrib_io.write_netcdf(\n",
    "                    \"wout_surfaces_python_generated.nc\", plasma_surface\n",
    "                ),\n",
    "                geometry_option=3,\n",
    "                geometry_info={\n",
    "                    \"nescin_filename_middle\": \"../equilibria/nescin.w7x_winding_surface_from_Drevlak\",\n",
    "                    \"nescin_filename_outer\": \"../equilibria/nescin.w7x_standardConfig_separation0.6\",\n",
    "                },\n",
    "            ),\n",
    "        ]\n",
    "    )\n",
    "    # Delete Debug Logs cause I don't know how to disable them\n",
    "    # subprocess.call([\"rm\", \"*.dat\"])\n",
    "    # subprocess.call([\"rm\", \"quasr_coil_check/*.dat\"])\n",
    "\n",
    "\n",
    "analyze_coil_complexity_at_distance(psurf, psurf.minor_radius())\n",
    "\n",
    "# subprocess.check_call([\"../bdistrib/bdistrib\",\n",
    "#                        write_bdistribin(write_netcdf(\"wout_surfaces_python_generated.nc\", psurf),\n",
    "#                                         geometry_option=2,\n",
    "#                                         geometry_info={\"sep_outer\":minimum_coil_surf_distance(curves, psurf)/2}\n",
    "#                                         )])\n"
   ]
  },
  {
   "cell_type": "code",
   "execution_count": null,
   "metadata": {},
   "outputs": [],
   "source": [
    "%matplotlib widget\n",
    "import bdistribPlot\n",
    "bdistribPlot.main(\"bdistrib_out.python_generated.nc\")\n"
   ]
  },
  {
   "cell_type": "markdown",
   "metadata": {},
   "source": [
    "# Something"
   ]
  },
  {
   "cell_type": "code",
   "execution_count": null,
   "metadata": {},
   "outputs": [],
   "source": [
    "for ID in range(1090000, 1150000):\n",
    "  simsopt_path = bdistrib_io.get_file_path(ID)\n",
    "  if os.path.exists(simsopt_path):\n",
    "    soptobj = simsopt.load(simsopt_path)\n",
    "\n",
    "    lcfs = soptobj[0][-1]\n",
    "    # XYZ tensor fourier -> RZ fourier\n",
    "    rzf = lcfs.to_RZFourier()\n",
    "    curves = [coil.curve for coil in soptobj[1]]\n",
    "    \n",
    "    bdistrib_out_path = bdistrib_io.get_file_path(ID, \"bdistrib\")\n",
    "    subprocess.check_call([\"mkdir\", \"-p\", os.path.dirname(bdistrib_out_path)])\n",
    "    analyze_coil_complexity_at_distance(rzf, rzf.minor_radius())\n",
    "    # Move results to correct directory\n",
    "    subprocess.check_call([\"mv\", \"bdistrib_out.python_generated.nc\", bdistrib_out_path, \"-u\"])\n",
    "  else:\n",
    "    print(\"Skipping\", simsopt_path)\n"
   ]
  },
  {
   "cell_type": "code",
   "execution_count": null,
   "metadata": {},
   "outputs": [],
   "source": [
    "efficiencies = []\n",
    "for ID in range(2000):\n",
    "  bdistrib_path = bdistrib_io.get_file_path(ID, \"bdistrib\")\n",
    "  if os.path.exists(bdistrib_path):\n",
    "    avg, stddev = bdistrib_util.rate_of_efficiency_sequence(bdistrib_path)\n",
    "    efficiencies.append({\"efficiency sequence rate of increase\":avg,\n",
    "                        \"efficiency sequence rate of increase (dev)\":stddev})\n",
    "df = df.join(pd.DataFrame(efficiencies))\n"
   ]
  },
  {
   "cell_type": "code",
   "execution_count": null,
   "metadata": {},
   "outputs": [],
   "source": [
    "coil = df[\"coils\"][0][0]\n",
    "coil.curve\n"
   ]
  },
  {
   "cell_type": "code",
   "execution_count": null,
   "metadata": {},
   "outputs": [],
   "source": [
    "import plotly.express as px \n",
    "\n",
    "px.scatter(df, \"volume\", \"efficiency sequence rate of increase\", error_y=\"efficiency sequence rate of increase (dev)\", color=\"nfp\")\n"
   ]
  },
  {
   "cell_type": "code",
   "execution_count": null,
   "metadata": {},
   "outputs": [],
   "source": [
    "import bdistribPlot\n",
    "\n",
    "for ID in range(1000, 2000):\n",
    "  bdistrib_path = bdistrib_io.get_file_path(ID, \"bdistrib\")\n",
    "  simsopt_path = bdistrib_io.get_file_path(ID, \"simsopt\")\n",
    "  if os.path.exists(bdistrib_path):\n",
    "    print(bdistrib_path)\n",
    "    bdistribPlot.main(bdistrib_path)\n",
    "    # soptobj = simsopt.load(simsopt_path)\n",
    "    # simsopt.geo.plot(soptobj[0] + soptobj[1], engine=\"plotly\")\n"
   ]
  },
  {
   "cell_type": "markdown",
   "metadata": {},
   "source": [
    "### What happens at a sharp corner? (Tokamak)"
   ]
  },
  {
   "cell_type": "code",
   "execution_count": null,
   "metadata": {},
   "outputs": [],
   "source": [
    "tokamak_surf = simsopt.geo.SurfaceRZFourier(nfp=2, stellsym=False, mpol=5, ntor=5)\n",
    "tokamak_surf.set_zs(1,0, 0.5)\n",
    "tokamak_surf.set_rc(1,0, 0.4)\n",
    "tokamak_surf.set_rs(1,0, 0.1)\n",
    "tokamak_surf.set_rs(2,0, 0.2)\n",
    "\n",
    "subprocess.check_call([\"../bdistrib/bdistrib\", write_bdistribin(write_netcdf(tokamak_surf), \n",
    "                                                                sep_outer=0.2)])\n",
    "\n",
    "bdistribPlot.main(\"bdistrib_out.tokamak.nc\")\n"
   ]
  },
  {
   "cell_type": "markdown",
   "metadata": {},
   "source": [
    "## Eval B.n on computational surfaces using the coils"
   ]
  },
  {
   "cell_type": "code",
   "execution_count": null,
   "metadata": {},
   "outputs": [],
   "source": [
    "def eval_row(row, plot=False):\n",
    "  coils = row[\"coils\"]\n",
    "  nfp = row[\"nfp\"]\n",
    "  R1 = row[\"R1\"]\n",
    "  lcfs = row[\"lcfs\"]\n",
    "  computational_surface = simsopt.geo.SurfaceRZFourier.from_nphi_ntheta(nfp=nfp, nphi=64, ntheta=64, range=\"half period\")\n",
    "\n",
    "  # Simple torus boundary\n",
    "  computational_surface.set_rc(1,0,R1*2.0)\n",
    "  computational_surface.set_zs(1,0,R1*2.0)\n",
    "  computational_surface.change_resolution(3,4)\n",
    "  # computational_surface.set_rc(2,1,np.random.rand())\n",
    "  # computational_surface.set_zs(1,2,np.random.rand())\n",
    "  normal_computational = computational_surface.normal()\n",
    "  xyz_computational = computational_surface.gamma()\n",
    "\n",
    "  # Scaled computational boundary\n",
    "  scale = 1.5\n",
    "  lcfs.scale(scale)\n",
    "  xyz_computational = lcfs.gamma()\n",
    "  normal_computational = lcfs.normal()\n",
    "  lcfs.scale(1.0 / scale)\n",
    "\n",
    "  bs = simsopt.field.BiotSavart(coils)\n",
    "  bs.set_points_cart(xyz_computational.reshape((-1,3)))\n",
    "  B = bs.B().reshape(xyz_computational.shape)\n",
    "  BdotN = np.sum(normal_computational * B, axis=-1)\n",
    "  BdotN_fft = np.fft.fft2(BdotN)\n",
    "  \n",
    "  if plot:\n",
    "    import plotly.express as px\n",
    "    # px.imshow(BdotN).show()\n",
    "    # px.imshow(np.abs(np.fft.fftshift(BdotN_fft))).show()\n",
    "    # px.imshow(np.real(np.fft.fftshift(BdotN_fft)), title=\"Real component\").show()\n",
    "    # px.imshow(np.imag(np.fft.fftshift(BdotN_fft)), title=\"Imag component\").show()\n",
    "    plt.figure(figsize=(16,5))\n",
    "    plt.subplot(131)\n",
    "    plt.imshow(BdotN)\n",
    "    plt.title(\"BdotN\")\n",
    "    plt.colorbar()\n",
    "    plt.subplot(132)\n",
    "    plt.imshow(np.real(np.fft.fftshift(BdotN_fft)))\n",
    "    plt.title(\"fft real\")\n",
    "    plt.colorbar()\n",
    "    plt.subplot(133)\n",
    "    plt.imshow(np.imag(np.fft.fftshift(BdotN_fft)))\n",
    "    plt.title(\"fft imag\")\n",
    "    plt.colorbar()\n",
    "    # plt.tight_layout()\n",
    "    plt.show()\n",
    "\n",
    "  return BdotN_fft\n",
    "\n",
    "for idx,row in df.iterrows():\n",
    "  eval_row(row, False)\n"
   ]
  }
 ],
 "metadata": {
  "kernelspec": {
   "display_name": ".venv",
   "language": "python",
   "name": "python3"
  },
  "language_info": {
   "codemirror_mode": {
    "name": "ipython",
    "version": 3
   },
   "file_extension": ".py",
   "mimetype": "text/x-python",
   "name": "python",
   "nbconvert_exporter": "python",
   "pygments_lexer": "ipython3",
   "version": "3.11.2"
  }
 },
 "nbformat": 4,
 "nbformat_minor": 2
}
